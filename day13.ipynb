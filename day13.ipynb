{
 "cells": [
  {
   "metadata": {},
   "cell_type": "markdown",
   "source": [
    "## 常用数据结构之字典\n",
    "***\n",
    "迄今为止，已经介绍了Python中的三种窗口型数据类型（列表、元组、集合），但是这些数据类型仍不足以帮助解决所有的问题。例如，需要一个亦是来保存一个人的多项信息，包括：姓名、年龄、身高、体重、住址、本人手机号、紧急联系人手机号，这些之前的类型都不好用。"
   ],
   "id": "1a9aed06bc66d2b7"
  },
  {
   "metadata": {},
   "cell_type": "code",
   "outputs": [],
   "execution_count": null,
   "source": [
    "person1 = ['chenzq', 55, 168, 60, 'nanjing', '13100000000', '13800000000']\n",
    "person2 = ['chenzq', 55, 168, 60, 'nanjing', '13100000000', '13800000000']\n",
    "person3 = ['chenzq', 55, 168, 60, 'nanjing', '13100000000', '13800000000']"
   ],
   "id": "9aa4c1f7df296ec9"
  },
  {
   "metadata": {},
   "cell_type": "markdown",
   "source": [
    "集合肯定是最不合适的，因为集合中不能有重复元素，如果一个人年龄和体重刚好相同，那么集合中就会少一项信息；同理，如果这个人的手机号和紧急联系人的手机号是相同的，那么集合中又会少一项信息。另一方面，虽然列表和元组可以把一个人的所有信息都保存下来，但是当想要获取这个人的手机号或家庭住址的时候，需要先知道他的手机号是列表或元组中的第几个元素。总之，在遇到上述场景时，列表、元组、集合都不是最合适的选择，此时则需要字典（dictionary）类型，这种类型最适合把相关联的信息组装到一起，可以帮助我们解决Python程序中**为真实事物建模**的问题。\n",
    "\n",
    "说到字典这个词，常见的《新华字典》如图所示：\n",
    "![image_dictionary](./image/image_dictionary.jpg)\n",
    "Python程序中的字典，以键值对（键和值组合）的方式把数据组织到一起，可以通过键找到与之对应的值并进行操作\n",
    "\n",
    "## 创建和使用字典\n",
    "\n",
    "Python中创建字典可以使用`{}`字面量语法，这一点与集合是一样的。但是字典中的`{}`中的元素是以键值对的形式存在的，每个元素由`:`分隔的两俱值构成，`:`前面是键，`:`后面是值，代码如下面所示："
   ],
   "id": "dcf5c46af5743901"
  },
  {
   "metadata": {
    "ExecuteTime": {
     "end_time": "2025-10-24T07:51:18.360087Z",
     "start_time": "2025-10-24T07:51:18.354841Z"
    }
   },
   "cell_type": "code",
   "source": [
    "xinhua = {\n",
    "    '麓':'山脚下',\n",
    "    '路':'道，往来通行的地方；方面，地区：南～货，外～货；各类：他俩是一～人',\n",
    "    '蕗':'甘草的别名',\n",
    "    '潞':'潞水，水名，即今山西省的浊漳河；潞江，水名，即云南省的怒江'\n",
    "}\n",
    "print(xinhua)"
   ],
   "id": "47cca6b6bd005734",
   "outputs": [
    {
     "name": "stdout",
     "output_type": "stream",
     "text": [
      "{'麓': '山脚下', '路': '道，往来通行的地方；方面，地区：南～货，外～货；各类：他俩是一～人', '蕗': '甘草的别名', '潞': '潞水，水名，即今山西省的浊漳河；潞江，水名，即云南省的怒江'}\n"
     ]
    }
   ],
   "execution_count": 1
  },
  {
   "metadata": {
    "ExecuteTime": {
     "end_time": "2025-10-24T07:54:43.535926Z",
     "start_time": "2025-10-24T07:54:43.532855Z"
    }
   },
   "cell_type": "code",
   "source": [
    "person = {\n",
    "    'name':'王大锤',\n",
    "    'age': 55,\n",
    "    'height': 168,\n",
    "    'addr':'Nanjin',\n",
    "    'tel':'13000000000',\n",
    "    'emergency contact':'13800000000'\n",
    "}\n",
    "print(person)"
   ],
   "id": "3a07f613f1a942f0",
   "outputs": [
    {
     "name": "stdout",
     "output_type": "stream",
     "text": [
      "{'name': '王大锤', 'age': 55, 'height': 168, 'addr': 'Nanjin', 'tel': '13000000000', 'emergency contact': '13800000000'}\n"
     ]
    }
   ],
   "execution_count": 2
  },
  {
   "metadata": {},
   "cell_type": "markdown",
   "source": [
    "通过上面的代码，相信已经可以看出，用字典来保存一个人的信息远远优于使用列表或都元组，困为可以用`:`前面的键来表示条目的含义，而`:`后面就是这个条目所对应的值。\n",
    "\n",
    "当然，也可以使用内置函数`dict`或者是字典的生成式语法来创建字典，代码如下所示。"
   ],
   "id": "394b02d5729aec8e"
  },
  {
   "metadata": {
    "ExecuteTime": {
     "end_time": "2025-10-24T07:57:39.138603Z",
     "start_time": "2025-10-24T07:57:39.135726Z"
    }
   },
   "cell_type": "code",
   "source": [
    "# dict函数（构造器）中第一组参数就是字典中的一组键值对\n",
    "person = dict(name = 'wangdachui', age = 55, height = 168, weight = 58, addr = 'nanjing')\n",
    "print(person)"
   ],
   "id": "3eb961447b2caff0",
   "outputs": [
    {
     "name": "stdout",
     "output_type": "stream",
     "text": [
      "{'name': 'wangdachui', 'age': 55, 'height': 168, 'weight': 58, 'addr': 'nanjing'}\n"
     ]
    }
   ],
   "execution_count": 3
  },
  {
   "metadata": {
    "ExecuteTime": {
     "end_time": "2025-10-24T07:59:43.946363Z",
     "start_time": "2025-10-24T07:59:43.943155Z"
    }
   },
   "cell_type": "code",
   "source": [
    "# 可以通过Python内置函数zip压缩两个序列并创建字典\n",
    "items1 = dict(zip('ABCDE', '12345'))\n",
    "print(items1) # {'A': '1', 'B': '2', 'C': '3', 'D': '4', 'E': '5'}\n",
    "\n",
    "items2 = dict(zip('ABCDE', range(1,10)))\n",
    "print(items2) # {'A': 1, 'B': 2, 'C': 3, 'D': 4, 'E': 5}"
   ],
   "id": "a3291385dab9bd4d",
   "outputs": [
    {
     "name": "stdout",
     "output_type": "stream",
     "text": [
      "{'A': '1', 'B': '2', 'C': '3', 'D': '4', 'E': '5'}\n",
      "{'A': 1, 'B': 2, 'C': 3, 'D': 4, 'E': 5}\n"
     ]
    }
   ],
   "execution_count": 5
  },
  {
   "metadata": {
    "ExecuteTime": {
     "end_time": "2025-10-24T08:01:02.675768Z",
     "start_time": "2025-10-24T08:01:02.672923Z"
    }
   },
   "cell_type": "code",
   "source": [
    "# 用生成式语法创建字典\n",
    "items3 = {x: x ** 3 for x in range(1, 6)}\n",
    "print(items3) # {1: 1, 2: 8, 3: 27, 4: 64, 5: 125}"
   ],
   "id": "826f2edbef651879",
   "outputs": [
    {
     "name": "stdout",
     "output_type": "stream",
     "text": [
      "{1: 1, 2: 8, 3: 27, 4: 64, 5: 125}\n"
     ]
    }
   ],
   "execution_count": 6
  },
  {
   "metadata": {},
   "cell_type": "markdown",
   "source": "想知道字典中一共有多少组键值对，仍然是使用`len`函数；如果相对字典进行遍历，可以用`for`循环，但是需要注意，for循环只是对字典的键进行了遍历，不过没有关系，在学习了字典的索引去处后，可以通过字典的键访问它所对应的值。",
   "id": "8c8cb0500da64ee8"
  },
  {
   "metadata": {
    "ExecuteTime": {
     "end_time": "2025-10-24T08:05:46.322567Z",
     "start_time": "2025-10-24T08:05:46.319771Z"
    }
   },
   "cell_type": "code",
   "source": [
    "person = {\n",
    "    'name' : 'wangdachui',\n",
    "    'age' : 55,\n",
    "    'height' : 168,\n",
    "    'weight' : 60,\n",
    "    'addr' : 'nanjing'\n",
    "}\n",
    "print(len(person)) # 5\n",
    "\n",
    "for key in person:\n",
    "    print(key)"
   ],
   "id": "7e81b99a27514ad8",
   "outputs": [
    {
     "name": "stdout",
     "output_type": "stream",
     "text": [
      "5\n",
      "name\n",
      "age\n",
      "height\n",
      "weight\n",
      "addr\n"
     ]
    }
   ],
   "execution_count": 9
  },
  {
   "metadata": {},
   "cell_type": "markdown",
   "source": [
    "## 字典的运算\n",
    "对于字典类型来说，成员运算和索引运算是非常重要的，前者可以判定指定的键在不在字典中，后者可以通过键访问对应的值或者向字典中添加新的键值对。值得注意的是，字典的索引不同于列表的索引，列表中的元素因为有属于自己的序号，所以列表的索引是一个整数；字典中因为保存的是键值对，所以字典需要**用键去索引对应的值**。需要特别注意的是，**字典中的键必须是不可变类型**，例如整数(`int`)、浮点数(`float`)、字符串(`str`)、元组(`tuple`)等类型，这一点跟集合类型对元素的要求是一样的；很显然，列表(`list`)和集合(`set`)不能作为字典中的键，字典(`dict`)类型本身也不能再作为字典中的键，因为字典也是可变类型，但是列表、集合、字典都可以作为字典中的值，例如："
   ],
   "id": "aa8bea80f01056b2"
  },
  {
   "metadata": {
    "ExecuteTime": {
     "end_time": "2025-10-24T08:14:23.213072Z",
     "start_time": "2025-10-24T08:14:23.209768Z"
    }
   },
   "cell_type": "code",
   "source": [
    "person = {\n",
    "    'name' : 'wangdachui',\n",
    "    'age' : 55,\n",
    "    'height' : 168,\n",
    "    'weight' : 60,\n",
    "    'addr' : ['nanijng', 'beijing'],\n",
    "    'car' : {\n",
    "        'brand' : 'BMW X7',\n",
    "        'maxSpeed' : '250',\n",
    "        'length' : 5170,\n",
    "        'width' : 2000,\n",
    "        'height' : 1835,\n",
    "        'displacement' : 3.0\n",
    "    }\n",
    "}\n",
    "print(person)"
   ],
   "id": "69365d43380034c0",
   "outputs": [
    {
     "name": "stdout",
     "output_type": "stream",
     "text": [
      "{'name': 'wangdachui', 'age': 55, 'height': 168, 'weight': 60, 'addr': ['nanijng', 'beijing'], 'car': {'brand': 'BMW X7', 'maxSpeed': '250', 'length': 5170, 'width': 2000, 'height': 1835, 'displacement': 3.0}}\n"
     ]
    }
   ],
   "execution_count": 10
  },
  {
   "metadata": {
    "ExecuteTime": {
     "end_time": "2025-10-24T08:26:10.002775Z",
     "start_time": "2025-10-24T08:26:09.999010Z"
    }
   },
   "cell_type": "code",
   "source": [
    "# 以下是字典的成员运算和索引运算\n",
    "person = {'name': 'wangdachui', 'age': 55, 'height': 168, 'weight': 60, 'addr': 'nanjing'}\n",
    "\n",
    "# 成员运算\n",
    "print('name' in person) # True\n",
    "print('tel' in person) # False\n",
    "\n",
    "# 索引运算\n",
    "print(person['name']) # wangdachui\n",
    "print(person['addr']) # nanjing\n",
    "person['age'] = 25\n",
    "person['height'] = 178\n",
    "person['tel'] = '13100000000'\n",
    "person['signature'] = '你的男朋友是一个盖世垃圾，他会踏着五彩祥云去迎娶你的闺蜜'\n",
    "\n",
    "print(person)\n",
    "\n",
    "# 循环遍历\n",
    "for key in person:\n",
    "    print(f'{key}:\\t{person[key]}')"
   ],
   "id": "f20b1c8e743f1d8",
   "outputs": [
    {
     "name": "stdout",
     "output_type": "stream",
     "text": [
      "True\n",
      "False\n",
      "wangdachui\n",
      "nanjing\n",
      "{'name': 'wangdachui', 'age': 25, 'height': 178, 'weight': 60, 'addr': 'nanjing', 'tel': '13100000000', 'signature': '你的男朋友是一个盖世垃圾，他会踏着五彩祥云去迎娶你的闺蜜'}\n",
      "name:\twangdachui\n",
      "age:\t25\n",
      "height:\t178\n",
      "weight:\t60\n",
      "addr:\tnanjing\n",
      "tel:\t13100000000\n",
      "signature:\t你的男朋友是一个盖世垃圾，他会踏着五彩祥云去迎娶你的闺蜜\n"
     ]
    }
   ],
   "execution_count": 7
  },
  {
   "metadata": {},
   "cell_type": "markdown",
   "source": [
    "## 字典的方法\n",
    "字典类型的方法基础是都跟字典的键值对操作相关，其中`get`方法可以通过键来获得对应的值。跟索引运算不同的是，`get`方法在字典中没有指定的键时不会产生异常，而是返回`None`或指定的默认值，代码如下所示："
   ],
   "id": "c689de70151c9947"
  },
  {
   "metadata": {
    "ExecuteTime": {
     "end_time": "2025-10-24T08:29:39.875574Z",
     "start_time": "2025-10-24T08:29:39.872362Z"
    }
   },
   "cell_type": "code",
   "source": [
    "person = {'name': 'wangdachui', 'age': 55, 'height': 168, 'weight': 60, 'addr': 'nanjing'}\n",
    "\n",
    "print(person.get('name')) # wangdachui\n",
    "print(person.get('sex')) # None\n",
    "print(person.get('sex', True)) # True"
   ],
   "id": "743971813accc26c",
   "outputs": [
    {
     "name": "stdout",
     "output_type": "stream",
     "text": [
      "wangdachui\n",
      "None\n",
      "True\n"
     ]
    }
   ],
   "execution_count": 10
  },
  {
   "metadata": {},
   "cell_type": "markdown",
   "source": "如果需要获取字典中所有的键，还可以使用`keys`方法；如果需要获取字典中的所有的值，可以使用`values`方法。字典还有一个名为`items`的方法，它会将键和值组装成二元组，通过该方法来遍历字典中的元素也是非常方便的。",
   "id": "9bd77eb8ae02f902"
  },
  {
   "metadata": {
    "ExecuteTime": {
     "end_time": "2025-10-24T08:33:48.440327Z",
     "start_time": "2025-10-24T08:33:48.434322Z"
    }
   },
   "cell_type": "code",
   "source": [
    "person = {'name': 'wangdachui', 'age': 55, 'height': 168}\n",
    "\n",
    "print(person.keys()) # dict_keys(['name', 'age', 'height'])\n",
    "print(person.values) # <built-in method values of dict object at 0x104dfd440>\n",
    "print(person.values()) # dict_values(['wangdachui', 55, 168])\n",
    "for key, value in person.items():\n",
    "    print(f'{key}:\\t{value}')"
   ],
   "id": "db03d589ce7363ea",
   "outputs": [
    {
     "name": "stdout",
     "output_type": "stream",
     "text": [
      "dict_keys(['name', 'age', 'height'])\n",
      "<built-in method values of dict object at 0x104dfa200>\n",
      "dict_values(['wangdachui', 55, 168])\n",
      "name:\twangdachui\n",
      "age:\t55\n",
      "height:\t168\n"
     ]
    }
   ],
   "execution_count": 15
  },
  {
   "metadata": {},
   "cell_type": "markdown",
   "source": "字典的`update`方法实现两个字典的合并操作。例如，有两个字典`x`和`y`，当执行`x.update(y)`操作时，`x`跟`y`相同的键会被`y`中的值更新，而`y`中有但`x`中没有的键值对直接添加到x中，代码如下所示。",
   "id": "4914d58e4cfdd76a"
  },
  {
   "metadata": {
    "ExecuteTime": {
     "end_time": "2025-10-24T08:39:47.695232Z",
     "start_time": "2025-10-24T08:39:47.691921Z"
    }
   },
   "cell_type": "code",
   "source": [
    "person1 = {'name': 'wangdachui', 'age': 55, 'height': 168}\n",
    "person2 = {'age' : 25, 'addr' : 'nanjing'}\n",
    "\n",
    "# person1 |= person2\n",
    "person1.update(person2)\n",
    "print(person1) # {'name': 'wangdachui', 'age': 25, 'height': 168, 'addr': 'nanjing'}\n"
   ],
   "id": "370ad0556d7467a",
   "outputs": [
    {
     "name": "stdout",
     "output_type": "stream",
     "text": [
      "{'name': 'wangdachui', 'age': 25, 'height': 168, 'addr': 'nanjing'}\n"
     ]
    }
   ],
   "execution_count": 17
  },
  {
   "metadata": {},
   "cell_type": "markdown",
   "source": "可以通过`pop`或`popitem`方法从字典中删除元素，前者会返回（获得）键对应的值，但是如果字典中不存在指定的键，会引发`KeyError`错误；后者在删除元素时，会返回（获得）键和值组成的二元组。字典的`clear`方法会清空字典中所有的键值对，代码如下所示：",
   "id": "8c3ecbeb96464ac1"
  },
  {
   "metadata": {
    "ExecuteTime": {
     "end_time": "2025-10-24T08:41:37.557016Z",
     "start_time": "2025-10-24T08:41:37.553301Z"
    }
   },
   "cell_type": "code",
   "source": [
    "person = {'name': 'wangdachui', 'age': 55, 'height': 168, 'weight': 60, 'addr': 'nanjing'}\n",
    "print(person.pop('age')) # 55\n",
    "print(person) # {'name': 'wangdachui', 'height': 168, 'weight': 60, 'addr': 'nanjing'}\n",
    "\n",
    "print(person.popitem()) # ('addr', 'nanjing')\n",
    "print(person) # {'name': 'wangdachui', 'height': 168, 'weight': 60}\n",
    "\n",
    "person.clear()\n",
    "print(person) # {}"
   ],
   "id": "c13e2b0d1b827f67",
   "outputs": [
    {
     "name": "stdout",
     "output_type": "stream",
     "text": [
      "55\n",
      "{'name': 'wangdachui', 'height': 168, 'weight': 60, 'addr': 'nanjing'}\n",
      "('addr', 'nanjing')\n",
      "{'name': 'wangdachui', 'height': 168, 'weight': 60}\n",
      "{}\n"
     ]
    }
   ],
   "execution_count": 22
  },
  {
   "metadata": {},
   "cell_type": "markdown",
   "source": "跟列表一样，从字典中删除元素也要以使用`del`关键字，在删除元素的时候如果指定的键索引找不到对应的值，一样会引发KeyError错误，具体的做法如下所示。",
   "id": "41e948bff2f433e7"
  },
  {
   "metadata": {
    "ExecuteTime": {
     "end_time": "2025-10-24T08:45:12.502759Z",
     "start_time": "2025-10-24T08:45:12.499234Z"
    }
   },
   "cell_type": "code",
   "source": [
    "person = {'name': 'wangdachui', 'age': 55, 'height': 168, 'weight': 60, 'addr': 'nanjing'}\n",
    "del person['age']\n",
    "del person['addr']\n",
    "print(person) # {'name': 'wangdachui', 'height': 168, 'weight': 60}\n",
    "\n",
    "if 'height' in person:\n",
    "    del person['height']\n",
    "    print(person) # {'name': 'wangdachui', 'weight': 60}\n",
    "\n",
    "# del person['signature']\n",
    "# print(person) # KeyError:'signature'"
   ],
   "id": "65b55f5d843ca244",
   "outputs": [
    {
     "name": "stdout",
     "output_type": "stream",
     "text": [
      "{'name': 'wangdachui', 'height': 168, 'weight': 60}\n",
      "{'name': 'wangdachui', 'weight': 60}\n"
     ]
    }
   ],
   "execution_count": 26
  },
  {
   "metadata": {},
   "cell_type": "markdown",
   "source": [
    "## 字典的应用\n",
    "以下通过几个例子看一下字典类型解决一些实际的问题：\n",
    "\n",
    "**例子1**：输入一段等方面，统计每个英文字母出现的次数，按出从高到低输入。"
   ],
   "id": "480394f57955b3a7"
  },
  {
   "metadata": {
    "ExecuteTime": {
     "end_time": "2025-10-24T08:59:28.526982Z",
     "start_time": "2025-10-24T08:59:21.071040Z"
    }
   },
   "cell_type": "code",
   "source": [
    "sentence = input('请输入一段话（英文）：')\n",
    "# Man is distinguished, not only by his reason, but by this singular passion from other animals, which is a lust of the mind, that by a perseverance of delight in the continued and indefatigable generation of knowledge, exceeds the short vehemence of any carnal pleasure.\n",
    "counter = {}\n",
    "for ch in sentence:\n",
    "    if 'A' <= ch <= 'Z' or 'a' <= ch <= 'z':\n",
    "        counter[ch] = counter.get(ch, 0) + 1 # 获取键 ch 对应的值，如果键不存在则返回默认值 0,安全地获取字典值，避免 KeyError\n",
    "        '''\n",
    "        # 等价于：\n",
    "        if ch in counter:\n",
    "            counter[ch] = counter[ch] + 1\n",
    "        else:\n",
    "            counter[ch] = 1\n",
    "        '''\n",
    "sorted_keys = sorted(counter, key = counter.get, reverse = True)\n",
    "\n",
    "for key in sorted_keys:\n",
    "    print(f'{key}出现了{counter[key]}次')"
   ],
   "id": "510b9e1e7d44a661",
   "outputs": [
    {
     "name": "stdout",
     "output_type": "stream",
     "text": [
      "e出现了27次\n",
      "n出现了21次\n",
      "a出现了18次\n",
      "i出现了18次\n",
      "s出现了16次\n",
      "t出现了16次\n",
      "o出现了14次\n",
      "h出现了13次\n",
      "r出现了10次\n",
      "d出现了9次\n",
      "l出现了9次\n",
      "g出现了6次\n",
      "u出现了6次\n",
      "f出现了6次\n",
      "c出现了6次\n",
      "y出现了5次\n",
      "b出现了5次\n",
      "m出现了4次\n",
      "p出现了3次\n",
      "w出现了2次\n",
      "v出现了2次\n",
      "M出现了1次\n",
      "k出现了1次\n",
      "x出现了1次\n"
     ]
    }
   ],
   "execution_count": 1
  },
  {
   "metadata": {},
   "cell_type": "markdown",
   "source": [
    "**例子2**：在一个字典中保存了股票的代码和价格，找出股价大于100元的股票，并创建一个新的字典。\n",
    "> 说明：可以用字典的生成式语法来创建这个字典"
   ],
   "id": "da495fee4b0b54e2"
  },
  {
   "metadata": {
    "ExecuteTime": {
     "end_time": "2025-10-24T14:55:10.727528Z",
     "start_time": "2025-10-24T14:55:10.720335Z"
    }
   },
   "cell_type": "code",
   "source": [
    "stocks = {\n",
    "    'APPL' : 199.88,\n",
    "    'GOOG' : 1186.96,\n",
    "    'IBM' : 149.24,\n",
    "    'OCRL' : 48.44,\n",
    "    'ACN' : 166.89,\n",
    "    'FB' : 208.09,\n",
    "    'SYMC' : 21.29\n",
    "}\n",
    "\n",
    "stocks2 = {key: value for key, value in stocks.items() if value > 100}\n",
    "print(stocks2) # {'APPL': 199.88, 'GOOG': 1186.96, 'IBM': 149.24, 'ACN': 166.89, 'FB': 208.09}"
   ],
   "id": "ca8814e1749eb0eb",
   "outputs": [
    {
     "name": "stdout",
     "output_type": "stream",
     "text": [
      "{'APPL': 199.88, 'GOOG': 1186.96, 'IBM': 149.24, 'ACN': 166.89, 'FB': 208.09}\n"
     ]
    }
   ],
   "execution_count": 2
  },
  {
   "metadata": {},
   "cell_type": "markdown",
   "source": [
    "## 总结\n",
    "Python程序中的字典跟现实生活中的字典非常像，允许我们以键值对的形式保存数据，再通过键访问对应的值。字典是一种非常有利于数据检索的数据类型，但是需要再次明确，**字典中的键必须是不可变类型**， 列表、集合、字典等类型的数据都不能作为字典的键。"
   ],
   "id": "73e51805aa45055f"
  }
 ],
 "metadata": {
  "kernelspec": {
   "name": "python3",
   "language": "python",
   "display_name": "Python 3 (ipykernel)"
  }
 },
 "nbformat": 5,
 "nbformat_minor": 9
}
