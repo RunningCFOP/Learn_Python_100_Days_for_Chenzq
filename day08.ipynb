{
 "cells": [
  {
   "metadata": {},
   "cell_type": "markdown",
   "source": [
    "## 常用数据结构之————列表（1）\n",
    "***\n",
    "先完成如下任务，用1到6均匀分布的随机数来模拟掷骰子，然后用6个变量分别记录每个点数出现的次数，将一颗骰子掷6000次。"
   ],
   "id": "ff19865a46e16f2b"
  },
  {
   "metadata": {
    "ExecuteTime": {
     "end_time": "2025-10-11T02:07:27.163376Z",
     "start_time": "2025-10-11T02:07:27.153902Z"
    }
   },
   "cell_type": "code",
   "source": [
    "import random\n",
    "\n",
    "t1, t2 ,t3, t4, t5, t6 = 0, 0, 0, 0, 0, 0\n",
    "# print(f'{t1},{t2},{t3},{t4},{t5},{t6}')\n",
    "\n",
    "for _ in range(6000):\n",
    "    k = random.randrange(1,7)\n",
    "    if k == 1:\n",
    "        t1 += 1\n",
    "    elif k == 2:\n",
    "        t2 += 1\n",
    "    elif k ==3:\n",
    "        t3 += 1\n",
    "    elif k == 4:\n",
    "        t4 += 1\n",
    "    elif k == 5:\n",
    "        t5 += 1\n",
    "    elif k == 6:\n",
    "        t6 +=1\n",
    "\n",
    "print(f'{t1 = },{t2 = },{t3 = },{t4 = },{t5 = },{t6 = }')\n"
   ],
   "id": "9f067c577a6f03ba",
   "outputs": [
    {
     "name": "stdout",
     "output_type": "stream",
     "text": [
      "t1 = 974,t2 = 1038,t3 = 1014,t4 = 1000,t5 = 981,t6 = 993\n"
     ]
    }
   ],
   "execution_count": 4
  },
  {
   "metadata": {},
   "cell_type": "markdown",
   "source": [
    "有没有办法用一个变量来保存多个数据来保存多个数据，有没有办法用统一的代码对多个数据进行操作？\\\n",
    "在Python中，可以通过容器型变量业保存和操作多个个数据，首先为大家介绍列表`list`这个新的数据类型。\n",
    "\n",
    "## 创建列表\n",
    "在Python中，**列表是由一一系元素按特定顺序构成的数据序列**，这意味着如果我们定义一个列表类型的变量，**可以用它来保存多个数据**。在Python中，可以用`[]`字面量语法来定义列表，列表中的多个元素用逗号进行分隔，代码如下所示："
   ],
   "id": "2df16b756ec0a860"
  },
  {
   "metadata": {
    "ExecuteTime": {
     "end_time": "2025-10-11T02:14:40.184048Z",
     "start_time": "2025-10-11T02:14:40.180388Z"
    }
   },
   "cell_type": "code",
   "source": [
    "items1 = [35, 12, 99, 68, 55, 35, 87]\n",
    "items2 = ['Python', 'Java', 'Go', 'Kotlin']\n",
    "items3 = [100, 12.3, 'Python', True]\n",
    "print(items1)\n",
    "print(items2)\n",
    "print(items3)"
   ],
   "id": "231ccc0e8e90904a",
   "outputs": [
    {
     "name": "stdout",
     "output_type": "stream",
     "text": [
      "[35, 12, 99, 68, 55, 35, 87]\n",
      "['Python', 'Java', 'Go', 'Kotlin']\n",
      "[100, 12.3, 'Python', True]\n"
     ]
    }
   ],
   "execution_count": 5
  },
  {
   "metadata": {},
   "cell_type": "markdown",
   "source": [
    "> 说明：列表中可以有重复元素，例如`items1`中`35`；列表中可以有不同类型的元素，例如`items`中有`int`型、`float`型、`str`类型和`bool`类型的元素，但是我们通常并不建议将不同类型的元素放在同一个列表中，主是是操作起来极为不便。\n",
    "\n",
    "\n",
    "我们可以以用例`type`函数来查看变量的类型。因为列表可以保存多个元素，它是一种容器型的数据类型，因此在给gqod变量起名字时，变量名通常用**复数**形式的英文单词。\n",
    "\n",
    "\n"
   ],
   "id": "294fc526a665c5fb"
  },
  {
   "metadata": {
    "ExecuteTime": {
     "end_time": "2025-10-11T02:21:51.515058Z",
     "start_time": "2025-10-11T02:21:51.509090Z"
    }
   },
   "cell_type": "code",
   "source": "type(items1) # list",
   "id": "77ea72e3339da331",
   "outputs": [
    {
     "data": {
      "text/plain": [
       "list"
      ]
     },
     "execution_count": 6,
     "metadata": {},
     "output_type": "execute_result"
    }
   ],
   "execution_count": 6
  },
  {
   "metadata": {},
   "cell_type": "markdown",
   "source": "除此以外，还可以通过Python内置的`list`函数将其它序列变成列表。准确的说，`list`并不是一个普通的函数，它是创建列表对象的构造器。",
   "id": "a91f950307f121f5"
  },
  {
   "metadata": {
    "ExecuteTime": {
     "end_time": "2025-10-11T02:32:23.165503Z",
     "start_time": "2025-10-11T02:32:23.162402Z"
    }
   },
   "cell_type": "code",
   "source": [
    "items4 = list(range(1, 10))\n",
    "items5 = list('hello')\n",
    "print(items4) # [1, 2, 3, 4, 5, 6, 7, 8, 9]\n",
    "print(items5) # ['h', 'e', 'l', 'l', 'o']\n",
    "print(range(1, 10)) # range(1, 10)"
   ],
   "id": "f3f6defe542ca22f",
   "outputs": [
    {
     "name": "stdout",
     "output_type": "stream",
     "text": [
      "[1, 2, 3, 4, 5, 6, 7, 8, 9]\n",
      "['h', 'e', 'l', 'l', 'o']\n",
      "range(1, 10)\n"
     ]
    }
   ],
   "execution_count": 8
  },
  {
   "metadata": {},
   "cell_type": "markdown",
   "source": [
    "> 说明：`range(1,10)`会产生`1`到`9`的整数序列，给到`list`构造器中，会创建出由`1`到`9`的整数构成的列表。字符串是字符构成的序列，上面的`list('hello')`用字符串`hello`的字符作为列表元素，创建了列表对象。\n",
    "\n",
    "\n",
    "## 列表的运算\n",
    "我们可以使用`+`运算实现两个列表的拼接，拼接运算会将两个列表中的元素连接起来放到一个列表中，代码如下所示："
   ],
   "id": "73137c31f79ee45e"
  },
  {
   "metadata": {
    "ExecuteTime": {
     "end_time": "2025-10-11T02:59:33.574385Z",
     "start_time": "2025-10-11T02:59:33.570731Z"
    }
   },
   "cell_type": "code",
   "source": [
    "items5 = [32, 12, 99, 45, 66]\n",
    "items6 = [45, 58, 29]\n",
    "items7 = ['Python', 'Java', 'JavaScript']\n",
    "\n",
    "print(items5 + items6) # [32, 12, 99, 45, 66, 45, 58, 29]\n",
    "print(items6 + items7) # [45, 58, 29, 'Python', 'Java', 'JavaScript']\n",
    "\n",
    "items5 += items6\n",
    "print(items5) # [32, 12, 99, 45, 66, 45, 58, 29]\n"
   ],
   "id": "9e55ae621ff14505",
   "outputs": [
    {
     "name": "stdout",
     "output_type": "stream",
     "text": [
      "[32, 12, 99, 45, 66, 45, 58, 29]\n",
      "[45, 58, 29, 'Python', 'Java', 'JavaScript']\n",
      "[32, 12, 99, 45, 66, 45, 58, 29]\n"
     ]
    }
   ],
   "execution_count": 9
  },
  {
   "metadata": {},
   "cell_type": "markdown",
   "source": "还可以使用`*`运算符实现列表的重复运算，`*`运行会将列表元素重复指定的次数。",
   "id": "b08427f1d701a4f2"
  },
  {
   "metadata": {
    "ExecuteTime": {
     "end_time": "2025-10-11T03:01:50.334737Z",
     "start_time": "2025-10-11T03:01:50.331459Z"
    }
   },
   "cell_type": "code",
   "source": [
    "items6 = [45, 58, 29]\n",
    "items7 = ['Python', 'Java', 'JavaScript']\n",
    "\n",
    "print(items6 * 3)\n",
    "print(items7 * 2)"
   ],
   "id": "50e390f8eea0c95e",
   "outputs": [
    {
     "name": "stdout",
     "output_type": "stream",
     "text": [
      "[45, 58, 29, 45, 58, 29, 45, 58, 29]\n",
      "['Python', 'Java', 'JavaScript', 'Python', 'Java', 'JavaScript']\n"
     ]
    }
   ],
   "execution_count": 10
  },
  {
   "metadata": {},
   "cell_type": "markdown",
   "source": "可以使用`in`或`not in`运算来判断一个元素在不在列表中",
   "id": "3cdd6a0d97b0a72f"
  },
  {
   "metadata": {
    "ExecuteTime": {
     "end_time": "2025-10-11T03:04:13.064260Z",
     "start_time": "2025-10-11T03:04:13.061307Z"
    }
   },
   "cell_type": "code",
   "source": [
    "items6 = [45, 58, 29]\n",
    "items7 = ['Python', 'Java', 'JavaScript']\n",
    "\n",
    "print(29 in items6, end = ' ')\n",
    "print(99 in items6, end = ' ')\n",
    "print('C++' not in items7, end = ' ')\n",
    "print('Python' not in items7, end = ' ')"
   ],
   "id": "86bff06f6e35937f",
   "outputs": [
    {
     "name": "stdout",
     "output_type": "stream",
     "text": [
      "True False True False "
     ]
    }
   ],
   "execution_count": 12
  },
  {
   "metadata": {},
   "cell_type": "markdown",
   "source": [
    "由于列表中有多个元素，而且元素是按照特定顺序放在列表中的，所以我们想操作列表中的某个元素时，可以使用`[]`运算符，通过在`[]`中指定元素的位置来访问该元素，这种运算称为索引运算。需要说明的是，`[]`元素的位置可以是`0`到`N-1`的整数，也可以是`-1`到`-N`的整数，分别称为**正向索引**和**反向索引**，其中`N`代表列表元素的个数。\n",
    "\n",
    "对于正向索引，`[0]`可以访问列表中的第一个元素，`[N - 1]`可以访问最后一个元素；\\\n",
    "对于反向索引，`[-1]`可以访问列表中的最后一个元素，`[-N]`可以访问每一个元素，代码如下所示。"
   ],
   "id": "783ea781f9046fc9"
  },
  {
   "metadata": {
    "ExecuteTime": {
     "end_time": "2025-10-11T03:16:20.965713Z",
     "start_time": "2025-10-11T03:16:20.961542Z"
    }
   },
   "cell_type": "code",
   "source": [
    "items8 = ['apple', 'waxberry', 'pitaya', 'peach', 'watermelon']\n",
    "print(items8[0]) # apple\n",
    "print(items8[2]) # pitaya\n",
    "print(items8[4]) # watermelon\n",
    "\n",
    "items8[2] = 'durian'\n",
    "\n",
    "print(items8)\n",
    "print(items8[-5])\n",
    "print(items8[-4])\n",
    "print(items8[-1])\n",
    "\n",
    "items8[-4] = 'strawberry'\n",
    "print(items8)\n"
   ],
   "id": "e8be4a64ecc9ed1c",
   "outputs": [
    {
     "name": "stdout",
     "output_type": "stream",
     "text": [
      "apple\n",
      "pitaya\n",
      "watermelon\n",
      "['apple', 'waxberry', 'durian', 'peach', 'watermelon']\n",
      "apple\n",
      "waxberry\n",
      "watermelon\n",
      "['apple', 'strawberry', 'durian', 'peach', 'watermelon']\n"
     ]
    }
   ],
   "execution_count": 13
  },
  {
   "metadata": {},
   "cell_type": "markdown",
   "source": [
    "在使用索引运算的时候要避免出现索引越界的情况，对于上面的`items8`，如果我们访问`items8[5]`或`items8[-6]`，就会引发`IndexError`错误，导致程序崩溃，对应的错误信息是：`list index out of range`，翻译成中文就是“数组索引超出范围”。因为对于只有五个元素的列表`items8`，有效的正向索引是`0`到`4`，有效的反向索引是`-1`到`-5`。\n",
    "\n",
    "如果希望一次性访问列表中的多个元素，我们可以使用切片运算。切片运算是形如`[start: end : stride]`的运算符，其中`start`代表议员列表元素的超位置，`end`代表访问列表元素的终止位置（**终止位置的元素无法访问**），而`stride`则代表了跨度，即位置的**增量**，例如，访问的每一个元素在`start`位置，则第二个元素在`start + stride`位置，其中`start + stride` 要小`于end`。示例如下："
   ],
   "id": "b8cecd030e45b4aa"
  },
  {
   "metadata": {},
   "cell_type": "code",
   "outputs": [],
   "execution_count": null,
   "source": [
    "items8 = ['apple', 'waxberry', 'pitaya', 'peach', 'watermelon']\n",
    "print(items8[0])   # apple\n",
    "print(items8[2])   # pitaya\n",
    "print(items8[4])   # watermelon\n",
    "items8[2] = 'durian'\n",
    "print(items8)      # ['apple', 'waxberry', 'durian', 'peach', 'watermelon']\n",
    "print(items8[-5])  # 'apple'\n",
    "print(items8[-4])  # 'waxberry'\n",
    "print(items8[-1])  # watermelon\n",
    "items8[-4] = 'strawberry'\n",
    "print(items8)      # ['apple', 'strawberry', 'durian', 'peach', 'watermelon']"
   ],
   "id": "aebf7ab51809d816"
  },
  {
   "metadata": {},
   "cell_type": "markdown",
   "source": [
    "如果`start`值等于`0`，那么在使用切片运算符时可以将其省略；\\\n",
    "如果`end`值等于`N`，N代表列表元素的个数，那么在使用切片运算符时可以将其省略；\\\n",
    "如果`stride`值等于`1`，那么在使用切片运算符时也可以将其省略。所以，下面的代码跟上面的代码作用完全相同。"
   ],
   "id": "10baa2d596035bd8"
  },
  {
   "metadata": {
    "ExecuteTime": {
     "end_time": "2025-10-11T04:45:17.973377Z",
     "start_time": "2025-10-11T04:45:17.965981Z"
    }
   },
   "cell_type": "code",
   "source": [
    "items8 = ['apple', 'strawberry', 'durian', 'peach', 'watermelon']\n",
    "\n",
    "print(items8[1:3]) # 'strawberry', 'durian'\n",
    "print(items8[:3:1]) # 'apple', 'strawberry', 'durian'\n",
    "print(items8[::2]) # 'apple','durian','watermelon'\n",
    "print(items8[-4:-2]) #  'strawberry', 'durian' -2取不到\n",
    "print(items8[-2::-1]) # 'peach', 'durian', 'strawberry', 'apple' 会逆序输出\n"
   ],
   "id": "450d8613bd1491b3",
   "outputs": [
    {
     "name": "stdout",
     "output_type": "stream",
     "text": [
      "['strawberry', 'durian']\n",
      "['apple', 'strawberry', 'durian']\n",
      "['apple', 'durian', 'watermelon']\n",
      "['strawberry', 'durian']\n",
      "['peach', 'durian', 'strawberry', 'apple']\n"
     ]
    }
   ],
   "execution_count": 14
  },
  {
   "metadata": {},
   "cell_type": "markdown",
   "source": "还可以通过切片操作修改列表中的元素",
   "id": "c9fcf462998bc0f4"
  },
  {
   "metadata": {
    "ExecuteTime": {
     "end_time": "2025-10-12T14:21:05.322041Z",
     "start_time": "2025-10-12T14:21:05.315958Z"
    }
   },
   "cell_type": "code",
   "source": [
    "items8 = ['apple', 'strawberry', 'durian', 'peach', 'watermelon']\n",
    "items8[1:3] = ['x', 'o']\n",
    "print(items8)"
   ],
   "id": "a421ed0d9158139",
   "outputs": [
    {
     "name": "stdout",
     "output_type": "stream",
     "text": [
      "['apple', 'x', 'o', 'peach', 'watermelon']\n"
     ]
    }
   ],
   "execution_count": 1
  },
  {
   "metadata": {},
   "cell_type": "markdown",
   "source": "两个列表还可以做关系运算，可以比较两个列表是否相等",
   "id": "be3f7b1eb1c01e12"
  },
  {
   "metadata": {
    "ExecuteTime": {
     "end_time": "2025-10-12T14:24:26.049030Z",
     "start_time": "2025-10-12T14:24:26.044349Z"
    }
   },
   "cell_type": "code",
   "source": [
    "nums1 = [1, 2, 3, 4]\n",
    "nums2 = list(range(1,5)) #  [1, 2, 3, 4]\n",
    "nums3 = [3, 2, 1]\n",
    "\n",
    "print(nums1 == nums2) # True\n",
    "print(nums1 != nums2) # False\n",
    "print(nums1 <= nums3) # True\n",
    "print(nums2 >= nums3) # False"
   ],
   "id": "f7be91d562d25001",
   "outputs": [
    {
     "name": "stdout",
     "output_type": "stream",
     "text": [
      "[1, 2, 3, 4]\n",
      "True\n",
      "False\n",
      "True\n",
      "False\n"
     ]
    }
   ],
   "execution_count": 3
  },
  {
   "metadata": {},
   "cell_type": "markdown",
   "source": [
    "## 元素的遍历\n",
    "如果想逐个取出列表中的元素，可以使用`for -in`循环，有以下两种做法\\\n",
    "方法一：在循环结构中通过索引运算，遍历列表元素。"
   ],
   "id": "64a0685c7523dda1"
  },
  {
   "metadata": {
    "ExecuteTime": {
     "end_time": "2025-10-12T14:32:49.133226Z",
     "start_time": "2025-10-12T14:32:49.130097Z"
    }
   },
   "cell_type": "code",
   "source": [
    "languages = ['Python', 'Jave', 'C++', 'Kotlin']\n",
    "for index in range(len(languages)):\n",
    "    print(languages[index])"
   ],
   "id": "4eeb9f162bc4d5e3",
   "outputs": [
    {
     "name": "stdout",
     "output_type": "stream",
     "text": [
      "Python\n",
      "Jave\n",
      "C++\n",
      "Kotlin\n"
     ]
    }
   ],
   "execution_count": 5
  },
  {
   "metadata": {},
   "cell_type": "markdown",
   "source": "方法二： 直接对列表做循环，循环亦是就是列表元素的代表。",
   "id": "d9d034299785b573"
  },
  {
   "metadata": {
    "ExecuteTime": {
     "end_time": "2025-10-12T14:34:54.676430Z",
     "start_time": "2025-10-12T14:34:54.673644Z"
    }
   },
   "cell_type": "code",
   "source": [
    "languages = ['Python', 'Jave', 'C++', 'Kotlin']\n",
    "for language in languages:\n",
    "    print(language)"
   ],
   "id": "d32dd968b23b5265",
   "outputs": [
    {
     "name": "stdout",
     "output_type": "stream",
     "text": [
      "Python\n",
      "Jave\n",
      "C++\n",
      "Kotlin\n"
     ]
    }
   ],
   "execution_count": 6
  },
  {
   "metadata": {},
   "cell_type": "markdown",
   "source": "最后，再用列表的方法，重新完成任务，用1到6均匀分布的随机数来模拟掷骰子，然后用6个变量分别记录每个点数出现的次数，将一颗骰子掷6000次。",
   "id": "8f3ae436f2a1a1df"
  },
  {
   "metadata": {
    "ExecuteTime": {
     "end_time": "2025-10-12T14:42:48.846607Z",
     "start_time": "2025-10-12T14:42:48.838898Z"
    }
   },
   "cell_type": "code",
   "source": [
    "# 原方法\n",
    "\"\"\"\n",
    "import random\n",
    "\n",
    "t1, t2 ,t3, t4, t5, t6 = 0, 0, 0, 0, 0, 0\n",
    "# print(f'{t1},{t2},{t3},{t4},{t5},{t6}')\n",
    "\n",
    "for _ in range(6000):\n",
    "    k = random.randrange(1,7)\n",
    "    if k == 1:\n",
    "        t1 += 1\n",
    "    elif k == 2:\n",
    "        t2 += 1\n",
    "    elif k ==3:\n",
    "        t3 += 1\n",
    "    elif k == 4:\n",
    "        t4 += 1\n",
    "    elif k == 5:\n",
    "        t5 += 1\n",
    "    elif k == 6:\n",
    "        t6 +=1\n",
    "\n",
    "print(f'{t1 = },{t2 = },{t3 = },{t4 = },{t5 = },{t6 = }')\n",
    "\"\"\"\n",
    "\n",
    "# 新方法\n",
    "import random\n",
    "\n",
    "counters = [0] * 6 # [0, 0, 0, 0, 0, 0]\n",
    "\n",
    "# 模拟骰子记录每种点数出现的次数\n",
    "for _ in range(6000):\n",
    "    face = random.randrange(1,7)\n",
    "    counters[face - 1] += 1\n",
    "\n",
    "# 输出每种点数出现的次数\n",
    "for face in range(1,7):\n",
    "    print(f'{face}出现了{counters[face - 1]}次', end = ',')\n",
    "\n"
   ],
   "id": "56fcaedc34e0ea53",
   "outputs": [
    {
     "name": "stdout",
     "output_type": "stream",
     "text": [
      "1出现了995次,2出现了971次,3出现了1014次,4出现了988次,5出现了1042次,6出现了990次,"
     ]
    }
   ],
   "execution_count": 11
  }
 ],
 "metadata": {
  "kernelspec": {
   "display_name": "Python 3",
   "language": "python",
   "name": "python3"
  },
  "language_info": {
   "codemirror_mode": {
    "name": "ipython",
    "version": 2
   },
   "file_extension": ".py",
   "mimetype": "text/x-python",
   "name": "python",
   "nbconvert_exporter": "python",
   "pygments_lexer": "ipython2",
   "version": "2.7.6"
  }
 },
 "nbformat": 4,
 "nbformat_minor": 5
}
