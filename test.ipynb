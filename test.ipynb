{
 "cells": [
  {
   "metadata": {
    "ExecuteTime": {
     "end_time": "2025-10-19T03:17:24.457385Z",
     "start_time": "2025-10-19T03:17:24.448054Z"
    }
   },
   "cell_type": "code",
   "source": [
    "class Solution(object):\n",
    "    def mergeAlternately(self, word1, word2):\n",
    "        \"\"\"\n",
    "        :type word1: str\n",
    "        :type word2: str\n",
    "        :rtype: str\n",
    "        \"\"\"\n",
    "        s1 = word1\n",
    "        s2 = word2\n",
    "        s3 = []\n",
    "        # s3 = s1[0] + s2[0] + s1[1] + s2[1] + .... + s1[n] + s2[n]+ ...\n",
    "        if len(s1) == len(s2):\n",
    "            for i in range(len(s1)):\n",
    "                s3.append(s1[i])\n",
    "                s3.append(s2[i])\n",
    "\n",
    "        elif len(s1) > len(s2):\n",
    "            for j in range(len(s2)):\n",
    "                    s3.append(s1[j])\n",
    "                    s3.append(s2[j])\n",
    "            j = len(s2)\n",
    "            s3.append(s1[j:])\n",
    "        elif len(s1) < len(s2):\n",
    "            for k in range(len(s1)):\n",
    "                    s3.append(s1[k])\n",
    "                    s3.append(s2[k])\n",
    "            k = len(s1)\n",
    "            s3.append(s2[k:])\n",
    "\n",
    "        return ''.join(s3)\n",
    "\n",
    "solution = Solution()\n",
    "result = solution.mergeAlternately('ab', '1356')\n",
    "print(result)  # 输出: a1b356\n",
    "\n"
   ],
   "id": "a0a78d4aa2a78b30",
   "outputs": [
    {
     "name": "stdout",
     "output_type": "stream",
     "text": [
      "a1b356\n"
     ]
    }
   ],
   "execution_count": 9
  }
 ],
 "metadata": {
  "kernelspec": {
   "display_name": "Python 3",
   "language": "python",
   "name": "python3"
  },
  "language_info": {
   "codemirror_mode": {
    "name": "ipython",
    "version": 2
   },
   "file_extension": ".py",
   "mimetype": "text/x-python",
   "name": "python",
   "nbconvert_exporter": "python",
   "pygments_lexer": "ipython2",
   "version": "2.7.6"
  }
 },
 "nbformat": 4,
 "nbformat_minor": 5
}
