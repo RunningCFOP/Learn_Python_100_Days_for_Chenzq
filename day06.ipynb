{
 "cells": [
  {
   "metadata": {},
   "cell_type": "markdown",
   "source": [
    "## 循环结构\n",
    "所谓循环结构，就是程序中控制某条或某些指令重复执行的结构。在Python语言中构造循环结构有两种做法，一种是 `for-in` 循环，另一种是 `while` 循环。\n",
    "\n",
    "## for-in循环\n",
    " 如果明确知道循环的执行的次数，推荐使用`for-in`循环。注意，被`for-in`循环控制的代码块也是通过缩进的方式来构造，并称被`for-in`循环控制的代码为循环体，通过循环体中的语句会根据循环的商定被重复执行。"
   ],
   "id": "89807123b6309297"
  },
  {
   "metadata": {},
   "cell_type": "code",
   "outputs": [],
   "execution_count": null,
   "source": [
    "import time\n",
    "\n",
    "for i in range(3600):\n",
    "    print('hello world')\n",
    "    time.sleep(1)\n"
   ],
   "id": "163fc69c5344ee0d"
  },
  {
   "metadata": {},
   "cell_type": "markdown",
   "source": [
    "需要说明的是，上面代码中的`rang(3600)`可以构造出一个`0`支`3599`的范围，当我们把这样一个范围放在`for-in`循环中，就可以通过前面的循环亦是`i`依次取出从`0`到`3600`的整数，这会让`for-in`代码块的的语句重复3600次。当然，`range`的用法也非常灵活，下面的清单给出了使用`range`函数的例子：\n",
    "* `range(101)`:可以用来产生`0`到`100`范围的整数，但要注意提取不到`101`.\n",
    "* `range(1,101)`：可以用来产`1`到`100`范围的整数，相当于是左闭可开的设定，即`[1, 101)`.\n",
    "* `range(1, 101, 2)`:可以用来产生`1`到`1001`范围的奇数，其中`2`是步长（跨度），即每次递增的值，`101`取不到。\n",
    "* `range(100,0,-2)`:可以用来产生`100`到`1`的偶数，其中`-2`是步长（跨度），即每次递减的值，`0`取不到。\n",
    "上述循环中并没有用到循环亦是`i`，对于不需要用于循环亦是的`for-in`循环结构，按照Python的编程惯例，通过把循环变量命名为`_`，修改后的代码如下所示。"
   ],
   "id": "6c1713465dd499cd"
  },
  {
   "metadata": {
    "ExecuteTime": {
     "end_time": "2025-10-08T13:39:40.747185Z",
     "start_time": "2025-10-08T13:39:37.908534Z"
    }
   },
   "cell_type": "code",
   "source": [
    "import time\n",
    "\n",
    "for _ in range(3600):\n",
    "    print('hello world')\n",
    "    time.sleep(1)\n"
   ],
   "id": "6a5498e5e8f7f90b",
   "outputs": [
    {
     "name": "stdout",
     "output_type": "stream",
     "text": [
      "hello world\n",
      "hello world\n",
      "hello world\n"
     ]
    },
    {
     "ename": "KeyboardInterrupt",
     "evalue": "",
     "output_type": "error",
     "traceback": [
      "\u001B[0;31m---------------------------------------------------------------------------\u001B[0m",
      "\u001B[0;31mKeyboardInterrupt\u001B[0m                         Traceback (most recent call last)",
      "Cell \u001B[0;32mIn[2], line 5\u001B[0m\n\u001B[1;32m      3\u001B[0m \u001B[38;5;28;01mfor\u001B[39;00m _ \u001B[38;5;129;01min\u001B[39;00m \u001B[38;5;28mrange\u001B[39m(\u001B[38;5;241m3600\u001B[39m):\n\u001B[1;32m      4\u001B[0m     \u001B[38;5;28mprint\u001B[39m(\u001B[38;5;124m'\u001B[39m\u001B[38;5;124mhello world\u001B[39m\u001B[38;5;124m'\u001B[39m)\n\u001B[0;32m----> 5\u001B[0m     \u001B[43mtime\u001B[49m\u001B[38;5;241;43m.\u001B[39;49m\u001B[43msleep\u001B[49m\u001B[43m(\u001B[49m\u001B[38;5;241;43m1\u001B[39;49m\u001B[43m)\u001B[49m\n",
      "\u001B[0;31mKeyboardInterrupt\u001B[0m: "
     ]
    }
   ],
   "execution_count": 2
  },
  {
   "metadata": {},
   "cell_type": "markdown",
   "source": "例一 1～100求和\n",
   "id": "cc16e2b5c078e878"
  },
  {
   "metadata": {
    "ExecuteTime": {
     "end_time": "2025-10-08T13:50:48.529301Z",
     "start_time": "2025-10-08T13:50:48.526531Z"
    }
   },
   "cell_type": "code",
   "source": [
    "total = 0\n",
    "for i in range(101):\n",
    "    total += i\n",
    "    i += 1\n",
    "print(f'1～100的的整数和为{total}')"
   ],
   "id": "84a0c37f4954d4d1",
   "outputs": [
    {
     "name": "stdout",
     "output_type": "stream",
     "text": [
      "1～100的的整数和为5050\n"
     ]
    }
   ],
   "execution_count": 15
  },
  {
   "metadata": {},
   "cell_type": "markdown",
   "source": "例二 0～100 中的偶数求和",
   "id": "dd1b8ba3dca4e2e1"
  },
  {
   "metadata": {
    "ExecuteTime": {
     "end_time": "2025-10-08T13:44:32.706605Z",
     "start_time": "2025-10-08T13:44:32.703509Z"
    }
   },
   "cell_type": "code",
   "source": [
    "sum_odd = 0\n",
    "for i in range(100, 0 ,-2):\n",
    "    sum_odd += i\n",
    "print (f'0～100中的所有偶数和为{sum_odd}')"
   ],
   "id": "e9b89a9bc91503cb",
   "outputs": [
    {
     "name": "stdout",
     "output_type": "stream",
     "text": [
      "0～100中的所有偶数和为2550\n"
     ]
    }
   ],
   "execution_count": 6
  },
  {
   "metadata": {
    "ExecuteTime": {
     "end_time": "2025-10-08T13:52:25.324156Z",
     "start_time": "2025-10-08T13:52:25.321416Z"
    }
   },
   "cell_type": "code",
   "source": [
    "# 更简单方法\n",
    "print(sum(range(2, 101, 2)))"
   ],
   "id": "aff23b7b3108ba61",
   "outputs": [
    {
     "name": "stdout",
     "output_type": "stream",
     "text": [
      "2550\n"
     ]
    }
   ],
   "execution_count": 19
  },
  {
   "metadata": {},
   "cell_type": "markdown",
   "source": [
    "## while 循环\n",
    "如果想要构造循环，但是又不能确定循环重复的次数，推荐使用`while`循环。`while`循环通过布尔值或能产生布尔值的表达式来控制循环，但布尔值或表达值的值为`Ture`时，循环体（`while`语句下保持相同缩进的代码块）中的语句就会被重复的执行，当表达式的值为`False`时，结束循环。"
   ],
   "id": "f74ba810e24f46e3"
  },
  {
   "metadata": {
    "ExecuteTime": {
     "end_time": "2025-10-08T13:58:47.193432Z",
     "start_time": "2025-10-08T13:58:47.190329Z"
    }
   },
   "cell_type": "code",
   "source": [
    "# 下面这个例子使用`while`来实现1～100的整数求和，代码如下\n",
    "total = 0\n",
    "i =  100\n",
    "while i != 0:\n",
    "    total += i\n",
    "    i -= 1\n",
    "print(f'{total = :.0f}')"
   ],
   "id": "c61ea656fb73d9f9",
   "outputs": [
    {
     "name": "stdout",
     "output_type": "stream",
     "text": [
      "total = 5050\n"
     ]
    }
   ],
   "execution_count": 23
  },
  {
   "metadata": {
    "ExecuteTime": {
     "end_time": "2025-10-08T13:59:30.937289Z",
     "start_time": "2025-10-08T13:59:30.933526Z"
    }
   },
   "cell_type": "code",
   "source": [
    "# 修改上述代码，实现对偶数的求和\n",
    "total = 0\n",
    "i =  100\n",
    "while i != 0:\n",
    "    total += i\n",
    "    i -= 2\n",
    "print(f'{total = :.0f}')"
   ],
   "id": "a6a35f265a1b6bd4",
   "outputs": [
    {
     "name": "stdout",
     "output_type": "stream",
     "text": [
      "total = 2550\n"
     ]
    }
   ],
   "execution_count": 24
  },
  {
   "metadata": {},
   "cell_type": "markdown",
   "source": [
    "## break 和 continue\n",
    "如果把`while`循环条件设置为`True`，即让条件恒成立会怎么样？"
   ],
   "id": "a025c9510b1e404b"
  },
  {
   "metadata": {
    "ExecuteTime": {
     "end_time": "2025-10-08T14:01:28.218932Z",
     "start_time": "2025-10-08T14:01:28.216134Z"
    }
   },
   "cell_type": "code",
   "source": [
    "total = 0\n",
    "i = 2\n",
    "while True:\n",
    "    total += i\n",
    "    i += 2\n",
    "    if i > 100:\n",
    "        break\n",
    "print(f'{total = }')"
   ],
   "id": "3f5de9cbee80f014",
   "outputs": [
    {
     "name": "stdout",
     "output_type": "stream",
     "text": [
      "total = 2550\n"
     ]
    }
   ],
   "execution_count": 25
  },
  {
   "metadata": {},
   "cell_type": "markdown",
   "source": [
    "上述代码中使用`while ture`构造了一个条件恒成立的循环，也就意味着如果不做特殊处理，循环是不会结束的，这就是我们常说的“死循环”。为了在`i`的值在超过100后让循环停下来，可以使用`break`关键字，它的作用是终止循环结构的执行。\\\n",
    "需要注意的是，`break`只能终止它所在的循环，这一点使用嵌套循环结构时需要引起注意。\\\n",
    "除了`break`之外，`continue`关键字可以用来放弃本次循环后续的代码，直接让循环进入下一轮。"
   ],
   "id": "75f73c87c31a7621"
  },
  {
   "metadata": {
    "ExecuteTime": {
     "end_time": "2025-10-08T14:08:58.651567Z",
     "start_time": "2025-10-08T14:08:58.648598Z"
    }
   },
   "cell_type": "code",
   "source": [
    "# 从1 到100 的偶数求和\n",
    "total = 0\n",
    "for i in range(1,101):\n",
    "    if i % 2 !=0: # 如果i是奇数，则执行continue并跳过这次循环的后续语句，即不执行total += 1\n",
    "        continue # 跳过i是奇数的情况\n",
    "    total += i\n",
    "print(f'{total = :.0f}')"
   ],
   "id": "eea4ae7297331348",
   "outputs": [
    {
     "name": "stdout",
     "output_type": "stream",
     "text": [
      "total = 2550\n"
     ]
    }
   ],
   "execution_count": 26
  },
  {
   "metadata": {},
   "cell_type": "markdown",
   "source": [
    "## 嵌套的循环结构\n",
    "和分支结构一样，循环结构也是可以嵌套的，也就是说有循环结构中还可以构造循环结构。下面这个例子演示了如何通过嵌套的循环来输出一个乘法口诀表（九九表）"
   ],
   "id": "69a970ca0c3aa92b"
  },
  {
   "metadata": {
    "ExecuteTime": {
     "end_time": "2025-10-08T14:18:36.446049Z",
     "start_time": "2025-10-08T14:18:36.443391Z"
    }
   },
   "cell_type": "code",
   "source": [
    "for i in range(10):\n",
    "    for j in range(1,i+1):\n",
    "        #print('%d * %d = %d' % (i, j, i * j), end = '\\t')\n",
    "        print(f'{i} * {j} = {i * j}',end = '\\t')\n",
    "    print() # 作用是换行"
   ],
   "id": "9158c33aefb1499b",
   "outputs": [
    {
     "name": "stdout",
     "output_type": "stream",
     "text": [
      "\n",
      "1 * 1 = 1\t\n",
      "2 * 1 = 2\t2 * 2 = 4\t\n",
      "3 * 1 = 3\t3 * 2 = 6\t3 * 3 = 9\t\n",
      "4 * 1 = 4\t4 * 2 = 8\t4 * 3 = 12\t4 * 4 = 16\t\n",
      "5 * 1 = 5\t5 * 2 = 10\t5 * 3 = 15\t5 * 4 = 20\t5 * 5 = 25\t\n",
      "6 * 1 = 6\t6 * 2 = 12\t6 * 3 = 18\t6 * 4 = 24\t6 * 5 = 30\t6 * 6 = 36\t\n",
      "7 * 1 = 7\t7 * 2 = 14\t7 * 3 = 21\t7 * 4 = 28\t7 * 5 = 35\t7 * 6 = 42\t7 * 7 = 49\t\n",
      "8 * 1 = 8\t8 * 2 = 16\t8 * 3 = 24\t8 * 4 = 32\t8 * 5 = 40\t8 * 6 = 48\t8 * 7 = 56\t8 * 8 = 64\t\n",
      "9 * 1 = 9\t9 * 2 = 18\t9 * 3 = 27\t9 * 4 = 36\t9 * 5 = 45\t9 * 6 = 54\t9 * 7 = 63\t9 * 8 = 72\t9 * 9 = 81\t\n"
     ]
    }
   ],
   "execution_count": 35
  },
  {
   "metadata": {},
   "cell_type": "markdown",
   "source": [
    "## 例1: 判断素数\n",
    "要求： 输入一个大于1的正整数，判断它是不是素数\n",
    "> 提示： 素数指的是只能被1和自身整除的大于1的整数。例如对于正整数n,我们可以通过在2到n-1之间寻找有没有n的因子，来判断它到底是不是一个素数。当然，循环不用从2开始到n-1结束，因为对于大于1的正整数，因子应该都是成对出现的，所以循环到\\sqrt(n)就结束了。"
   ],
   "id": "ce3ed4845dbcaa2e"
  },
  {
   "metadata": {
    "ExecuteTime": {
     "end_time": "2025-10-08T14:47:02.130237Z",
     "start_time": "2025-10-08T14:46:58.621782Z"
    }
   },
   "cell_type": "code",
   "source": [
    "i = int(input('请输入一个大于1的正整数'))\n",
    "j = int(i ** 0.5)\n",
    "k = 2\n",
    "while k < j + 1:\n",
    "    if i % k == 0:\n",
    "        print(f'{i}不是素数')\n",
    "        break\n",
    "    k += 1\n",
    "if k == j + 1:\n",
    "    print(f'{i}是素数')"
   ],
   "id": "97260b5843315db0",
   "outputs": [
    {
     "name": "stdout",
     "output_type": "stream",
     "text": [
      "2003是素数\n"
     ]
    }
   ],
   "execution_count": 40
  },
  {
   "metadata": {},
   "cell_type": "markdown",
   "source": [
    "## 例2: 最大公约数\n",
    "要求输入两个大于0的正整数，求两个数的最大公约数。\n",
    "> 提示：两个数的最大公约数是两个公共因子中最大的那个数。"
   ],
   "id": "7cdaa0570434ced7"
  },
  {
   "metadata": {
    "ExecuteTime": {
     "end_time": "2025-10-10T01:47:05.009460Z",
     "start_time": "2025-10-10T01:47:01.204161Z"
    }
   },
   "cell_type": "code",
   "source": [
    "i = int(input('i = '))\n",
    "j = int(input('j = '))\n",
    "\n",
    "for k in range(i + j, 0, -1):\n",
    "    if i % k == 0 and j % k == 0:\n",
    "        print(f'{i}和{j}的最大公约数是{k}')\n",
    "        break\n",
    "# 上述算法中i和j不能太大"
   ],
   "id": "2603b8184d942568",
   "outputs": [
    {
     "name": "stdout",
     "output_type": "stream",
     "text": [
      "4和6的最大公约数是2\n"
     ]
    }
   ],
   "execution_count": 2
  },
  {
   "metadata": {},
   "cell_type": "markdown",
   "source": "用上面的代码找最大公约数在执行效率上是有问题的。如果两个数过大，循环重复的次数过多。可以改使用欧几里得算法来找最大公约数。",
   "id": "3649b3c952aff73e"
  },
  {
   "metadata": {
    "ExecuteTime": {
     "end_time": "2025-10-10T01:41:49.117936Z",
     "start_time": "2025-10-10T01:41:40.923654Z"
    }
   },
   "cell_type": "code",
   "source": [
    "# 使用欧几里得方法求解两个数的最大公约数\n",
    "\n",
    "x = int(input('请输入一个正整数 x = ：'))\n",
    "y = int(input('请再输入一个正整数 y ='))\n",
    "\n",
    "while y % x != 0:\n",
    "    x, y = y % x , x\n",
    "print(f'最大公约数：{x}')"
   ],
   "id": "41220742d0147b7f",
   "outputs": [
    {
     "name": "stdout",
     "output_type": "stream",
     "text": [
      "最大公约数：7\n"
     ]
    }
   ],
   "execution_count": 1
  },
  {
   "metadata": {},
   "cell_type": "markdown",
   "source": [
    "> 说明： 解决问题的方法和步骤可以称为算法，对于同一个问题，可以设计出不同的算法，不同的算法在存储空间的占用和执行效率上都会存在差别，而这些差别就代表了算法的优劣。\\\n",
    "> 上面的代码中`x, y = y % x, x`语句表示将 `y % x`的值赋给`x`,将`x`原来的值赋给`y`。\n",
    "\n",
    "## 例3:猜数字游戏\n",
    "要求：计算机出一个1 到100之间的随机数字，让玩家输入自己猜的数字，计算机给出对应的提示信息“大一点”、“小一点”或“猜对了”，如果玩家猜中了数字，计算机提示用户一共猜了多少次，游戏结束，否则游戏继续。"
   ],
   "id": "8648067114e28983"
  },
  {
   "metadata": {
    "ExecuteTime": {
     "end_time": "2025-10-10T01:58:41.439512Z",
     "start_time": "2025-10-10T01:58:22.737226Z"
    }
   },
   "cell_type": "code",
   "source": [
    "import random\n",
    "\n",
    "answer = random.randrange(1,101)\n",
    "guess = 0\n",
    "times = 0\n",
    "while guess != answer:\n",
    "    guess = int(input('请输入一个1~100之间的正整数：'))\n",
    "    # 检查输入的数是否在1～100内\n",
    "    if 100 - guess < 0 or guess - 1 < 0:\n",
    "        guess = int(input('请重新输入一个1~100之间的正整数：'))\n",
    "    times += 1\n",
    "    if guess == answer:\n",
    "        print(f'猜对啦！答案就是{answer}，共猜了{times}次')\n",
    "        break\n",
    "    elif guess < answer:\n",
    "        print(f'比{guess}大一点',)\n",
    "    elif  guess > answer:\n",
    "        print(f'比{guess}小一点')"
   ],
   "id": "98ef66dbd2fb8315",
   "outputs": [
    {
     "name": "stdout",
     "output_type": "stream",
     "text": [
      "比45小一点\n",
      "比34大一点\n",
      "比40小一点\n",
      "比37小一点\n",
      "猜对啦！答案就是36，共猜了5次\n"
     ]
    }
   ],
   "execution_count": 5
  },
  {
   "metadata": {
    "ExecuteTime": {
     "end_time": "2025-10-10T02:08:28.529509Z",
     "start_time": "2025-10-10T02:07:58.812506Z"
    }
   },
   "cell_type": "code",
   "source": [
    "# 上述题目答案\n",
    "import random\n",
    "answer = random.randrange(1,101)\n",
    "counter = 0\n",
    "\n",
    "while True:\n",
    "    counter += 1\n",
    "    num = int(input('请输入：'))\n",
    "    if num < answer:\n",
    "        print('大一点')\n",
    "    elif num > answer:\n",
    "        print('小一点')\n",
    "    else:\n",
    "        print('猜对了！')\n",
    "        break\n",
    "print(f'你一共猜了{counter}次')\n"
   ],
   "id": "47257f05f87d4945",
   "outputs": [
    {
     "name": "stdout",
     "output_type": "stream",
     "text": [
      "大一点\n",
      "大一点\n",
      "小一点\n",
      "大一点\n",
      "小一点\n",
      "大一点\n",
      "大一点\n",
      "大一点\n",
      "大一点\n",
      "小一点\n",
      "猜对了！\n",
      "你一共猜了11次\n"
     ]
    }
   ],
   "execution_count": 8
  },
  {
   "metadata": {},
   "cell_type": "markdown",
   "source": [
    "## 总结\n",
    "如果事先知道循环结构重复的次数，通常使用`for`循环；如果循环结构的重复次数不能确定，可以用`while`循环。\\\n",
    "此外，可以在循环结构中使用`break`终止循环，也可以在循环结构中使用`continue`关键字让循环结构**直接**进入下一轮次。"
   ],
   "id": "f54e194109877adf"
  }
 ],
 "metadata": {
  "kernelspec": {
   "display_name": "Python 3",
   "language": "python",
   "name": "python3"
  },
  "language_info": {
   "codemirror_mode": {
    "name": "ipython",
    "version": 2
   },
   "file_extension": ".py",
   "mimetype": "text/x-python",
   "name": "python",
   "nbconvert_exporter": "python",
   "pygments_lexer": "ipython2",
   "version": "2.7.6"
  }
 },
 "nbformat": 4,
 "nbformat_minor": 5
}
