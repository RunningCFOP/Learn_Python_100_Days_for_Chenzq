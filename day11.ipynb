{
 "cells": [
  {
   "metadata": {},
   "cell_type": "markdown",
   "source": [
    "## 常用数据结构之**字符串**\n",
    "***\n",
    "第二次世界大战促使了现代电子计算机的诞生，世界上的第一台通用电子计算机名叫 ENIAC（电子数值积分计算机），诞生于美国的宾夕法尼亚大学，占地167平米，重量约27吨，每秒钟大约能够完成约5000次浮点运算，如下图所示。ENIAC 诞生之后被应用于导弹弹道的计算，而数值计算也是现代电子计算机最为重要的一项功能。随着时间的推移，虽然数值运算仍然是计算机日常工作中最为重要的组成部分，但是今天的计算机还要处理大量的以文本形式存在的信息。如果我们希望通过 Python 程序来操作本这些文本信息，就必须要先了解字符串这种数据类型以及与它相关的运算和方法。\n",
    "\n",
    "### 字符串的定义\n",
    "所谓字符串，就是由零个或多个字符组成的有限序列，一般记为：\n",
    "$$\n",
    "s = a_1a_2...a_n    (0\\leq n \\leq \\infty)\n",
    "$$\n",
    "在Python中，我们把单个或多个字符用单引用或者双引号包围起来，就可以表示一个字符串。字符串中的字符可以是特殊符号、英文字母、中文字符，日文的平假名或片假名、希腊字母、Emoji字符（如：💩、🐷、🀄️）等。"
   ],
   "id": "158c382d5df458df"
  },
  {
   "metadata": {
    "ExecuteTime": {
     "end_time": "2025-10-21T01:47:16.989531Z",
     "start_time": "2025-10-21T01:47:16.964467Z"
    }
   },
   "cell_type": "code",
   "source": [
    "s1 = 'hello world'\n",
    "s2 = \"你好，世界，❤️\"\n",
    "s3 = '''hello,\n",
    "wonderful\n",
    "world!\n",
    "'''\n",
    "print(f'{s1 = }, {s2 = }, {s3 = }')"
   ],
   "id": "1178bf840bd0a21a",
   "outputs": [
    {
     "name": "stdout",
     "output_type": "stream",
     "text": [
      "s1 = 'hello world', s2 = '你好，世界，❤️', s3 = 'hello,\\nwonderful\\nworld!\\n'\n"
     ]
    }
   ],
   "execution_count": 1
  },
  {
   "metadata": {},
   "cell_type": "markdown",
   "source": [
    "### 转义字符\n",
    "可以在字符串中使用`\\`（反斜杠）为表示转义，也就是说`\\`后面的字符不再是它原来的意义，例如：`\\n`不是代表字符`\\`和字符`n`，而是表示换行；`\\t`也不是代表字符`\\`和字符`t`，而是表示制表符。所以如果字符串本身又包含了`'`、`\"`、`\\`这些特殊字符，必须要通过`\\`进行转义处理，例如要输出一个带单绰号或反斜杠的字符串，老板娘用如下所示的方法。"
   ],
   "id": "bef6cfe98658a79f"
  },
  {
   "metadata": {
    "jupyter": {
     "is_executing": true
    }
   },
   "cell_type": "code",
   "source": [
    "s1 = '\\'hello, world!\\''\n",
    "s2 = '\\\\hello, world!\\\\'\n",
    "print(s1)\n",
    "print(s2)\n",
    "\n",
    "print('\\'')\n",
    "print('\\\\')\n",
    "\n",
    "print('s1')\n",
    "print('s2')\n",
    "\n",
    "print(f'{s1 = }')\n",
    "print(f'{s2 = }')"
   ],
   "id": "d97d6d7efa90e18b",
   "outputs": [],
   "execution_count": null
  },
  {
   "metadata": {},
   "cell_type": "markdown",
   "source": [
    "### 原始字符串\n",
    "Python中有一种以r或R形状的字符串，这种字符串被称为原始字符串，意思是字符串中的每个字符都是它本来的含义，没有所谓的转义字符。例如，在字符串`hello\\n`中，`\\n`表示换行；而在`r\\hello\\n'`中，`\\n`不同志表示换行，就是字符`\\`和字符`n`。如下面的代码所示："
   ],
   "id": "d28266d7490e916f"
  },
  {
   "metadata": {
    "ExecuteTime": {
     "end_time": "2025-10-16T13:17:32.684473Z",
     "start_time": "2025-10-16T13:17:32.680819Z"
    }
   },
   "cell_type": "code",
   "source": [
    "s1 = '\\it \\is \\time \\to \\read \\now'\n",
    "s2 = r'\\it \\is \\time \\to \\read\\ now'\n",
    "print(s1)\n",
    "print(s2)"
   ],
   "id": "c5919b1e164c26aa",
   "outputs": [
    {
     "name": "stdout",
     "output_type": "stream",
     "text": [
      "ead \\is \time \to \n",
      "ow\n",
      "\\it \\is \\time \\to \\read\\ now\n"
     ]
    }
   ],
   "execution_count": 2
  },
  {
   "metadata": {},
   "cell_type": "markdown",
   "source": [
    "> 说明： 上面的变量`s1`中，`\\t`、`\\r`、`\\n`都是转义字符。其中`\\t`是制表符(table)，`\\n`是换行符(new line)，`\\r`是回车符(carriage return)相当于让输出回到了行首。\n",
    "\n",
    "### 字符的特殊表示\n",
    "Python中还允许在`\\`后面还可以跟一个八进制或十六进制数来表示字符，例如`\\141`和`\\x61`都代表小字字母a，前者是八进制 表示法，后者是十六进制表示法。另一种表示字符的方式是在`\\u`后面跟Unicode字符编码，例如`\\u9a86\\u660a`代表是中文“骆昊”。"
   ],
   "id": "de0c97973863b44b"
  },
  {
   "metadata": {
    "ExecuteTime": {
     "end_time": "2025-10-16T13:37:33.210410Z",
     "start_time": "2025-10-16T13:37:33.207444Z"
    }
   },
   "cell_type": "code",
   "source": [
    "s1 = '\\141\\142\\143\\x61\\x62\\x63'\n",
    "s2 = '\\u9a86\\u660a'\n",
    "print(s1)\n",
    "print(s2)"
   ],
   "id": "c128bd58bab3617c",
   "outputs": [
    {
     "name": "stdout",
     "output_type": "stream",
     "text": [
      "abcabc\n",
      "骆昊\n"
     ]
    }
   ],
   "execution_count": 3
  },
  {
   "metadata": {},
   "cell_type": "markdown",
   "source": [
    "##字符串的运算\n",
    "Python语言为字符串类型提供了非常丰富的运算符，有很多运算符跟列表类型的运算符作用类似。例如，可以使用`+`运算符来实现字符串的拼接，可以使用`*`运算符来重复一个字符串的内容，可以使用`in`和`not in`来判断一个字符串是否包含另外一个字符串，我们也可以用`[]`和`[:]`运算符从字符串中取出某个字符或某些字符。"
   ],
   "id": "90bb0e54ec1fd44b"
  },
  {
   "metadata": {
    "ExecuteTime": {
     "end_time": "2025-10-16T13:49:28.251507Z",
     "start_time": "2025-10-16T13:49:28.248186Z"
    }
   },
   "cell_type": "code",
   "source": [
    "s1 = 'hello' + ', ' + 'world'\n",
    "print(s1)\n",
    "\n",
    "s2 = '!' * 3\n",
    "print(s2)\n",
    "\n",
    "s1 += s2\n",
    "print(s1)\n",
    "\n",
    "s1 *= 2\n",
    "print(s1)"
   ],
   "id": "ab7a3ef5590bf66d",
   "outputs": [
    {
     "name": "stdout",
     "output_type": "stream",
     "text": [
      "hello, world\n",
      "!!!\n",
      "hello, world!!!\n",
      "hello, world!!!hello, world!!!\n"
     ]
    }
   ],
   "execution_count": 8
  },
  {
   "metadata": {},
   "cell_type": "markdown",
   "source": [
    "### 比较运算符\n",
    "对于两个字符串类型的变量，可以直接使用比较运算符来判断两个字符串的相等性或比较大小。需要说明的是，因这字符串在计算机内存中也是以二进制形式存在的，那个字符串的大小比较比的是**每个字符对应的编码的大小**。例如，`A`的编码是`65`，而`a`的编码是`97`，所以`'A' < 'a'`的结果相当于是`65 < 97`的结果，这里很显然是`True`；如里第一个字符相同，则比较第二个字符的大小，依次类推。\\\n",
    "如果不清楚两个字符对应的编码到底是多少，可以使用`ord`函数来获得，例如o`rd('A')`的值是`65`，而`ord('昊')`的值是`26122`。"
   ],
   "id": "5a610238fc5908b9"
  },
  {
   "metadata": {
    "ExecuteTime": {
     "end_time": "2025-10-16T13:59:59.787916Z",
     "start_time": "2025-10-16T13:59:59.783023Z"
    }
   },
   "cell_type": "code",
   "source": [
    "s1 = 'a whole new world'\n",
    "s2 = 'hello world'\n",
    "\n",
    "print(s1 == s2) # False\n",
    "print(s1 < s2) # True\n",
    "print(s1 == 'hello world') # False\n",
    "print(s2 != 'Hello world') # True\n",
    "\n",
    "s3 = '陈章齐'\n",
    "print(ord('陈')) # 38472\n",
    "print(ord('章')) # 31456\n",
    "print(ord('齐')) # 40784\n",
    "\n",
    "s4 = '王大锤'\n",
    "print(ord('王')) # 29579\n",
    "print(ord('大')) # 22823\n",
    "print(ord('锤')) # 38180\n",
    "\n",
    "print(s3 >= s4) # True\n",
    "print(s3 != s4) # True"
   ],
   "id": "ac76cc7059de6298",
   "outputs": [
    {
     "name": "stdout",
     "output_type": "stream",
     "text": [
      "False\n",
      "True\n",
      "False\n",
      "True\n",
      "38472\n",
      "31456\n",
      "40784\n",
      "29579\n",
      "22823\n",
      "38180\n",
      "True\n",
      "True\n"
     ]
    }
   ],
   "execution_count": 13
  },
  {
   "metadata": {},
   "cell_type": "markdown",
   "source": [
    "### 成员运算\n",
    "Python中可以用`in`和`not in`判断一个字符串中是否包含另外一个字符或字符串，跟列表类型一样，`in`和`not in`称为成员运算符，会产生布尔值`Ture`或`False`，代码如下所示。"
   ],
   "id": "b7500e3c33ecb79"
  },
  {
   "metadata": {
    "ExecuteTime": {
     "end_time": "2025-10-16T14:02:13.575676Z",
     "start_time": "2025-10-16T14:02:13.572537Z"
    }
   },
   "cell_type": "code",
   "source": [
    "s1 = 'hello, world'\n",
    "s2 = 'goodbye, world'\n",
    "print('wo' in s1) # True\n",
    "print('wo' not in s1) # False\n",
    "print(s2 in s1) # False"
   ],
   "id": "42c09737897687ce",
   "outputs": [
    {
     "name": "stdout",
     "output_type": "stream",
     "text": [
      "True\n",
      "False\n",
      "False\n"
     ]
    }
   ],
   "execution_count": 14
  },
  {
   "metadata": {},
   "cell_type": "markdown",
   "source": [
    "### 获取字符串长度\n",
    "获取字符串长度跟获取列表元素个数一样，使用内置函数`len`"
   ],
   "id": "1cd0ca8056c7b4c0"
  },
  {
   "metadata": {
    "ExecuteTime": {
     "end_time": "2025-10-16T14:04:00.194546Z",
     "start_time": "2025-10-16T14:04:00.191773Z"
    }
   },
   "cell_type": "code",
   "source": [
    "s = 'hello, world'\n",
    "print(len(s)) # 12\n",
    "print(len('goodbye, world')) # 14 空格也算"
   ],
   "id": "e4e32194eda20b82",
   "outputs": [
    {
     "name": "stdout",
     "output_type": "stream",
     "text": [
      "12\n",
      "14\n"
     ]
    }
   ],
   "execution_count": 16
  },
  {
   "metadata": {},
   "cell_type": "markdown",
   "source": [
    "### 索引和切片\n",
    "字符串的索引和切片操作和列表、元组几乎没有区别，因为字符串也是一种有序序列，可以通过下身或反射的整数索引访问其中的元素。但有一点要注意，因数字符串是**不可变类型**，所以**不能通过索引运算修改**字符串中的字符。"
   ],
   "id": "1882cd7c9ef241dc"
  },
  {
   "metadata": {
    "ExecuteTime": {
     "end_time": "2025-10-16T14:36:00.765937Z",
     "start_time": "2025-10-16T14:36:00.761220Z"
    }
   },
   "cell_type": "code",
   "source": [
    "s = 'abc123456'\n",
    "n = len(s)\n",
    "\n",
    "print(s[0], s[-n]) # a a\n",
    "print(s[n - 1], s[-1]) # 6 6\n",
    "print(s[2], s[-7]) # c c\n",
    "print(s[5], s[-4]) # 3 3\n",
    "print(s[2:5]) # c12\n",
    "print(s[-7:-4]) # c12\n",
    "print(s[2:]) # c123456\n",
    "print(s[::2]) # ac246\n",
    "print(s[::-1]) # 654321cba\n",
    "print(type(s[::-1]))\n",
    "print(type(s))"
   ],
   "id": "674caf2b599b0b65",
   "outputs": [
    {
     "name": "stdout",
     "output_type": "stream",
     "text": [
      "a a\n",
      "6 6\n",
      "c c\n",
      "3 3\n",
      "c12\n",
      "c12\n",
      "c123456\n",
      "ac246\n",
      "654321cba\n",
      "<class 'str'>\n",
      "<class 'str'>\n"
     ]
    }
   ],
   "execution_count": 27
  },
  {
   "metadata": {},
   "cell_type": "markdown",
   "source": [
    "需要再次提醒大家注意的是，在进行索引运算时，如果索引越界，会引发IndexError异常，错误提示信息为：string index out of range(字符串索引超出范围)\n",
    "\n",
    "### 字符的遍历\n",
    "如果希望遍历字符串的每个字符，可以使用for-in循环，有如下所示两种方式。"
   ],
   "id": "9055a356ae39080d"
  },
  {
   "metadata": {
    "ExecuteTime": {
     "end_time": "2025-10-16T14:41:25.292388Z",
     "start_time": "2025-10-16T14:41:25.289350Z"
    }
   },
   "cell_type": "code",
   "source": [
    "# 方法一\n",
    "s = 'hello'\n",
    "for i in range(len(s)):\n",
    "    print(s[i])"
   ],
   "id": "33989828b81ab0e2",
   "outputs": [
    {
     "name": "stdout",
     "output_type": "stream",
     "text": [
      "h\n",
      "e\n",
      "l\n",
      "l\n",
      "o\n"
     ]
    }
   ],
   "execution_count": 28
  },
  {
   "metadata": {
    "ExecuteTime": {
     "end_time": "2025-10-19T01:47:38.026521Z",
     "start_time": "2025-10-19T01:47:38.021626Z"
    }
   },
   "cell_type": "code",
   "source": [
    "# 方法二\n",
    "s = 'hello'\n",
    "for ele in s:\n",
    "    print(ele)"
   ],
   "id": "f137d7a7c12fef00",
   "outputs": [
    {
     "name": "stdout",
     "output_type": "stream",
     "text": [
      "h\n",
      "e\n",
      "l\n",
      "l\n",
      "o\n"
     ]
    }
   ],
   "execution_count": 2
  },
  {
   "metadata": {},
   "cell_type": "markdown",
   "source": [
    "## 字符串的方法\n",
    "\n",
    "在Python中，可以通过字符串类型自带的方法对字符串进行操作和处理，假设有名为`foo`的字符串，字符串有名为`bar`的方法，那么使用字符串方法的语法为`foo.bar()`，这是一种通过对象引用调用对象方法的语法。\n",
    "\n",
    "### 大小写相关操作\n",
    "下面的代码演示了和字符串大小写变换相关的方法。"
   ],
   "id": "8f918c0b42949a8e"
  },
  {
   "metadata": {
    "ExecuteTime": {
     "end_time": "2025-10-19T02:17:04.341233Z",
     "start_time": "2025-10-19T02:17:04.337766Z"
    }
   },
   "cell_type": "code",
   "source": [
    "s1 = 'hello, world!'\n",
    "\n",
    "# 字符串首字母大写\n",
    "print(s1.capitalize()) # Hello, world!\n",
    "# 字符串每个单词的首字母大写\n",
    "print(s1.title()) # Hello, World!\n",
    "# 字符串变大写\n",
    "print(s1.upper()) # HELLO, WORLD!\n",
    "# 字符串变小写\n",
    "s2 = 'GOODBYE'\n",
    "print(s2.lower()) # goodbye\n",
    "\n",
    "# 检查s1和s2的值\n",
    "print(s1)\n",
    "print(s2)"
   ],
   "id": "c458383871321045",
   "outputs": [
    {
     "name": "stdout",
     "output_type": "stream",
     "text": [
      "Hello, world!\n",
      "Hello, World!\n",
      "HELLO, WORLD!\n",
      "goodbye\n",
      "hello, world!\n",
      "GOODBYE\n"
     ]
    }
   ],
   "execution_count": 7
  },
  {
   "metadata": {},
   "cell_type": "markdown",
   "source": [
    "> 说明：由于字符串是不可变类型，使用字符串的方法对字符串进行操作行产生新的字符串，但是原来变量的值没有发生变化。所以上面的代码中，当最后检查`s1`和`s2`两个变量的值时，`s1`和`s2`的值并没有发生变化\n",
    "\n",
    "### 查找操作\n",
    "如果想在一个字符串从前向后查找有没有另外一个字符串，可以使用字符串的`find`或`index`方法。在使用`find`和`index`方法时还可以通过方法的参数来指定查找的范围，也就是查找不必从索引为0的位置开始。"
   ],
   "id": "9ab744a2273d8554"
  },
  {
   "metadata": {
    "ExecuteTime": {
     "end_time": "2025-10-19T02:22:40.888738Z",
     "start_time": "2025-10-19T02:22:40.701568Z"
    }
   },
   "cell_type": "code",
   "source": [
    "s = 'hello, world!'\n",
    "print(s.find('or')) # 8\n",
    "print(s.find('or', 9)) # -1\n",
    "print(s.find('of')) # -1(表示找不到)\n",
    "print(s.find('of', 9)) # -1\n",
    "\n",
    "print(s.index('or')) # 8\n",
    "print(s.index('or', 9)) # ValueError: substring not found"
   ],
   "id": "c59fbf49f8dd9426",
   "outputs": [
    {
     "name": "stdout",
     "output_type": "stream",
     "text": [
      "8\n",
      "-1\n",
      "-1\n",
      "-1\n",
      "8\n"
     ]
    },
    {
     "ename": "ValueError",
     "evalue": "substring not found",
     "output_type": "error",
     "traceback": [
      "\u001B[0;31m---------------------------------------------------------------------------\u001B[0m",
      "\u001B[0;31mValueError\u001B[0m                                Traceback (most recent call last)",
      "Cell \u001B[0;32mIn[12], line 8\u001B[0m\n\u001B[1;32m      5\u001B[0m \u001B[38;5;28mprint\u001B[39m(s\u001B[38;5;241m.\u001B[39mfind(\u001B[38;5;124m'\u001B[39m\u001B[38;5;124mof\u001B[39m\u001B[38;5;124m'\u001B[39m, \u001B[38;5;241m9\u001B[39m)) \u001B[38;5;66;03m# -1\u001B[39;00m\n\u001B[1;32m      7\u001B[0m \u001B[38;5;28mprint\u001B[39m(s\u001B[38;5;241m.\u001B[39mindex(\u001B[38;5;124m'\u001B[39m\u001B[38;5;124mor\u001B[39m\u001B[38;5;124m'\u001B[39m)) \u001B[38;5;66;03m# 8\u001B[39;00m\n\u001B[0;32m----> 8\u001B[0m \u001B[38;5;28mprint\u001B[39m(\u001B[43ms\u001B[49m\u001B[38;5;241;43m.\u001B[39;49m\u001B[43mindex\u001B[49m\u001B[43m(\u001B[49m\u001B[38;5;124;43m'\u001B[39;49m\u001B[38;5;124;43mor\u001B[39;49m\u001B[38;5;124;43m'\u001B[39;49m\u001B[43m,\u001B[49m\u001B[43m \u001B[49m\u001B[38;5;241;43m9\u001B[39;49m\u001B[43m)\u001B[49m)\n",
      "\u001B[0;31mValueError\u001B[0m: substring not found"
     ]
    }
   ],
   "execution_count": 12
  },
  {
   "metadata": {},
   "cell_type": "markdown",
   "source": [
    "> 说明：`find`方法找不到指定的字符串会返回`-1`， `index`方法找不到指定的字符串会引发`ValueError`错误。\n",
    "\n",
    "`find`和`index`方法还有逆向查找（从后向前查找）的版本，分别是`rfind`和`rindex`，代码如下面所示。"
   ],
   "id": "cb33f5fd2842a01e"
  },
  {
   "metadata": {
    "ExecuteTime": {
     "end_time": "2025-10-19T02:27:14.478389Z",
     "start_time": "2025-10-19T02:27:14.463262Z"
    }
   },
   "cell_type": "code",
   "source": [
    "s = 'hello world!'\n",
    "print(s.find('o')) # 4\n",
    "print(s.rfind('o')) # 7 从后向前查找第一个符合要求的对象\n",
    "print(s.rindex('o')) # 7\n",
    "print(s.rindex('o', 8)) # ValueError: substring not found"
   ],
   "id": "a1356479dd11968",
   "outputs": [
    {
     "name": "stdout",
     "output_type": "stream",
     "text": [
      "4\n",
      "7\n",
      "7\n"
     ]
    },
    {
     "ename": "ValueError",
     "evalue": "substring not found",
     "output_type": "error",
     "traceback": [
      "\u001B[0;31m---------------------------------------------------------------------------\u001B[0m",
      "\u001B[0;31mValueError\u001B[0m                                Traceback (most recent call last)",
      "Cell \u001B[0;32mIn[18], line 5\u001B[0m\n\u001B[1;32m      3\u001B[0m \u001B[38;5;28mprint\u001B[39m(s\u001B[38;5;241m.\u001B[39mrfind(\u001B[38;5;124m'\u001B[39m\u001B[38;5;124mo\u001B[39m\u001B[38;5;124m'\u001B[39m)) \u001B[38;5;66;03m# 7 从后向前查找第一个符合要求的对象\u001B[39;00m\n\u001B[1;32m      4\u001B[0m \u001B[38;5;28mprint\u001B[39m(s\u001B[38;5;241m.\u001B[39mrindex(\u001B[38;5;124m'\u001B[39m\u001B[38;5;124mo\u001B[39m\u001B[38;5;124m'\u001B[39m)) \u001B[38;5;66;03m# 7\u001B[39;00m\n\u001B[0;32m----> 5\u001B[0m \u001B[38;5;28mprint\u001B[39m(\u001B[43ms\u001B[49m\u001B[38;5;241;43m.\u001B[39;49m\u001B[43mrindex\u001B[49m\u001B[43m(\u001B[49m\u001B[38;5;124;43m'\u001B[39;49m\u001B[38;5;124;43mo\u001B[39;49m\u001B[38;5;124;43m'\u001B[39;49m\u001B[43m,\u001B[49m\u001B[43m \u001B[49m\u001B[38;5;241;43m8\u001B[39;49m\u001B[43m)\u001B[49m)\n",
      "\u001B[0;31mValueError\u001B[0m: substring not found"
     ]
    }
   ],
   "execution_count": 18
  },
  {
   "metadata": {},
   "cell_type": "markdown",
   "source": [
    "### 性质判断\n",
    "可以通过字符串的`startwith`、`endwith`来判断字符串是否以某个字符串形状和结尾，还可以用`is`开头的方法判断字符串的特征，这些方法都会返回布尔值。代码如下所示。\n",
    "\n"
   ],
   "id": "8d62e10318ca828f"
  },
  {
   "metadata": {
    "ExecuteTime": {
     "end_time": "2025-10-19T02:34:04.819203Z",
     "start_time": "2025-10-19T02:34:04.815824Z"
    }
   },
   "cell_type": "code",
   "source": [
    "s1 = 'hello, world!'\n",
    "print(s1.startswith('He')) # False\n",
    "print(s1.startswith('hel')) # True\n",
    "print(s1.endswith('!')) # True\n",
    "\n",
    "s2 = 'abc123456'\n",
    "print(s2.isdigit()) # False 判断字符串是不是完全由数字构成\n",
    "print(s2.isalpha()) # False 判断字符串是不是完全由字母桅，这里的字母指的是Unicode字符，但不包含Emoji字符\n",
    "print(s2.isalnum()) # True 判断字符串是不是由字母和数字构成"
   ],
   "id": "2097e4e16858c02f",
   "outputs": [
    {
     "name": "stdout",
     "output_type": "stream",
     "text": [
      "False\n",
      "True\n",
      "True\n",
      "False\n",
      "False\n",
      "True\n"
     ]
    }
   ],
   "execution_count": 26
  },
  {
   "metadata": {},
   "cell_type": "markdown",
   "source": [
    "### 格式化\n",
    "在Python中，字符串类型可以通过`center`、`ljust`、`rjust`就读做剧中，左对方和右对方的处理。如果要在字符串的左侧补零，也可以使用`zfill`方法。"
   ],
   "id": "ad056c016bc541ce"
  },
  {
   "metadata": {
    "ExecuteTime": {
     "end_time": "2025-10-19T03:41:44.773818Z",
     "start_time": "2025-10-19T03:41:44.770478Z"
    }
   },
   "cell_type": "code",
   "source": [
    "s = 'hello, world'\n",
    "print(s.center(20, '*')) # ****hello, world****\n",
    "print(s.rjust(20))       #         hello, world\n",
    "print(s.ljust(20))       # hello, world\n",
    "print(s.ljust(20, '~'))  # hello, world~~~~~~~~\n",
    "\n",
    "print('33'.zfill(5))  # 00033\n",
    "print('-33'.zfill(5)) # -0033"
   ],
   "id": "1ef835ea148f34fe",
   "outputs": [
    {
     "name": "stdout",
     "output_type": "stream",
     "text": [
      "****hello, world****\n",
      "        hello, world\n",
      "hello, world        \n",
      "hello, world~~~~~~~~\n",
      "00033\n",
      "-0033\n"
     ]
    }
   ],
   "execution_count": 31
  },
  {
   "metadata": {},
   "cell_type": "markdown",
   "source": [
    "如果需要进一步控制格式化语法变量中的形式，可以参照下面的表格来进行字符串格式化操作。\n",
    "\n",
    "|  **变量值**  |  **点位符**  | **格式化结果** |   **说明**   |\n",
    "|:---------:|:---------:|:---------:|:----------:|\n",
    "| `3.1415926 `| `{:.2f}`  | ` '3.14'  ` |  保留小数点后两位  |\n",
    "|`'3.2425926'`| `{:+.2f}` |`'+3.24'`| 带符保留小数点后两位 |\n",
    "|`123`|`{:,}`|`123,456,789`|   逗号分隔格式   |\n",
    "|`0.123`|`{:.2%}`|`'12.30%'`|   百分比格式    |\n",
    "|`123456789`|`{:.2e}`|`1.23e+08`|  科学计数法格式   |"
   ],
   "id": "954af70a95619a87"
  },
  {
   "metadata": {},
   "cell_type": "markdown",
   "source": [
    "### 修剪操作\n",
    "字符串的`strip`方法可以获得将原字符串修剪掉左右两端指定字符之后的字符串，默认是修剪空格字符。这个方法非常有实用价值，可以用来将用户输入时不小心输入的头发空格等去掉。\n"
   ],
   "id": "d76b3788342cdda0"
  },
  {
   "metadata": {
    "ExecuteTime": {
     "end_time": "2025-10-19T04:05:08.547646Z",
     "start_time": "2025-10-19T04:05:08.544417Z"
    }
   },
   "cell_type": "code",
   "source": [
    "s1 = '     chenzhangqi@nuaa.edu.cn    '\n",
    "print(s1.strip())\n",
    "\n",
    "s2 = '~ hello, world! ~'\n",
    "print(s2.lstrip('~'))\n",
    "print(s2.rstrip('~'))"
   ],
   "id": "1dd73605f11e6cd",
   "outputs": [
    {
     "name": "stdout",
     "output_type": "stream",
     "text": [
      "chenzhangqi@nuaa.edu.cn\n",
      " hello, world! ~\n",
      "~ hello, world! \n"
     ]
    }
   ],
   "execution_count": 34
  },
  {
   "metadata": {},
   "cell_type": "markdown",
   "source": [
    "### 替换操作\n",
    "如果希望用新的内容替换字符串中指定的内容，可以使用`replace`方法，如下所示。`replace`方法的每一个参数是被替换的内容，每二个参数是替换后的内容，还可以通过第三个参数指定替换的次数。"
   ],
   "id": "ec00af57db75ebf3"
  },
  {
   "metadata": {
    "ExecuteTime": {
     "end_time": "2025-10-19T04:07:27.220260Z",
     "start_time": "2025-10-19T04:07:27.217504Z"
    }
   },
   "cell_type": "code",
   "source": [
    "s = 'hello, good world'\n",
    "print(s.replace('o', '@'))\n",
    "print(s.replace('o','@', 2))"
   ],
   "id": "b92806680e9e15ec",
   "outputs": [
    {
     "name": "stdout",
     "output_type": "stream",
     "text": [
      "hell@, g@@d w@rld\n",
      "hell@, g@od world\n"
     ]
    }
   ],
   "execution_count": 35
  },
  {
   "metadata": {},
   "cell_type": "markdown",
   "source": [
    "### 拆分与合并\n",
    "可以使用字符串的`split`方法将一个字符串拆分为多个字符串（放在一个列表中），可可以使用字符串的`join`方法将列表中的多个字符串连接成一个字符串。"
   ],
   "id": "9fa8687d23b4635a"
  },
  {
   "metadata": {
    "ExecuteTime": {
     "end_time": "2025-10-19T04:14:33.161318Z",
     "start_time": "2025-10-19T04:14:33.158169Z"
    }
   },
   "cell_type": "code",
   "source": [
    "s = 'I love you'\n",
    "words = s.split()\n",
    "print(words) # ['I', 'love', 'you']\n",
    "print('~'.join(words)) # I~love~you"
   ],
   "id": "bdcc87e00963b6bc",
   "outputs": [
    {
     "name": "stdout",
     "output_type": "stream",
     "text": [
      "['I', 'love', 'you']\n",
      "I~love~you\n"
     ]
    }
   ],
   "execution_count": 38
  },
  {
   "metadata": {},
   "cell_type": "markdown",
   "source": "需要说明的是，split方法黑夜使用空格进行拆分，我们也可能指定其它字符来拆分字符串，而且还可以指定最大拆分次数来控制拆分的效果。",
   "id": "20e665f135a4e624"
  },
  {
   "metadata": {
    "ExecuteTime": {
     "end_time": "2025-10-19T04:19:03.130245Z",
     "start_time": "2025-10-19T04:19:03.126734Z"
    }
   },
   "cell_type": "code",
   "source": [
    "s = 'I#love#you#so#much'\n",
    "words = s.split('#')\n",
    "print(words) # ['I', 'love', 'you', 'so', 'much']\n",
    "words = s.split('#', 2)\n",
    "print(words) # ['I', 'love', 'you#so#much']"
   ],
   "id": "89b1fce04f958ba9",
   "outputs": [
    {
     "name": "stdout",
     "output_type": "stream",
     "text": [
      "['I', 'love', 'you', 'so', 'much']\n",
      "['I', 'love', 'you#so#much']\n"
     ]
    }
   ],
   "execution_count": 41
  },
  {
   "metadata": {},
   "cell_type": "markdown",
   "source": [
    "### 编码和解码\n",
    "Python中除了字符串str类型来，还有一种表示二进制数据的字节串类型(`bytes`)。所谓字节串，就是由**零个或多个字节组成的有限序列**。通过字符串`encode`方法，可以按照某种编码方式将字符串编码为字节串，也可以使用字节串的`decode`方法，将字节串解码为为字符串，代码如下。"
   ],
   "id": "213ecd6cf711959b"
  },
  {
   "metadata": {
    "ExecuteTime": {
     "end_time": "2025-10-19T04:26:38.580386Z",
     "start_time": "2025-10-19T04:26:38.577141Z"
    }
   },
   "cell_type": "code",
   "source": [
    "a = '陈章齐'\n",
    "b = a.encode('utf-8') # b'\\xe9\\x99\\x88\\xe7\\xab\\xa0\\xe9\\xbd\\x90'\n",
    "c = a.encode('gbk') # b'\\xb3\\xc2\\xd5\\xc2\\xc6\\xeb'\n",
    "\n",
    "print(b)\n",
    "print(c)\n",
    "\n",
    "print(b.decode('utf-8')) # 陈章齐\n",
    "print(c.decode('gbk')) # 陈章齐\n"
   ],
   "id": "b47c028398263cef",
   "outputs": [
    {
     "name": "stdout",
     "output_type": "stream",
     "text": [
      "b'\\xe9\\x99\\x88\\xe7\\xab\\xa0\\xe9\\xbd\\x90'\n",
      "b'\\xb3\\xc2\\xd5\\xc2\\xc6\\xeb'\n",
      "陈章齐\n",
      "陈章齐\n"
     ]
    }
   ],
   "execution_count": 49
  },
  {
   "metadata": {},
   "cell_type": "markdown",
   "source": [
    "> 说明：如果编码和解码方式不一致，会导致乱码问题（无法再现原始的内容）或引发`UnicodeDecodeError`错误，导致程序崩溃。\n",
    "\n",
    "### 其它方法\n",
    "对于字符串类型来说，还有一个常用的操作是对字符串进行匹配检查，即检查字符串是否满足某种特定的模式。例如，一个网站对用户注册信息中用户名和邮箱的检查，就属于模式匹配检查。实现模式匹配检查的工具叫做正则表达式，Python语言中通过标准库中的re模块提供了对与此同时表达式的支持。\n",
    "\n",
    "## 总结\n",
    "智能如何表示和操作字符串是非常重要的，Python中操作字符串可以用拼接、索引、切片等运算符，也可以使用字符串类型提供的方法"
   ],
   "id": "e91d646a88a90d55"
  }
 ],
 "metadata": {
  "kernelspec": {
   "display_name": "Python 3",
   "language": "python",
   "name": "python3"
  },
  "language_info": {
   "codemirror_mode": {
    "name": "ipython",
    "version": 2
   },
   "file_extension": ".py",
   "mimetype": "text/x-python",
   "name": "python",
   "nbconvert_exporter": "python",
   "pygments_lexer": "ipython2",
   "version": "2.7.6"
  }
 },
 "nbformat": 4,
 "nbformat_minor": 5
}
