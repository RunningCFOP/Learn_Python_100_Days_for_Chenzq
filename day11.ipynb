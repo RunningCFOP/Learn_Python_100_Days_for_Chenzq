{
 "cells": [
  {
   "metadata": {},
   "cell_type": "markdown",
   "source": [
    "## 常用数据结构之**字符串**\n",
    "***\n",
    "第二次世界大战促使了现代电子计算机的诞生，世界上的第一台通用电子计算机名叫 ENIAC（电子数值积分计算机），诞生于美国的宾夕法尼亚大学，占地167平米，重量约27吨，每秒钟大约能够完成约5000次浮点运算，如下图所示。ENIAC 诞生之后被应用于导弹弹道的计算，而数值计算也是现代电子计算机最为重要的一项功能。随着时间的推移，虽然数值运算仍然是计算机日常工作中最为重要的组成部分，但是今天的计算机还要处理大量的以文本形式存在的信息。如果我们希望通过 Python 程序来操作本这些文本信息，就必须要先了解字符串这种数据类型以及与它相关的运算和方法。\n",
    "\n",
    "### 字符串的定义\n",
    "所谓字符串，就是由零个或多个字符组成的有限序列，一般记为：\n",
    "$$\n",
    "s = a_1a_2...a_n    (0\\leq n \\leq \\infty)\n",
    "$$\n",
    "在Python中，我们把单个或多个字符用单引用或者双引号包围起来，就可以表示一个字符串。字符串中的字符可以是特殊符号、英文字母、中文字符，日文的平假名或片假名、希腊字母、Emoji字符（如：💩、🐷、🀄️）等。"
   ],
   "id": "158c382d5df458df"
  },
  {
   "metadata": {
    "ExecuteTime": {
     "end_time": "2025-10-15T04:33:14.145404Z",
     "start_time": "2025-10-15T04:33:14.139901Z"
    }
   },
   "cell_type": "code",
   "source": [
    "s1 = 'hello world'\n",
    "s2 = \"你好，世界，❤️\"\n",
    "s3 = '''hello,\n",
    "wonderful\n",
    "world!\n",
    "'''\n",
    "print(f'{s1 = }, {s2 = }, {s3 = }')"
   ],
   "id": "1178bf840bd0a21a",
   "outputs": [
    {
     "name": "stdout",
     "output_type": "stream",
     "text": [
      "s1 = 'hello world', s2 = '你好，世界，❤️', s3 = 'hello,\\nwonderful\\nworld!\\n'\n"
     ]
    }
   ],
   "execution_count": 1
  },
  {
   "metadata": {},
   "cell_type": "markdown",
   "source": [
    "### 转义字符\n",
    "可以在字符串中使用`\\`（反斜杠）为表示转义，也就是说`\\`后面的字符不再是它原来的意义，例如：`\\n`不是代表字符`\\`和字符`n`，而是表示换行；`\\t`也不是代表字符`\\`和字符`t`，而是表示制表符。所以如果字符串本身又包含了`'`、`\"`、`\\`这些特殊字符，必须要通过`\\`进行转义处理，例如要输出一个带单绰号或反斜杠的字符串，老板娘用如下所示的方法。"
   ],
   "id": "bef6cfe98658a79f"
  },
  {
   "metadata": {
    "ExecuteTime": {
     "end_time": "2025-10-15T04:41:26.991591Z",
     "start_time": "2025-10-15T04:41:26.988494Z"
    }
   },
   "cell_type": "code",
   "source": [
    "s1 = '\\'hello, world!\\''\n",
    "s2 = '\\\\hello, world!\\\\'\n",
    "print(s1)\n",
    "print(s2)\n",
    "\n",
    "print('\\'')\n",
    "print('\\\\')\n",
    "\n",
    "print('s1')\n",
    "print('s2')\n",
    "\n",
    "print(f'{s1 = }')\n",
    "print(f'{s2 = }')"
   ],
   "id": "d97d6d7efa90e18b",
   "outputs": [
    {
     "name": "stdout",
     "output_type": "stream",
     "text": [
      "'hello, world!'\n",
      "\\hello, world!\\\n",
      "'\n",
      "\\\n",
      "s1\n",
      "s2\n",
      "s1 = \"'hello, world!'\"\n",
      "s2 = '\\\\hello, world!\\\\'\n"
     ]
    }
   ],
   "execution_count": 9
  }
 ],
 "metadata": {
  "kernelspec": {
   "display_name": "Python 3",
   "language": "python",
   "name": "python3"
  },
  "language_info": {
   "codemirror_mode": {
    "name": "ipython",
    "version": 2
   },
   "file_extension": ".py",
   "mimetype": "text/x-python",
   "name": "python",
   "nbconvert_exporter": "python",
   "pygments_lexer": "ipython2",
   "version": "2.7.6"
  }
 },
 "nbformat": 4,
 "nbformat_minor": 5
}
