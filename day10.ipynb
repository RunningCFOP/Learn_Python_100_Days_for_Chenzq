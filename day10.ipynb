{
 "cells": [
  {
   "metadata": {},
   "cell_type": "markdown",
   "source": [
    "## 常用数据结构之**元组**\n",
    "***\n",
    "之前介绍的Python中的列表，是一种容器型的数据类型，通过列表类型的变量，可以保存多个数据并通过循环实现对数据的批量操作。Python中还有其它容器型的数据类型，本节主要介绍**元组**\n",
    "\n",
    "### 元组的定义和运算\n",
    "在Python语言中，无级也是多个元素按照一定顺序构成的序列。\n",
    "> 元组和列表的不同之处在于，**元组是不可变类型**。\n",
    "\n",
    "这就意味着元组类型的变量一旦定义，其中的元素不能再添加或删除，而且元素的值也不能修改。如果试图修改元组中的元素，将引发`TypeError`错误，导致程序崩溃。\n",
    "> 定义元组通常使用形如`(x, y, z)`的字面量语法，元素支持的运算符跟列表是一样的。"
   ],
   "id": "22e7a1bf4e55af4b"
  },
  {
   "metadata": {
    "ExecuteTime": {
     "end_time": "2025-10-15T02:31:56.189787Z",
     "start_time": "2025-10-15T02:31:56.184106Z"
    }
   },
   "cell_type": "code",
   "source": [
    "# 定义一个三元组\n",
    "t1 = (35, 12, 98)\n",
    "# 定义一个四元组\n",
    "t2 = ('陈章齐', 29, True, '江苏南京')\n",
    "\n",
    "# 查看变量类型\n",
    "print(type(t1), end = ' ') # <class 'tuple'>\n",
    "print(type(t2)) #\n",
    "\n",
    "# 查看元组中的元素的数量\n",
    "print(len(t1), end = ' ') # 3\n",
    "print(len(t2)) # 4\n",
    "\n",
    "# 索引运算\n",
    "print(t1[0]) # 35\n",
    "print(t1[2]) # 98\n",
    "print(t2[-1]) # 江苏南京\n",
    "\n",
    "# 切片运算\n",
    "print(t2[:2]) # (‘陈章齐’， 29)\n",
    "print(t2[:0]) # ()\n",
    "print(t2[::3]) # ('陈章齐', '江苏南京')\n",
    "\n",
    "# 循环遍历元组中的元素\n",
    "for ele in t1:\n",
    "    print(ele, end = ' ') # 35 12 98 这一部分是不带括号的，只输出了元组中的元素\n",
    "print()\n",
    "print(t1) # (35, 12, 98)\n",
    "\n",
    "# 成员运算\n",
    "print(12 in t1) # Ture\n",
    "print(99 in t1) # False\n",
    "print('Hao' not in t2) # True\n",
    "\n",
    "# 拼接运算\n",
    "t3 = t1 + t2\n",
    "print(t3) # (35, 12, 98, '陈章齐', 29, True, '江苏南京')\n",
    "\n",
    "# 比较运算\n",
    "print(t1 == t3) # False\n",
    "print(t1 >= t3) # False\n",
    "print(t1 <= (35, 11, 99)) # False"
   ],
   "id": "bc94512ef7823681",
   "outputs": [
    {
     "name": "stdout",
     "output_type": "stream",
     "text": [
      "<class 'tuple'> <class 'tuple'>\n",
      "3 4\n",
      "35\n",
      "98\n",
      "江苏南京\n",
      "('陈章齐', 29)\n",
      "()\n",
      "('陈章齐', '江苏南京')\n",
      "35 12 98 \n",
      "(35, 12, 98)\n",
      "True\n",
      "False\n",
      "True\n",
      "(35, 12, 98, '陈章齐', 29, True, '江苏南京')\n",
      "False\n",
      "False\n",
      "False\n"
     ]
    }
   ],
   "execution_count": 12
  },
  {
   "metadata": {},
   "cell_type": "markdown",
   "source": "一个元组中如果有两个元素，称之为二元组；一个元组中如果有五个元素，称之为五无组。`()`表示空元组，但是如果元组中只有一个元元，则需要加上一个逗号，否则`()`就不再是代表元组字面量的语法，而是改变运算优先组的圆括号，所以`('hello', )`和`(100, )`才是一元组，而`('hello')`和`(100)`只是字符串和整数。可以通过以下代码时行验证",
   "id": "1e786105e1cce14c"
  },
  {
   "metadata": {
    "ExecuteTime": {
     "end_time": "2025-10-15T02:39:23.986152Z",
     "start_time": "2025-10-15T02:39:23.982879Z"
    }
   },
   "cell_type": "code",
   "source": [
    "a = ()\n",
    "print(f'{type(a) = }') # type(a) = <class 'tuple'>\n",
    "\n",
    "b = ('hello')\n",
    "print(f'{type(b) = }') # type(b) = <class 'str'>\n",
    "\n",
    "c = ('hello', )\n",
    "print(f'{type(c) = }') # type(c) = <class 'tuple'>\n",
    "\n",
    "d = (100)\n",
    "print(f'{type(d) = }') # type(d) = <class 'int'>\n",
    "\n",
    "e = (100, )\n",
    "print(f'{type(e) = }') # type(e) = <class 'tuple'>"
   ],
   "id": "3b39dcfb205523d7",
   "outputs": [
    {
     "name": "stdout",
     "output_type": "stream",
     "text": [
      "type(a) = <class 'tuple'>\n",
      "type(b) = <class 'str'>\n",
      "type(c) = <class 'tuple'>\n",
      "type(d) = <class 'int'>\n",
      "type(e) = <class 'tuple'>\n"
     ]
    }
   ],
   "execution_count": 17
  },
  {
   "metadata": {},
   "cell_type": "markdown",
   "source": [
    "### 打包和解包操作\n",
    "当我们把多个逗号分隔的值赋给一个变量时，多个值会打包成一个元组类型；当我们把一个元组赋值组多个变量时，元组会解包成多个值然后分别赋给对应的变量，如下面的代码所示。"
   ],
   "id": "ea93a85b3c50221d"
  },
  {
   "metadata": {
    "ExecuteTime": {
     "end_time": "2025-10-15T02:44:07.104107Z",
     "start_time": "2025-10-15T02:44:07.100018Z"
    }
   },
   "cell_type": "code",
   "source": [
    "# 打包操作\n",
    "a = 1, 10, 100\n",
    "print(f'{a = }') # a = (1, 10, 100)\n",
    "print(f'{type(a) = }') # type(a) = <class 'tuple'>\n",
    "\n",
    "# 解包操作\n",
    "i, j ,k = a\n",
    "print(i, j, k) # 1 10 100\n",
    "print(f'{i = }, {j = }, {k = }') # i = 1, j = 10, k = 100\n",
    "print(f'{type(i) = }') # type(i) = <class 'int'>"
   ],
   "id": "818b4fc8163c6de1",
   "outputs": [
    {
     "name": "stdout",
     "output_type": "stream",
     "text": [
      "a = (1, 10, 100)\n",
      "type(a) = <class 'tuple'>\n",
      "1 10 100\n",
      "i = 1, j = 10, k = 100\n",
      "type(i) = <class 'int'>\n"
     ]
    }
   ],
   "execution_count": 20
  },
  {
   "metadata": {},
   "cell_type": "markdown",
   "source": "> 说明：如果解包出来的元素个数和变量个数不对应，会引发`ValueError`异常，错误信息为: `too many values to unpack` 或 `not enough valuse to unpack`.",
   "id": "3c4f20f6d5596f7b"
  },
  {
   "metadata": {
    "ExecuteTime": {
     "end_time": "2025-10-15T02:54:18.764001Z",
     "start_time": "2025-10-15T02:54:18.761427Z"
    }
   },
   "cell_type": "code",
   "source": [
    "a = 1, 10 ,100, 1000\n",
    "# i, j, k = a # ValueEooro: too many values to unpack (expected 3)\n",
    "# i, j, k, m, n = a # ValueError: not enough values to unpack (expected 5, got 4)"
   ],
   "id": "4a3d0daa1507e69e",
   "outputs": [],
   "execution_count": 23
  },
  {
   "metadata": {},
   "cell_type": "markdown",
   "source": [
    "有一种解决变量个数少于元素的个数方法，就是使用**星号表达式**。通过星号表达式，可以让一个变量接收多个值。但需要注意两点：\\\n",
    "1） 首先，用星号表达式修饰的变量会变成一个**列表**，列表中有0个或多个元素；\\\n",
    "2） 其次，在解包语法中，星号表达式只能出现一次。\n"
   ],
   "id": "b8923162f4163471"
  },
  {
   "metadata": {
    "ExecuteTime": {
     "end_time": "2025-10-15T03:08:22.525111Z",
     "start_time": "2025-10-15T03:08:22.520001Z"
    }
   },
   "cell_type": "code",
   "source": [
    "a = 1, 10, 100, 1000\n",
    "\n",
    "i, j, *k = a\n",
    "print(f'{i = }, {j = }, {k = }') # a = 1, 10, 100, 1000\n",
    "\n",
    "i, *j, k = a\n",
    "print(f'{i = }, {j = }, {k = }') # i = 1, j = [10, 100], k = 1000\n",
    "\n",
    "*i, j, k = a\n",
    "print(f'{i = }, {j = }, {k = }') # i = [1, 10], j = 100, k = 1000\n",
    "\n",
    "*i, j = a\n",
    "print(f'{i = }, {j = }') # i = [1, 10, 100], j = 1000\n",
    "\n",
    "i, *j = a\n",
    "print(f'{i = }, {j = }') # i = 1, j = [10, 100, 1000]\n",
    "\n",
    "i, j, k, *l = a\n",
    "print(f'{i = }, {j = }, {k = }, {l = }') # i = 1, j = 10, k = 100, l = [1000]\n",
    "\n",
    "i, j, k, l, *m = a\n",
    "print(f'{i = }, {j = }, {k = }, {l = }, {m = }') # i = 1, j = 10, k = 100, l = 1000, m = []"
   ],
   "id": "9367a9b9ca0cc64a",
   "outputs": [
    {
     "name": "stdout",
     "output_type": "stream",
     "text": [
      "i = 1, j = 10, k = [100, 1000]\n",
      "i = 1, j = [10, 100], k = 1000\n",
      "i = [1, 10], j = 100, k = 1000\n",
      "i = [1, 10, 100], j = 1000\n",
      "i = 1, j = [10, 100, 1000]\n",
      "i = 1, j = 10, k = 100, l = [1000]\n",
      "i = 1, j = 10, k = 100, l = 1000, m = []\n"
     ]
    }
   ],
   "execution_count": 31
  },
  {
   "metadata": {},
   "cell_type": "markdown",
   "source": "> 说明：解包语法对所有的序列都成立，这意味着之前的列表，`range`函数构造的范围序列甚至字符串都可以使用解包语法",
   "id": "77d442fafe6dc3f3"
  },
  {
   "metadata": {
    "ExecuteTime": {
     "end_time": "2025-10-15T03:16:19.066682Z",
     "start_time": "2025-10-15T03:16:19.062589Z"
    }
   },
   "cell_type": "code",
   "source": [
    "a, b, *c = range(1,10)\n",
    "print(range(1, 10)) # range(1, 10)\n",
    "print(list(range(1, 10))) #[1, 2, 3, 4, 5, 6, 7, 8, 9]\n",
    "print(f'{a = }, {b = }, {c = }') # a = 1, b = 2, c = [3, 4, 5, 6, 7, 8, 9]\n",
    "\n",
    "a, b, c = [1, 10, 100]\n",
    "print(f'{a = }, {b = }, {c = }') # a = 1, b = 10, c = 100\n",
    "\n",
    "a, *b, c = [1, 10, 100]\n",
    "print(f'{a = }, {b = }, {c = }') # a = 1, b = [10], c = 100\n",
    "\n",
    "a, b, *c = 'hello'\n",
    "print(f'{a = }, {b = }, {c = }') # a = 'h', b = 'e', c = ['l', 'l', 'o']"
   ],
   "id": "b510e013dd8081d1",
   "outputs": [
    {
     "name": "stdout",
     "output_type": "stream",
     "text": [
      "range(1, 10)\n",
      "[1, 2, 3, 4, 5, 6, 7, 8, 9]\n",
      "a = 1, b = 2, c = [3, 4, 5, 6, 7, 8, 9]\n",
      "a = 1, b = 10, c = 100\n",
      "a = 1, b = [10], c = 100\n",
      "a = 'h', b = 'e', c = ['l', 'l', 'o']\n"
     ]
    }
   ],
   "execution_count": 38
  },
  {
   "metadata": {},
   "cell_type": "markdown",
   "source": [
    "### 交换变量的值\n",
    " 交换变量的值是写代码时经常乃至的一个操作，但是在很多编程语言中，变换两个变量的值都需要借助一个中间变量才能够做到，如果不用中间变量就需要使用比较晦涩的位运算来实现。在Python中，交换两个变量`a`和`b`的值只需要使用如下所示的代码："
   ],
   "id": "1f3a9e2e925e99b2"
  },
  {
   "metadata": {
    "ExecuteTime": {
     "end_time": "2025-10-15T03:20:38.577561Z",
     "start_time": "2025-10-15T03:20:38.574639Z"
    }
   },
   "cell_type": "code",
   "source": [
    "a , b = 1, 2\n",
    "print(f'{a = }, {b = }') # a = 1, b = 2\n",
    "a, b = b, a\n",
    "print(f'{a = }, {b = }') # a = 2, b = 1"
   ],
   "id": "ec4c49e67f69ec8d",
   "outputs": [
    {
     "name": "stdout",
     "output_type": "stream",
     "text": [
      "a = 1, b = 2\n",
      "a = 2, b = 1\n"
     ]
    }
   ],
   "execution_count": 39
  },
  {
   "metadata": {},
   "cell_type": "markdown",
   "source": "同理，如果要将三个变量`a`、`b`、`c`的值互换，即b的值赋给`a`，`c`的值赋给`b`，`a`的值赋给`c`，也可以如法炮制。",
   "id": "d9ec6fa8de98510c"
  },
  {
   "metadata": {
    "ExecuteTime": {
     "end_time": "2025-10-15T03:24:24.998235Z",
     "start_time": "2025-10-15T03:24:24.995163Z"
    }
   },
   "cell_type": "code",
   "source": [
    "a, b, c = (1, 10, 100)\n",
    "print(f'{a = }, {b = }, {c = }') # a = 1, b = 10, c = 100\n",
    "\n",
    "a, b, c = b, c, a\n",
    "print(f'{a = }, {b = }, {c = }') # a = 10, b = 100, c = 1"
   ],
   "id": "6f5ce38491559b32",
   "outputs": [
    {
     "name": "stdout",
     "output_type": "stream",
     "text": [
      "a = 1, b = 10, c = 100\n",
      "a = 10, b = 100, c = 1\n"
     ]
    }
   ],
   "execution_count": 40
  },
  {
   "metadata": {},
   "cell_type": "markdown",
   "source": [
    "需要说明的是，上面的操作并没有用到打包和解包语法，Python 的字节码指令中有`ROT_TWO`和`ROT_THREE`这样的指令可以直接实现这个操作，效率是常高的。但是如果有多于三个变量的值要依次互换，这个时候是没有直接可用的字节码指令的，需要通过打包解包的方式来完成变量之间值的交换。\n",
    "\n"
   ],
   "id": "b61454eda73b686d"
  },
  {
   "metadata": {
    "ExecuteTime": {
     "end_time": "2025-10-15T03:28:10.469398Z",
     "start_time": "2025-10-15T03:28:10.466018Z"
    }
   },
   "cell_type": "code",
   "source": [
    "elements = (1, 10, 100, 1000, 10000)\n",
    "a, b, c, d, e = elements\n",
    "print(f'{a = }, {b = }, {c = }, {d = }, {e = }') # a = 1, b = 10, c = 100, d = 1000, e = 1000\n",
    "\n",
    "e, a, b, c, d = elements\n",
    "print(f'{a = }, {b = }, {c = }, {d = }, {e = }') # a = 10, b = 100, c = 1000, d = 10000, e = 1"
   ],
   "id": "5e6c0c589b0f4c24",
   "outputs": [
    {
     "name": "stdout",
     "output_type": "stream",
     "text": [
      "a = 1, b = 10, c = 100, d = 1000, e = 10000\n",
      "a = 10, b = 100, c = 1000, d = 10000, e = 1\n"
     ]
    }
   ],
   "execution_count": 42
  },
  {
   "metadata": {},
   "cell_type": "markdown",
   "source": [
    "### 元组和列表的比较\n",
    "这里还有一个非常值得讨论的问题，Python中已经有了列表的类型，为什么还需要元组这样的类型？\\\n",
    "1. 元组是不可变类型，**不可变类型更适合多线程环境**，因为它降低了并发访问变量的同步化开销。这一点在后续并发编程时进行学习；\n",
    "2. 元是不可变类型，通常**不可变类型在创建时间上优于对应的可变类型**。可以使用`timeit`模块的`timeit`函数来看看创建保存相同元素的元组和列表各自花费的时间，`timeit`函数的`number`参数表示代码执行的次数。下面的代码中，分别创建和保存`1`到`9`的整数的列表和元组，每个操作执行`1000,0000`次，统计运行时间。"
   ],
   "id": "fc5bb982eb3074ed"
  },
  {
   "metadata": {
    "ExecuteTime": {
     "end_time": "2025-10-15T03:58:19.108129Z",
     "start_time": "2025-10-15T03:58:13.959254Z"
    }
   },
   "cell_type": "code",
   "source": [
    "import timeit\n",
    "\n",
    "# print('%.3f 秒' % timeit.timeit('[1, 2, 3, 4, 5, 6, 7, 8, 9]', number = 100000000)) # 4.675s\n",
    "# print('%.3f 秒' % timeit.timeit('(1, 2, 3, 4, 5, 6, 7, 8, 9)', number = 100000000)) # 0.532s\n",
    "\n",
    "a = timeit.timeit('[1, 2, 3, 4, 5, 6, 7, 8, 9]', number = 100000000)\n",
    "b = timeit.timeit('(1, 2, 3, 4, 5, 6, 7, 8, 9)', number = 100000000)\n",
    "print('%.3f s' % a)\n",
    "print('%.3f s' % b)\n",
    "ratio = a / b\n",
    "print(f'在创建和保存元素的效率上，元组执行效率是列表的{ratio = :.1f}倍 ')"
   ],
   "id": "8eb546ce21f17f99",
   "outputs": [
    {
     "name": "stdout",
     "output_type": "stream",
     "text": [
      "4.614 s\n",
      "0.531 s\n",
      "在创建和保存元素的效率上，元组执行效率是列表的ratio = 8.691倍 \n"
     ]
    }
   ],
   "execution_count": 49
  },
  {
   "metadata": {},
   "cell_type": "markdown",
   "source": "当然，Python中的元组和列表类型是可以相互转换的，可以通过下面的代码来完成操作。",
   "id": "55bbe059506d7a0e"
  },
  {
   "metadata": {
    "ExecuteTime": {
     "end_time": "2025-10-15T04:01:25.301202Z",
     "start_time": "2025-10-15T04:01:25.296886Z"
    }
   },
   "cell_type": "code",
   "source": [
    "infos = ('陈章齐', 29, True, '江苏南京')\n",
    "# 将元组转换成列表\n",
    "print(list(infos)) # infos = ('陈章齐', 29, True, '江苏南京')\n",
    "\n",
    "frts = ['apple', 'banana', 'orange']\n",
    "# 将列表转换成元组\n",
    "print(tuple(frts)) # ('apple', 'banana', 'orange')"
   ],
   "id": "76ae64d8abd75bde",
   "outputs": [
    {
     "name": "stdout",
     "output_type": "stream",
     "text": [
      "['陈章齐', 29, True, '江苏南京']\n",
      "('apple', 'banana', 'orange')\n"
     ]
    }
   ],
   "execution_count": 51
  },
  {
   "metadata": {},
   "cell_type": "markdown",
   "source": [
    "### 总结\n",
    "**列表和元组都是容器型的数据类型**，即一个变量可以保丰多个数据而且它们都是按一定顺序组织元素的有序容器。**列表是可变数据类型，元组是不可变数据类型**，所以列表可以添加元素、删除元素、清空元素、排序反转，但这些操作对元组来说是不成立的。列表和元组都可以支持接**拼接运算、成员运算、索引运算、切片运算**等操作，之后的字符串也支持这些运算，因为字符串就是字符按一定顺序构成的序列，这一点上三者并没有什么区别。**推荐使用列表的生成语法来创建列表**，它不仅好用而且效率也高，是Python语言中非常有特色的语法。"
   ],
   "id": "15ea6381772c2535"
  }
 ],
 "metadata": {
  "kernelspec": {
   "display_name": "Python 3",
   "language": "python",
   "name": "python3"
  },
  "language_info": {
   "codemirror_mode": {
    "name": "ipython",
    "version": 2
   },
   "file_extension": ".py",
   "mimetype": "text/x-python",
   "name": "python",
   "nbconvert_exporter": "python",
   "pygments_lexer": "ipython2",
   "version": "2.7.6"
  }
 },
 "nbformat": 4,
 "nbformat_minor": 5
}
