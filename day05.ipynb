{
 "cells": [
  {
   "metadata": {},
   "cell_type": "markdown",
   "source": [
    "# 分支结构\n",
    "20251004</p>\n",
    "Python程序中，如果程序是一条一条执行的，叫做顺序结构，如果场景中出现分支，而且只有一个会被执行，则称这种结构为“分支结构”或“选择结构”。\n",
    "## 使用`if`和`else`构造分支结构\n",
    "在Python中，构造分支结构最常用的是`if`, `elif`,和`else`三个关键字。\n",
    "> 关键字：即在编程语言中有特殊含义的单词，且不能用来作为变量名"
   ],
   "id": "4423b0d8e51ca17b"
  },
  {
   "metadata": {},
   "cell_type": "code",
   "outputs": [],
   "execution_count": null,
   "source": "# 编写一个身体质量指数（BMI）计算器",
   "id": "dd8263b0cdb5e0eb"
  },
  {
   "metadata": {},
   "cell_type": "markdown",
   "source": [
    "身体质量质数也叫体质指数，是衡量人体胖瘦程度以及是否健康的一个指标，计算公式如下，通常认为：</p>\n",
    "$18.5\\leq BMI\\leq24$是正常范围，$BMI<18.5$说明体重过轻，$BMI>24$说明体重过重，$BMI\\geq27$就属于肥胖范畴了。</p>\n",
    "$$BMI = \\frac{体重}{身高^2}$$\n",
    "> 说明：上面公式中的体重以千克（kg）为单位，身高以米（m）为单位。\n"
   ],
   "id": "c38769dd75fe7acd"
  },
  {
   "metadata": {
    "ExecuteTime": {
     "end_time": "2025-10-04T04:19:12.107389Z",
     "start_time": "2025-10-04T04:19:06.922461Z"
    }
   },
   "cell_type": "code",
   "source": [
    "weight = float(input('请输入体重，以kg为单位的纯数值：'))\n",
    "height = float(input('请输入身高，以cm为单位的纯数值：'))\n",
    "\n",
    "BMI = weight / ((height / 100) ** 2)\n",
    "\n",
    "print(f'{BMI =  :.1f}')\n",
    "\n",
    "# 假设输入体重70kg，身高175cm， BMI计算结果约为 22.857142857142858\n",
    "# 则不同的打印方式对比：\n",
    "\"\"\"\n",
    "print(BMI)           # 输出: 22.857142857142858\n",
    "print(f\"{BMI}\")      # 输出: 22.857142857142858\n",
    "print(f\"{BMI = }\")   # 输出: BMI = 22.857142857142858\n",
    "print(f\"{BMI = :.1f}\") # 输出: BMI = 22.9\n",
    "print(f\"{BMI = :.2f}\") # 输出: BMI = 22.86\n",
    "\"\"\"\n",
    "\n",
    "if 18.5 <= BMI <= 24:\n",
    "    print('你的身体很棒！')\n",
    "elif BMI < 18.5:\n",
    "    print('你的体重过轻！')\n",
    "elif 24 < BMI <= 27:\n",
    "    print('你已轻度肥胖！')\n",
    "elif 27 < BMI <= 30:\n",
    "    print('你已中度肥胖！')\n",
    "elif 30 < BMI:\n",
    "    print('你已重度肥胖！')"
   ],
   "id": "93f72ad80a549dfb",
   "outputs": [
    {
     "name": "stdout",
     "output_type": "stream",
     "text": [
      "BMI =  25.4\n",
      "你已轻度肥胖！\n"
     ]
    }
   ],
   "execution_count": 5
  },
  {
   "metadata": {},
   "cell_type": "markdown",
   "source": [
    "## 使用match和case构造分支结构\n",
    "Python3.10 中增加了一种新的构造分支结构，通过使用`match`和`case`关键字，可以构造多分支结构。"
   ],
   "id": "1eac783fabd32b05"
  },
  {
   "metadata": {
    "ExecuteTime": {
     "end_time": "2025-10-04T04:24:52.731858Z",
     "start_time": "2025-10-04T04:24:50.275215Z"
    }
   },
   "cell_type": "code",
   "source": [
    "# 对比示例\n",
    "status_code = int(input('响应状态码: '))\n",
    "if status_code == 400:\n",
    "    description = 'Bad Request'\n",
    "elif status_code == 401:\n",
    "    description = 'Unauthorized'\n",
    "elif status_code == 403:\n",
    "    description = 'Forbidden'\n",
    "elif status_code == 404:\n",
    "    description = 'Not Found'\n",
    "elif status_code == 405:\n",
    "    description = 'Method Not Allowed'\n",
    "elif status_code == 418:\n",
    "    description = 'I am a teapot'\n",
    "elif status_code == 429:\n",
    "    description = 'Too many requests'\n",
    "else:\n",
    "    description = 'Unknown status Code'\n",
    "print('状态码描述:', description)"
   ],
   "id": "346349d4231b6cf8",
   "outputs": [
    {
     "name": "stdout",
     "output_type": "stream",
     "text": [
      "状态码描述: Not Found\n"
     ]
    }
   ],
   "execution_count": 6
  },
  {
   "metadata": {},
   "cell_type": "markdown",
   "source": "下面是使用match-case 语法实现的代码，但更加简洁和优雅：",
   "id": "79d84917948ed542"
  },
  {
   "metadata": {
    "ExecuteTime": {
     "end_time": "2025-10-04T04:27:09.481260Z",
     "start_time": "2025-10-04T04:27:09.477596Z"
    }
   },
   "cell_type": "code",
   "source": [
    "status_code = int(input('响应状态码查询：'))\n",
    "match status_code:\n",
    "    case 400: description = 'Bad Request'\n",
    "    case _: description = 'Unknown Status Code'"
   ],
   "id": "2d4f49c5e5c407b",
   "outputs": [
    {
     "ename": "SyntaxError",
     "evalue": "invalid syntax (3098444366.py, line 2)",
     "output_type": "error",
     "traceback": [
      "\u001B[0;36m  Cell \u001B[0;32mIn[7], line 2\u001B[0;36m\u001B[0m\n\u001B[0;31m    match status_code:\u001B[0m\n\u001B[0m          ^\u001B[0m\n\u001B[0;31mSyntaxError\u001B[0m\u001B[0;31m:\u001B[0m invalid syntax\n"
     ]
    }
   ],
   "execution_count": 7
  },
  {
   "metadata": {},
   "cell_type": "markdown",
   "source": [
    "## 分支结构的应用\n",
    "### 例1: 分段函数求值\n",
    "有如下所示的分段函数，要求输入`x`，计算出`y`.\n",
    "\n",
    "$$\n",
    "y =\n",
    "\\begin{cases}\n",
    "3x -5 & (x > 1) \\\\\n",
    "x + 2 & (-1 \\leq x \\leq  1) \\\\\n",
    "5x + 3 & (x < -1)\n",
    "\\end {cases}\n",
    "$$\n",
    "\n"
   ],
   "id": "85dc22032b3362d3"
  },
  {
   "metadata": {
    "ExecuteTime": {
     "end_time": "2025-10-04T04:43:44.214126Z",
     "start_time": "2025-10-04T04:43:42.077080Z"
    }
   },
   "cell_type": "code",
   "source": [
    "x = float(input('请输入一个实数：'))\n",
    "if x > 1:\n",
    "    y = 3 * x -5;\n",
    "elif -1 <= x <= 1:\n",
    "    y = x + 2\n",
    "elif x < -1:\n",
    "    y = 5 * x + 3\n",
    "print(f'{y = :.2f}')"
   ],
   "id": "2f92bfe4c13220ee",
   "outputs": [
    {
     "name": "stdout",
     "output_type": "stream",
     "text": [
      "y = 40.00\n"
     ]
    }
   ],
   "execution_count": 8
  },
  {
   "metadata": {},
   "cell_type": "markdown",
   "source": [
    "## 例子2: 百分制成绩转换成等级\n",
    "要求：</p>\n",
    "1）输入成绩在90分以上（含），则输出`A`；</p>\n",
    "2）输入成绩在80分（含）到90分（不含）之间，则输出`B`；</p>\n",
    "3）输入成绩在70分（含）到80分（不含）之间，则输出`C`；</p>\n",
    "4）输入成绩在60分（含）到70分（不含）之间，则输出`D`:</p>\n",
    "5）输入成绩在60分（不含）以下，则输出`E`.\n"
   ],
   "id": "456740529faf07fd"
  },
  {
   "metadata": {
    "ExecuteTime": {
     "end_time": "2025-10-04T04:55:06.524277Z",
     "start_time": "2025-10-04T04:55:03.482182Z"
    }
   },
   "cell_type": "code",
   "source": [
    "grade = int(input('请输入考试成绩（0～100分之间的整数）：'))\n",
    "if grade >= 90:\n",
    "    degree = 'A'\n",
    "elif 80 <= grade < 90:\n",
    "    degree = 'B'\n",
    "elif 70 <= grade < 80:\n",
    "    degree = 'C'\n",
    "elif 60 <= grade < 80:\n",
    "    degree = 'D'\n",
    "elif grade < 60:\n",
    "    degree = 'E'\n",
    "print(f'{degree = }')"
   ],
   "id": "2fa90d8ab4677f7d",
   "outputs": [
    {
     "name": "stdout",
     "output_type": "stream",
     "text": [
      "degree = 'C'\n"
     ]
    }
   ],
   "execution_count": 9
  },
  {
   "metadata": {},
   "cell_type": "markdown",
   "source": [
    "## 例子3:计算三角形的周长和面积\n",
    "要求：输入条边的长度，如果能构成三角形就计算周长和面积；否则给出“不能构成三角形的”的提示\n",
    "> 说明：三角形面积公式为：</p>\n",
    "$s = \\sqrt{l\\cdot(l-a)\\cdot(l-b)\\cdot(l-c)}$ , 其中 $l = \\frac{a + b + c}{2}$\n"
   ],
   "id": "361421138265b32a"
  },
  {
   "metadata": {
    "ExecuteTime": {
     "end_time": "2025-10-04T05:09:52.120836Z",
     "start_time": "2025-10-04T05:09:46.249676Z"
    }
   },
   "cell_type": "code",
   "source": [
    "a = float(input('请输入第一条边长：'))\n",
    "b = float(input('请输入第二条边长：'))\n",
    "c = float(input('请输入第三条边长：'))\n",
    "y1 = 0\n",
    "y2 = 0\n",
    "y3 = 0\n",
    "# 首先判断能不能构成三角形\n",
    "if a + b > c:\n",
    "    y1 = 1\n",
    "if a + c > b:\n",
    "    y2 = 1\n",
    "if b + c >a:\n",
    "    y3 = 1\n",
    "# if  a + b > c and a + c > b and b + c > a:\n",
    "# 上述三条同时成立才满足构成三角形：\n",
    "y = y1 * y2 * y3\n",
    "if y == 0:\n",
    "    print('三条边无法构成三角形')\n",
    "else:\n",
    "    l = (a + b + c) / 2\n",
    "    s = (l * (l - a) * (l - b) * (l - c)) ** 0.5\n",
    "    print (f'三角形面积为 {s:.1f}')"
   ],
   "id": "fcd3dcd9b960d1b2",
   "outputs": [
    {
     "name": "stdout",
     "output_type": "stream",
     "text": [
      "三条边无法构成三角形\n"
     ]
    }
   ],
   "execution_count": 14
  }
 ],
 "metadata": {
  "kernelspec": {
   "display_name": "Python 3",
   "language": "python",
   "name": "python3"
  },
  "language_info": {
   "codemirror_mode": {
    "name": "ipython",
    "version": 2
   },
   "file_extension": ".py",
   "mimetype": "text/x-python",
   "name": "python",
   "nbconvert_exporter": "python",
   "pygments_lexer": "ipython2",
   "version": "2.7.6"
  }
 },
 "nbformat": 4,
 "nbformat_minor": 5
}
