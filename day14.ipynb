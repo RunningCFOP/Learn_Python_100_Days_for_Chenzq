{
 "cells": [
  {
   "metadata": {},
   "cell_type": "markdown",
   "source": [
    "## 函数和模块\n",
    "***\n",
    "在进行本节课的学习之前，先尝试解决如下数学问题，请说出下面的方程组有多少组正整数解。\n",
    "$$\n",
    "x_1 + x_2 + x_3 + x_4 = 8\n",
    "$$\n",
    "这个问题与\"将8个苹果分成四组且每组至少一个苹果有多少种方案\"，也等价于分隔8个苹果的7个间隙之间放入三个隔断将苹果分成四组有多少种方案，所以答案是$C^3_7 = 35$，其中$C^3_7$代表7选3的组合数，其计算公式如下所式。\n",
    "$$\n",
    "C^n_m = \\frac{m!}{n!(m - n) !}\n",
    "$$\n",
    "根据之前学习的知识，可以用循环做出累乘的方式分别计算出$m!$、$n!$和$(m - n)!$，然后不规则通过除尘运算得到组合数$C^n_m$,代码如下所示。"
   ],
   "id": "a169e9e53c66c829"
  },
  {
   "metadata": {
    "ExecuteTime": {
     "end_time": "2025-10-25T01:22:05.243170Z",
     "start_time": "2025-10-25T01:22:01.845996Z"
    }
   },
   "cell_type": "code",
   "source": [
    "# 输入m和 n计算组合数C(m, n)的值\n",
    "m = int(input('请输入m = '))\n",
    "n = int(input('请输入n = '))\n",
    "\n",
    "times_m, times_n, times_mn = 1, 1, 1\n",
    "\n",
    "for i in range(1,m + 1):\n",
    "    times_m *= i\n",
    "for j in range(1, n + 1):\n",
    "    times_n *= j\n",
    "for k in range(1, m - n + 1):\n",
    "    times_mn *= k\n",
    "\n",
    "c_mn = times_m / (times_n * times_mn)\n",
    "print(f'{c_mn =: .0f}')"
   ],
   "id": "6d6cf6b89eb8fbeb",
   "outputs": [
    {
     "name": "stdout",
     "output_type": "stream",
     "text": [
      "c_mn = 35\n"
     ]
    }
   ],
   "execution_count": 4
  },
  {
   "metadata": {},
   "cell_type": "markdown",
   "source": [
    "上在的代码中，我们做了三次求阶乘的操作，虽然m、n、m - n的值各不相同，但是三段代码并没有实质性区别，属于重复代码。世界级的编程大量Martin Fowler曾说过：“**代码有很多种坏味道，重复是最坏的一种！**”。要写出高质量的代码，首先就要解决重复代码的问题。对于上述的代码来说，可以将求阶乘的功能封装到一个称为“函数”的代码块中，在需要计算阶乘的地方，只需要“调用函数”即可实现对求阶乘功能的复用。\n",
    "\n",
    "## 定义函数\n"
   ],
   "id": "1b8f2064c2147f1e"
  }
 ],
 "metadata": {
  "kernelspec": {
   "display_name": "Python 3",
   "language": "python",
   "name": "python3"
  },
  "language_info": {
   "codemirror_mode": {
    "name": "ipython",
    "version": 2
   },
   "file_extension": ".py",
   "mimetype": "text/x-python",
   "name": "python",
   "nbconvert_exporter": "python",
   "pygments_lexer": "ipython2",
   "version": "2.7.6"
  }
 },
 "nbformat": 4,
 "nbformat_minor": 5
}
