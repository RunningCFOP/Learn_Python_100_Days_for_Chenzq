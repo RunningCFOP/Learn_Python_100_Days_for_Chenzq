{
 "cells": [
  {
   "metadata": {},
   "cell_type": "code",
   "outputs": [],
   "execution_count": null,
   "source": [
    "# 算术运算符\n",
    "print(321 + 12) # 加法运算"
   ],
   "id": "136568c12c089748"
  },
  {
   "metadata": {
    "ExecuteTime": {
     "end_time": "2025-10-03T10:24:11.583508Z",
     "start_time": "2025-10-03T10:24:11.580723Z"
    }
   },
   "cell_type": "code",
   "source": "print(321 - 12) # 减法运算",
   "id": "acfee6b5571bdbe",
   "outputs": [
    {
     "name": "stdout",
     "output_type": "stream",
     "text": [
      "309\n"
     ]
    }
   ],
   "execution_count": 2
  },
  {
   "metadata": {
    "ExecuteTime": {
     "end_time": "2025-10-03T10:25:43.669415Z",
     "start_time": "2025-10-03T10:25:43.663401Z"
    }
   },
   "cell_type": "code",
   "source": "print(321 * 12) # 乘法运算",
   "id": "b8dcb43f0a650776",
   "outputs": [
    {
     "name": "stdout",
     "output_type": "stream",
     "text": [
      "3852\n"
     ]
    }
   ],
   "execution_count": 4
  },
  {
   "metadata": {
    "ExecuteTime": {
     "end_time": "2025-10-03T10:29:55.010752Z",
     "start_time": "2025-10-03T10:29:55.006845Z"
    }
   },
   "cell_type": "code",
   "source": "print(321 / 12) # 除法运算",
   "id": "9eee9a41e024749b",
   "outputs": [
    {
     "name": "stdout",
     "output_type": "stream",
     "text": [
      "26.75\n"
     ]
    }
   ],
   "execution_count": 5
  },
  {
   "metadata": {
    "ExecuteTime": {
     "end_time": "2025-10-03T11:01:04.179449Z",
     "start_time": "2025-10-03T11:01:04.174701Z"
    }
   },
   "cell_type": "code",
   "source": "print(321 // 12) # 整除运算",
   "id": "557ca62023474bef",
   "outputs": [
    {
     "name": "stdout",
     "output_type": "stream",
     "text": [
      "26\n"
     ]
    }
   ],
   "execution_count": 6
  },
  {
   "metadata": {
    "ExecuteTime": {
     "end_time": "2025-10-03T11:01:42.426862Z",
     "start_time": "2025-10-03T11:01:42.423794Z"
    }
   },
   "cell_type": "code",
   "source": "print(321 % 12) # 求模运算，即求余数",
   "id": "336efe978c8e3d35",
   "outputs": [
    {
     "name": "stdout",
     "output_type": "stream",
     "text": [
      "9\n"
     ]
    }
   ],
   "execution_count": 7
  },
  {
   "metadata": {
    "ExecuteTime": {
     "end_time": "2025-10-03T11:02:29.962348Z",
     "start_time": "2025-10-03T11:02:29.959020Z"
    }
   },
   "cell_type": "code",
   "source": "print(321 ** 12) # 求幂运算",
   "id": "d4b2cb5ddb8249ba",
   "outputs": [
    {
     "name": "stdout",
     "output_type": "stream",
     "text": [
      "1196906950228928915420617322241\n"
     ]
    }
   ],
   "execution_count": 8
  },
  {
   "metadata": {},
   "cell_type": "markdown",
   "source": [
    "## 算术运算优先级\n",
    "求幂运行的优先级>乘除>加减，但可以通过圆括号（小括号）来改变运算顺序"
   ],
   "id": "a742ac235e09b897"
  },
  {
   "metadata": {
    "ExecuteTime": {
     "end_time": "2025-10-03T11:03:44.752147Z",
     "start_time": "2025-10-03T11:03:44.749609Z"
    }
   },
   "cell_type": "code",
   "source": "print(2 +3 *5)",
   "id": "cd2ca317dc904567",
   "outputs": [
    {
     "name": "stdout",
     "output_type": "stream",
     "text": [
      "17\n"
     ]
    }
   ],
   "execution_count": 9
  },
  {
   "metadata": {
    "ExecuteTime": {
     "end_time": "2025-10-03T11:04:35.240943Z",
     "start_time": "2025-10-03T11:04:35.238204Z"
    }
   },
   "cell_type": "code",
   "source": "print((2 + 3) * 5)",
   "id": "f47ef5331cc98465",
   "outputs": [
    {
     "name": "stdout",
     "output_type": "stream",
     "text": [
      "25\n"
     ]
    }
   ],
   "execution_count": 10
  },
  {
   "metadata": {
    "ExecuteTime": {
     "end_time": "2025-10-03T11:05:06.360561Z",
     "start_time": "2025-10-03T11:05:06.345767Z"
    }
   },
   "cell_type": "code",
   "source": "print((2 + 3) * 5 ** 2)",
   "id": "79085d512d1ca0bc",
   "outputs": [
    {
     "name": "stdout",
     "output_type": "stream",
     "text": [
      "125\n"
     ]
    }
   ],
   "execution_count": 11
  },
  {
   "metadata": {
    "ExecuteTime": {
     "end_time": "2025-10-03T11:05:34.954819Z",
     "start_time": "2025-10-03T11:05:34.950081Z"
    }
   },
   "cell_type": "code",
   "source": "print(((2 + 3) * 5) ** 2)",
   "id": "e6b8d4f0dbf48f32",
   "outputs": [
    {
     "name": "stdout",
     "output_type": "stream",
     "text": [
      "625\n"
     ]
    }
   ],
   "execution_count": 12
  },
  {
   "metadata": {},
   "cell_type": "markdown",
   "source": [
    "## 赋值运算符\n",
    "赋值运算符的作用是将右边的值赋给左边的变量。且赋值运算符还可以跟自述运算符放在一起，组合成复合赋值运算符。"
   ],
   "id": "fb58c77b922ba958"
  },
  {
   "metadata": {
    "ExecuteTime": {
     "end_time": "2025-10-03T11:09:55.461185Z",
     "start_time": "2025-10-03T11:09:55.458018Z"
    }
   },
   "cell_type": "code",
   "source": [
    "# 赋值运算符和复合赋值运算符\n",
    "a = 10\n",
    "b = 3\n",
    "a += b # 相当于 a = a + b\n",
    "a *= a + 2  #相当于 a = a * (a + 2)\n",
    "print(a)"
   ],
   "id": "ea50db2702717e06",
   "outputs": [
    {
     "name": "stdout",
     "output_type": "stream",
     "text": [
      "195\n"
     ]
    }
   ],
   "execution_count": 13
  },
  {
   "metadata": {},
   "cell_type": "markdown",
   "source": "赋值运算构成的表边式本身不产生任何值，即如果将赋值表达式放到print函数中试图输出表达式的值，将会产生语法错误，Python3.8中引入了:=  称为“海名运算符”，可以将运算符右侧的值赋给左边的变量，与赋值运算符不同的是，运算符右侧的值也是整个表达式的值。",
   "id": "77923b010996434a"
  },
  {
   "metadata": {
    "ExecuteTime": {
     "end_time": "2025-10-03T11:22:11.190590Z",
     "start_time": "2025-10-03T11:22:11.184219Z"
    }
   },
   "cell_type": "code",
   "source": "print ((a = 10)) # 用于演示错误格式",
   "id": "dc76d05ba894405f",
   "outputs": [
    {
     "ename": "SyntaxError",
     "evalue": "invalid syntax (819363196.py, line 1)",
     "output_type": "error",
     "traceback": [
      "\u001B[0;36m  Cell \u001B[0;32mIn[14], line 1\u001B[0;36m\u001B[0m\n\u001B[0;31m    print ((a = 10))\u001B[0m\n\u001B[0m              ^\u001B[0m\n\u001B[0;31mSyntaxError\u001B[0m\u001B[0;31m:\u001B[0m invalid syntax\n"
     ]
    }
   ],
   "execution_count": 14
  },
  {
   "metadata": {
    "ExecuteTime": {
     "end_time": "2025-10-03T11:22:32.157228Z",
     "start_time": "2025-10-03T11:22:32.154172Z"
    }
   },
   "cell_type": "code",
   "source": "print ((a := 10))",
   "id": "547ba88a2721089e",
   "outputs": [
    {
     "name": "stdout",
     "output_type": "stream",
     "text": [
      "10\n"
     ]
    }
   ],
   "execution_count": 15
  },
  {
   "metadata": {
    "ExecuteTime": {
     "end_time": "2025-10-03T11:22:42.480484Z",
     "start_time": "2025-10-03T11:22:42.477739Z"
    }
   },
   "cell_type": "code",
   "source": "print(a)",
   "id": "f2dd5ea5e572e22e",
   "outputs": [
    {
     "name": "stdout",
     "output_type": "stream",
     "text": [
      "10\n"
     ]
    }
   ],
   "execution_count": 16
  },
  {
   "metadata": {},
   "cell_type": "markdown",
   "source": [
    "## 比较运算符和逻辑运算符\n",
    " <p>比较运算符也称为关系运算符，包括 *== != < > <= >=*, 比较相等用的是 *==*， 比较不相等用的是!=,比较运算符会产生布尔值，要么是True 要么是False</p>\n",
    " 逻辑运算符有三个，分别是*and, or, not*\n"
   ],
   "id": "cc2bc1bfec986591"
  },
  {
   "metadata": {
    "ExecuteTime": {
     "end_time": "2025-10-03T11:38:10.547648Z",
     "start_time": "2025-10-03T11:38:10.544045Z"
    }
   },
   "cell_type": "code",
   "source": [
    "flag0 = 1 == 1\n",
    "flag1 = 3 > 2\n",
    "flag2 = 2 < 1\n",
    "flag3 = flag1 and flag2\n",
    "flag4 = flag1 or flag2\n",
    "flag5 = not flag0"
   ],
   "id": "5176d385ca0e1473",
   "outputs": [],
   "execution_count": 20
  },
  {
   "metadata": {
    "ExecuteTime": {
     "end_time": "2025-10-03T11:38:29.715527Z",
     "start_time": "2025-10-03T11:38:29.712682Z"
    }
   },
   "cell_type": "code",
   "source": "print('flag0 = ', flag0)",
   "id": "b6e6ce1b6ba45f8e",
   "outputs": [
    {
     "name": "stdout",
     "output_type": "stream",
     "text": [
      "flag0 =  True\n"
     ]
    }
   ],
   "execution_count": 21
  },
  {
   "metadata": {
    "ExecuteTime": {
     "end_time": "2025-10-03T11:38:44.551038Z",
     "start_time": "2025-10-03T11:38:44.548595Z"
    }
   },
   "cell_type": "code",
   "source": "print('flag1 = ', flag1)",
   "id": "caa5933dac5bc00d",
   "outputs": [
    {
     "name": "stdout",
     "output_type": "stream",
     "text": [
      "flag1 =  True\n"
     ]
    }
   ],
   "execution_count": 22
  },
  {
   "metadata": {
    "ExecuteTime": {
     "end_time": "2025-10-03T11:41:14.798352Z",
     "start_time": "2025-10-03T11:41:14.795810Z"
    }
   },
   "cell_type": "code",
   "source": "print('flag3 =' , flag3)",
   "id": "d582235aa33d16e8",
   "outputs": [
    {
     "name": "stdout",
     "output_type": "stream",
     "text": [
      "flag3 = False\n"
     ]
    }
   ],
   "execution_count": 23
  },
  {
   "metadata": {
    "ExecuteTime": {
     "end_time": "2025-10-03T11:41:39.082800Z",
     "start_time": "2025-10-03T11:41:39.079572Z"
    }
   },
   "cell_type": "code",
   "source": "print('flag4 = ', flag4)",
   "id": "adc75d23da9e7fac",
   "outputs": [
    {
     "name": "stdout",
     "output_type": "stream",
     "text": [
      "flag4 =  True\n"
     ]
    }
   ],
   "execution_count": 24
  },
  {
   "metadata": {
    "ExecuteTime": {
     "end_time": "2025-10-03T11:41:56.855305Z",
     "start_time": "2025-10-03T11:41:56.852334Z"
    }
   },
   "cell_type": "code",
   "source": "print('flag5 = ', flag5)",
   "id": "996dccaa8c5c699a",
   "outputs": [
    {
     "name": "stdout",
     "output_type": "stream",
     "text": [
      "flag5 =  False\n"
     ]
    }
   ],
   "execution_count": 25
  },
  {
   "metadata": {
    "ExecuteTime": {
     "end_time": "2025-10-03T11:42:15.886443Z",
     "start_time": "2025-10-03T11:42:15.884374Z"
    }
   },
   "cell_type": "code",
   "source": "print(flag1 and not flag2)",
   "id": "f92aa19fdacc9f30",
   "outputs": [
    {
     "name": "stdout",
     "output_type": "stream",
     "text": [
      "True\n"
     ]
    }
   ],
   "execution_count": 26
  },
  {
   "metadata": {
    "ExecuteTime": {
     "end_time": "2025-10-03T11:42:36.053962Z",
     "start_time": "2025-10-03T11:42:36.050620Z"
    }
   },
   "cell_type": "code",
   "source": "print (1 > 2 or 2 == 3)",
   "id": "6b9dc21f4ba83d51",
   "outputs": [
    {
     "name": "stdout",
     "output_type": "stream",
     "text": [
      "False\n"
     ]
    }
   ],
   "execution_count": 27
  },
  {
   "metadata": {},
   "cell_type": "markdown",
   "source": ">说明：比较运算符的优先级高于赋值运算符。 print 函数可以输出多个值，多个值之间可以用','进行分隔，输出的内容默认以空格分开。",
   "id": "b63976938d9f219"
  },
  {
   "metadata": {},
   "cell_type": "markdown",
   "source": [
    "## 运算符和表达式应用\n",
    "### 例1:华低温度转摄氏温度\n",
    "> 要求：输入华氏渡，将其转换为摄低温度，华氏温度到摄氏温度的转换公式为：_C = (F - 32) / 1.8_"
   ],
   "id": "b1de6eb2484190a2"
  },
  {
   "metadata": {
    "ExecuteTime": {
     "end_time": "2025-10-03T11:52:01.243300Z",
     "start_time": "2025-10-03T11:51:58.501885Z"
    }
   },
   "cell_type": "code",
   "source": [
    "f = float(input('请输入华氏温度'))\n",
    "c = (f - 32) / 1.8\n",
    "print('%.1f华氏度 = %.1f摄氏度' % (f,c))"
   ],
   "id": "83ec01fd5b57315d",
   "outputs": [
    {
     "name": "stdout",
     "output_type": "stream",
     "text": [
      "40.0华氏度 = 4.4摄氏度\n"
     ]
    }
   ],
   "execution_count": 29
  },
  {
   "metadata": {},
   "cell_type": "markdown",
   "source": [
    "> 说明： 上述代码中的input函数将用于从键盘接收用户输入，由于输入都是字符串，如果想处理成浮点小数来做后续的运算，可以用类型转换的方法, 用float函数将str类型处理成float类型。\n",
    "<p>在上述代码中，对print函数输出的内容进行了格式化处理，print输出的字符串中有两个%.1f占位符，这两个占位符会被%之后的（f,c）中的两个float类型的变量值给替换掉，浮点小数点后保留1位有效数字。如果字符串中有%d占位符，会用int类型的值替换掉它，如果字符串中有%s占位符，那么会被str类型的值替换掉。</p>\n",
    " <p>除了上面格式化输出的方式外，Python中还可以用面的办法来格式化输出，给出一个带占位符的字符串，字符串前面的f表示这个字符串是需要格式化处理的，其中的{f:.1f}和{c:.1f}可以先看成是{f}和{c}，表示输出时会用变量f和变量c的值替换掉这两个占位符，后面的:.1f表示这是一个浮点数，小数点后保留1位有效数学。"
   ],
   "id": "e9082f8059bafaff"
  },
  {
   "metadata": {
    "ExecuteTime": {
     "end_time": "2025-10-03T12:00:23.692935Z",
     "start_time": "2025-10-03T12:00:18.215688Z"
    }
   },
   "cell_type": "code",
   "source": [
    "f = float (input('请输入华氏温度'))\n",
    "c = (f - 32) / 1.8\n",
    "print(f'{f:.1f}华氏度 = {c:.1f}摄氏度')"
   ],
   "id": "e05d282d298cde65",
   "outputs": [
    {
     "name": "stdout",
     "output_type": "stream",
     "text": [
      "40.0华氏度 = 4.4摄氏度\n"
     ]
    }
   ],
   "execution_count": 30
  },
  {
   "metadata": {},
   "cell_type": "markdown",
   "source": [
    "## 例2计算圆的周长和面积\n",
    "> 要求：输入一个圆的半径r计算出它的周长(2$\\pi$r)和面积($\\pi$$r^2$),Python中有一个名为math的内置模块，该模块中定义了为名为pi的变量，它的值就是圆周率\n"
   ],
   "id": "692ccb906d462cd8"
  },
  {
   "metadata": {
    "ExecuteTime": {
     "end_time": "2025-10-03T12:21:45.045520Z",
     "start_time": "2025-10-03T12:21:41.766202Z"
    }
   },
   "cell_type": "code",
   "source": [
    "import math\n",
    "radius = float(input('请输入圆的半径：'))\n",
    "perimeter  = 2 * math.pi * radius\n",
    "area = math.pi * radius ** 2\n",
    "\n",
    "# 方法一\n",
    "print('周长：%.2f' % perimeter)\n",
    "print('面积：%.2f' % area)"
   ],
   "id": "7d5c45b9303461d",
   "outputs": [
    {
     "name": "stdout",
     "output_type": "stream",
     "text": [
      "周长：6.28\n",
      "面积：3.14\n"
     ]
    }
   ],
   "execution_count": 31
  },
  {
   "metadata": {
    "ExecuteTime": {
     "end_time": "2025-10-03T12:22:59.378933Z",
     "start_time": "2025-10-03T12:22:55.489819Z"
    }
   },
   "cell_type": "code",
   "source": [
    "import math\n",
    "radius = float(input('请输入圆的半径：'))\n",
    "perimeter  = 2 * math.pi * radius\n",
    "area = math.pi * radius ** 2\n",
    "\n",
    "# 方法二\n",
    "print(f'周长：{perimeter:.2f}')\n",
    "print(f'面积: {area:.2f}')"
   ],
   "id": "f7c8682d310b5548",
   "outputs": [
    {
     "name": "stdout",
     "output_type": "stream",
     "text": [
      "周长：6.28\n",
      "面积: 3.14\n"
     ]
    }
   ],
   "execution_count": 32
  },
  {
   "metadata": {
    "ExecuteTime": {
     "end_time": "2025-10-03T12:25:24.178670Z",
     "start_time": "2025-10-03T12:25:22.058133Z"
    }
   },
   "cell_type": "code",
   "source": [
    "import math\n",
    "radius = float(input('请输入圆的半径：'))\n",
    "perimeter  = 2 * math.pi * radius\n",
    "area = math.pi * radius ** 2\n",
    "\n",
    "# 方法三\n",
    "print(f'{perimeter = :.2f}')\n",
    "print(f'{area = :.2f}')"
   ],
   "id": "5f98c81adb461b76",
   "outputs": [
    {
     "name": "stdout",
     "output_type": "stream",
     "text": [
      "perimeter = 6.28\n",
      "area = 3.14\n"
     ]
    }
   ],
   "execution_count": 33
  },
  {
   "metadata": {},
   "cell_type": "markdown",
   "source": [
    "## 例3 判断闰年(lear year)\n",
    "要求：输入一个1582年以后的年份，判断该年份是不是闰年"
   ],
   "id": "9f75f97df02621ed"
  },
  {
   "metadata": {
    "ExecuteTime": {
     "end_time": "2025-10-03T12:29:01.823771Z",
     "start_time": "2025-10-03T12:28:57.553801Z"
    }
   },
   "cell_type": "code",
   "source": [
    "year = int(input('请输入入年份：'))\n",
    "is_leap = year % 4 == 0 and year % 100 !=0 or year % 400 == 0\n",
    "print(f'{is_leap = }')"
   ],
   "id": "339cb6454eeb23a",
   "outputs": [
    {
     "name": "stdout",
     "output_type": "stream",
     "text": [
      "is_leap = False\n"
     ]
    }
   ],
   "execution_count": 34
  }
 ],
 "metadata": {
  "kernelspec": {
   "display_name": "Python 3",
   "language": "python",
   "name": "python3"
  },
  "language_info": {
   "codemirror_mode": {
    "name": "ipython",
    "version": 2
   },
   "file_extension": ".py",
   "mimetype": "text/x-python",
   "name": "python",
   "nbconvert_exporter": "python",
   "pygments_lexer": "ipython2",
   "version": "2.7.6"
  }
 },
 "nbformat": 4,
 "nbformat_minor": 5
}
