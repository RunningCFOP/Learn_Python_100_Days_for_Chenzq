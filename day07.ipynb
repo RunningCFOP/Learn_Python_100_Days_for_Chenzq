{
 "cells": [
  {
   "metadata": {},
   "cell_type": "markdown",
   "source": [
    "## 分支和循环结构实战\n",
    "***\n",
    "分支结构和循环结构是构造程序逻辑的基础，它们的重要性不言而喻。但重懂别人的代码容易，要自己写出类似的代码却又很难，这只是因为编程之旅才刚刚开始，练习量还没有达到让可以随心所欲写出代码的程度，只有加强编程练习，通过量的积累来产生质的变化，这个问题迟早都会解决的。\n",
    "\n",
    "## 例1 ：100以内的素数\n",
    "> 说明：素数是指只能被1和自整除的正整数（不包括1）"
   ],
   "id": "b49eeea549c0a999"
  },
  {
   "metadata": {},
   "cell_type": "code",
   "outputs": [],
   "execution_count": null,
   "source": [
    "# 检查 100以内的素数\n",
    "for num in range(2,100):\n",
    "    is_prime = True\n",
    "    for i in range(2, int(num ** 0.5) + 1):\n",
    "        if num % i == 0:\n",
    "            is_prime = False\n",
    "            break\n",
    "    if is_prime:\n",
    "        print(num, end = ' ')\n",
    "print()"
   ],
   "id": "c75322e8c1cc35"
  },
  {
   "metadata": {},
   "cell_type": "markdown",
   "source": [
    "\n",
    "## 例2: 斐波那契数列\n",
    "要求：输出斐波那契数列的前n个数\n",
    "> 说明：斐波那契数列 (Fibonacci sequence)，通常被称为黄金分割数列，\n",
    "前10个数是`1,1,2,3,5,8,13,21,34,55`"
   ],
   "id": "e1970fc2571321d"
  },
  {
   "metadata": {
    "ExecuteTime": {
     "end_time": "2025-10-10T03:54:58.686590Z",
     "start_time": "2025-10-10T03:54:58.682628Z"
    }
   },
   "cell_type": "code",
   "source": [
    "# 输出斐波那契数列的前n项\n",
    "# n = int(input('请输入想输出的斐波那契数列的前n项的项数(n>3):'))\n",
    "a, b = 0, 1 # 这是为了只用一次输出，而将数列往前递推了一项\n",
    "\n",
    "for _ in range(20):\n",
    "    i = a # 需要一个中间变量来存存储a的值\n",
    "    a = b\n",
    "    b = a + i\n",
    "    # a, b = b, a + b\n",
    "    print(f'{a}', end = ' ') # 为了一次只输出一个数，好控制输出的项数\n"
   ],
   "id": "5739e5c647c368aa",
   "outputs": [
    {
     "name": "stdout",
     "output_type": "stream",
     "text": [
      "1 1 2 3 5 8 13 21 34 55 89 144 233 377 610 987 1597 2584 4181 6765 "
     ]
    }
   ],
   "execution_count": 53
  },
  {
   "metadata": {},
   "cell_type": "markdown",
   "source": [
    "## 例3: 寻找水仙花数\n",
    "要求：找出100～999范围内所有水仙花数\n",
    "> 提示：在数论中，水仙花数(narcissistic number)是一个N位非负整数，其各位数字的N次方刚好等于该数本身，例如：$ 153 = 1^3 + 5^3 + 3^4$, $1634 = 1^3 + 6^3 + 3^3 + 4^3$\n",
    "> 提示，可以使用`//`和`%`运行符做到"
   ],
   "id": "d8b375681116fcda"
  },
  {
   "metadata": {
    "ExecuteTime": {
     "end_time": "2025-10-10T04:10:10.681040Z",
     "start_time": "2025-10-10T04:10:10.676151Z"
    }
   },
   "cell_type": "code",
   "source": [
    "for n in range(100,1000):\n",
    "    is_nar = False\n",
    "    if n == (n // 100) ** 3 + (( n //10 ) % 10) ** 3 +(n % 10) ** 3:\n",
    "        is_nar = True\n",
    "    if is_nar:\n",
    "        print(f'{n}', end=' ')"
   ],
   "id": "9775df4747a4094d",
   "outputs": [
    {
     "name": "stdout",
     "output_type": "stream",
     "text": [
      "153 370 371 407 "
     ]
    }
   ],
   "execution_count": 58
  },
  {
   "metadata": {
    "ExecuteTime": {
     "end_time": "2025-10-10T04:07:41.671135Z",
     "start_time": "2025-10-10T04:07:41.668184Z"
    }
   },
   "cell_type": "code",
   "source": [
    "# 将一个三位数拆开\n",
    "num = 234\n",
    "bai_wei = num // 100\n",
    "shi_wei = (num // 10) % 10\n",
    "ge_wei = num % 10\n",
    "print(f'{bai_wei = },{shi_wei = }, {ge_wei = }')"
   ],
   "id": "28bc0e699d6f86e9",
   "outputs": [
    {
     "name": "stdout",
     "output_type": "stream",
     "text": [
      "bai_wei = 2,shi_wei = 3, ge_wei = 4\n"
     ]
    }
   ],
   "execution_count": 56
  },
  {
   "metadata": {},
   "cell_type": "markdown",
   "source": "上面利用`//`和`%`拆分一个数的小技巧还很常用，例如将一个不知道有多位数的正整数进行**反转**，例如将12389变成98321，也可以利用这两个运行来实现。",
   "id": "854c9591dcf309ef"
  },
  {
   "metadata": {
    "ExecuteTime": {
     "end_time": "2025-10-10T04:20:23.980719Z",
     "start_time": "2025-10-10T04:20:16.863578Z"
    }
   },
   "cell_type": "code",
   "source": [
    "n = int(input('n = '))\n",
    "rev_n = 0\n",
    "while n > 0:\n",
    "    rev_n  = rev_n * 10 + n % 10\n",
    "    n //= 10\n",
    "print(rev_n)"
   ],
   "id": "4e3afd9458e4e171",
   "outputs": [
    {
     "name": "stdout",
     "output_type": "stream",
     "text": [
      "501238721387\n"
     ]
    }
   ],
   "execution_count": 61
  },
  {
   "metadata": {},
   "cell_type": "markdown",
   "source": [
    "## 例4，百钱百鸡问题\n",
    "公鸡5元一只，母鸡3元一只，小鸡1元三只，用100元买一百只鸡，问公鸡、母鸡、小鸡名有多少只？"
   ],
   "id": "d0c69f964610420d"
  },
  {
   "metadata": {
    "ExecuteTime": {
     "end_time": "2025-10-10T05:09:50.911392Z",
     "start_time": "2025-10-10T05:09:50.905616Z"
    }
   },
   "cell_type": "code",
   "source": [
    "\"\"\"\n",
    "分析该问题\n",
    "令 公鸡 数量为 x， 母鸡数量为 y， 小鸡数量为 3z，有\n",
    "5x + 3y + z = 100   (1)\n",
    "x + y + 3z = 100    (2)\n",
    "x, y, z 为整数       (3)\n",
    "\n",
    "\n",
    "式（1） * 3\n",
    "15x + 9y + 3z = 300  (4)\n",
    "\n",
    "(4) - (2) 有\n",
    "14x + 8y = 200     (5)\n",
    "\n",
    "由条件(3)可得\n",
    "x <20 , y < 30 ,z < 30\n",
    "由条件(5)进一步可得：\n",
    "x < 15, y < 25\n",
    "\"\"\"\n",
    "\n",
    "# 使用遍历方法\n",
    "for x in range(15):\n",
    "    for y in range(26):\n",
    "        for z in range(30):\n",
    "            if (5 * x + 3 * y + z) == 100 and (x + y + 3 * z) == 100:\n",
    "                print(f'公鸡有{x}只，母鸡有{y}只，小鸡有{3*z}只')\n",
    "\n"
   ],
   "id": "23f2b7755c036a07",
   "outputs": [
    {
     "name": "stdout",
     "output_type": "stream",
     "text": [
      "公鸡有0只，母鸡有25只，小鸡有75只\n",
      "公鸡有4只，母鸡有18只，小鸡有78只\n",
      "公鸡有8只，母鸡有11只，小鸡有81只\n",
      "公鸡有12只，母鸡有4只，小鸡有84只\n"
     ]
    }
   ],
   "execution_count": 71
  },
  {
   "metadata": {},
   "cell_type": "markdown",
   "source": [
    "## 例5: CRAPS赌博游戏\n",
    "> CRAPS又称花旗骰，是美国拉斯维加斯非常受欢迎的一种的桌上赌博游戏。该游戏使用两粒骰子，玩家通过摇两粒骰子获得点数进行游戏。简化后的规则是：玩家第一次摇骰子如果摇出了 7 点或 11 点，玩家胜；玩家第一次如果摇出 2 点、3 点或 12 点，庄家胜；玩家如果摇出其他点数则游戏继续，玩家重新摇骰子，如果玩家摇出了 7 点，庄家胜；如果玩家摇出了第一次摇的点数，玩家胜；其他点数玩家继续摇骰子，直到分出胜负。\n",
    "> 为了增加代码的趣味性，我们设定游戏开始时玩家有 1000 元的赌注，每局游戏开始之前，玩家先下注，如果玩家获胜就可以获得对应下注金额的奖励，如果庄家获胜，玩家就会输掉自己下注的金额。游戏结束的条件是玩家破产（输光所有的赌注）。"
   ],
   "id": "2b08ab83b2665d60"
  },
  {
   "metadata": {
    "ExecuteTime": {
     "end_time": "2025-10-10T06:33:49.237747Z",
     "start_time": "2025-10-10T06:33:22.022057Z"
    }
   },
   "cell_type": "code",
   "source": [
    "\"\"\"\n",
    "分析可能性\n",
    "首先骰子共有2～12共11种可能\n",
    "第一次\n",
    "玩家摇出 2，3，7，11，12，则结束\n",
    "若不是，为4，5，6，8，9，10中的一个,假设为4，则摇第二次\n",
    "\n",
    "第二次\n",
    "若玩家摇的是7或第一次中的一个（假设为4），则结束\n",
    "若不是，则为5 6，7，9，10中的一个假设为4，摇第三次\n",
    "\n",
    "第三次若玩家摇的是7或第一次中的一个（假设为4），则结束\n",
    "若不是，则为5，6，7，9，10中的一个，摇第三次\n",
    "\n",
    "\n",
    "\"\"\"\n",
    "\n",
    "import random\n",
    "\n",
    "all_bet = 1000\n",
    "# 开始下注\n",
    "\n",
    "\n",
    "while all_bet > 0:\n",
    "    bet = int(input(f'当前剩余金额为{all_bet}元，请下注：'))\n",
    "    not_end = True\n",
    "    # 第一次摇骰子\n",
    "    n = 1\n",
    "    a_1 = random.randrange(1,7)\n",
    "    b_1 = random.randrange(1,7)\n",
    "    c_1 = a_1 + b_1\n",
    "    print(f'第{n}次摇骰子的点数为：{a_1},{b_1}')\n",
    "\n",
    "    # 首先是玩家胜利的情况\n",
    "    while not_end:\n",
    "        if c_1 in (7,11):\n",
    "            all_bet = all_bet + bet\n",
    "            print(f'玩家赢，剩余余额为{all_bet}')\n",
    "            not_end = False\n",
    "        elif c_1 in (2, 3, 12):\n",
    "            all_bet = all_bet - bet\n",
    "            print(f'庄家赢，剩余余额为{all_bet}')\n",
    "            not_end = False\n",
    "        # 进行第二次摇骰子，最多不超过5次\n",
    "        else:\n",
    "            n += 1\n",
    "            a = random.randrange(1,7)\n",
    "            b = random.randrange(1,7)\n",
    "            c = a + b\n",
    "            print(f'第{n}次摇骰子的点数为：{a},{b}')\n",
    "            if c == c_1:\n",
    "                all_bet = all_bet + bet\n",
    "                print(f'玩家赢，剩余余额为{all_bet}')\n",
    "                not_end = False\n",
    "            elif c == 7:\n",
    "                all_bet = all_bet - bet\n",
    "                print(f'庄家赢，剩余余额为{all_bet}')\n",
    "                not_end = False\n",
    "print('你破产了，游戏结束了！')"
   ],
   "id": "1813561071e15607",
   "outputs": [
    {
     "name": "stdout",
     "output_type": "stream",
     "text": [
      "第1次摇骰子的点数为：6,1\n",
      "玩家赢，剩余余额为2000\n",
      "第1次摇骰子的点数为：6,2\n",
      "第2次摇骰子的点数为：5,6\n",
      "第3次摇骰子的点数为：3,1\n",
      "第4次摇骰子的点数为：3,3\n",
      "第5次摇骰子的点数为：6,3\n",
      "第6次摇骰子的点数为：2,6\n",
      "玩家赢，剩余余额为3000\n",
      "第1次摇骰子的点数为：5,6\n",
      "玩家赢，剩余余额为4000\n",
      "第1次摇骰子的点数为：5,2\n",
      "玩家赢，剩余余额为5000\n",
      "第1次摇骰子的点数为：3,5\n",
      "第2次摇骰子的点数为：2,1\n",
      "第3次摇骰子的点数为：1,6\n",
      "庄家赢，剩余余额为4000\n",
      "第1次摇骰子的点数为：2,5\n",
      "玩家赢，剩余余额为6000\n",
      "第1次摇骰子的点数为：2,6\n",
      "第2次摇骰子的点数为：3,4\n",
      "庄家赢，剩余余额为3000\n",
      "第1次摇骰子的点数为：6,3\n",
      "第2次摇骰子的点数为：6,1\n",
      "庄家赢，剩余余额为0\n",
      "你破产了，游戏结束了！\n"
     ]
    }
   ],
   "execution_count": 190
  }
 ],
 "metadata": {
  "kernelspec": {
   "display_name": "Python 3",
   "language": "python",
   "name": "python3"
  },
  "language_info": {
   "codemirror_mode": {
    "name": "ipython",
    "version": 2
   },
   "file_extension": ".py",
   "mimetype": "text/x-python",
   "name": "python",
   "nbconvert_exporter": "python",
   "pygments_lexer": "ipython2",
   "version": "2.7.6"
  }
 },
 "nbformat": 4,
 "nbformat_minor": 5
}
