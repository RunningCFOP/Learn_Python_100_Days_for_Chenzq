{
 "cells": [
  {
   "metadata": {},
   "cell_type": "markdown",
   "source": [
    "## 常用数据结构之列表 - 2\n",
    "### 列表的方法\n",
    "列表类型的爆表拥有很多方法可以操作一个列表，假设有名为`foos`的列表，列表有名为`bar`的方法，那么使用列表的就去的语法是`foos.bar()`，这是一种通过对象引用调用对象方法的语法。这种语法也称为给对象发消息。\\\n",
    "\n",
    "### 添加和删除元素\n",
    "列表是一种**可变容器**，**可变容器**是指可以向容器中添加元素、也可以从容器中移除元素，也可以修改再有容器中的元素。可以使用列表中的`append`方法向列表中追加元素，使用`insert`方法向列表中插入元素。\\\n",
    "**追加元素**是指将元素添加到列表的末尾；\n",
    "**插入**是指在指定的位置添加新元素。\n",
    "\n"
   ],
   "id": "a42d1823df5c929a"
  },
  {
   "metadata": {
    "ExecuteTime": {
     "end_time": "2025-10-13T02:33:11.082411Z",
     "start_time": "2025-10-13T02:33:11.077900Z"
    }
   },
   "cell_type": "code",
   "source": [
    "languages = ['Python', 'Java', 'C++']\n",
    "print(f'len of languages = {len(languages)}', end = '; ')\n",
    "print(languages)\n",
    "\n",
    "languages.append('JavaScript')\n",
    "print(f'len of languages = {len(languages)}', end = '; ')\n",
    "print(languages)\n",
    "\n",
    "languages.insert(1, 'SQL')\n",
    "print(f'len of languages = {len(languages)}', end = '; ')\n",
    "print(languages)"
   ],
   "id": "254c5be0aadf2637",
   "outputs": [
    {
     "name": "stdout",
     "output_type": "stream",
     "text": [
      "len of languages = 3; ['Python', 'Java', 'C++']\n",
      "len of languages = 4; ['Python', 'Java', 'C++', 'JavaScript']\n",
      "len of languages = 5; ['Python', 'SQL', 'Java', 'C++', 'JavaScript']\n"
     ]
    }
   ],
   "execution_count": 5
  },
  {
   "metadata": {},
   "cell_type": "markdown",
   "source": [
    "可以用列表的`remove`方法从列表中删除指定的元素。需要注意的是，如果要删除的元素并不在列表中，会引发`ValueError`错误导致程序崩溃，所在在删除元素时，用**成员运算**做一个判断。\\\n",
    "还可以使用 `pop`方法从列表中删除元素，`pop`方法默认删除列表中的最后一个元素。当然也可以给一个位置，删除指定位置的元素。在使用`pop`方法删除元素时，如果索引的值超出了范围，会引发`IndexError`异常，导致程序崩溃。\\\n",
    "除此之外，列表中还有一个`clear`方法，可以清空列表中元素。"
   ],
   "id": "da327fdcde816a9c"
  },
  {
   "metadata": {
    "ExecuteTime": {
     "end_time": "2025-10-13T02:49:35.523487Z",
     "start_time": "2025-10-13T02:49:35.517959Z"
    }
   },
   "cell_type": "code",
   "source": [
    "languages = ['Python', 'SQL', 'Java', 'C++', 'JavaScript']\n",
    "\n",
    "# 使用remove方法\n",
    "if 'Jave' in languages:\n",
    "    languages.remove('Java')\n",
    "if 'Swift' in languages:\n",
    "    languages.remove('Swift')\n",
    "print(languages) # languages = ['Python', 'SQL', 'Java', 'C++', 'JavaScript']\n",
    "\n",
    "# 使用POP方法\n",
    "languages.pop() # 删除最后一个 ‘JavaScript’\n",
    "print(f'{languages = }') # ['Python', 'SQL', 'Java', 'C++']\n",
    "\n",
    "temp = languages.pop(1)\n",
    "print(f'{languages = }') # ['Python', 'Java', 'C++']\n",
    "print(f'{temp = }') # 'SQL'\n",
    "\n",
    "languages.append(temp)\n",
    "print(f'{languages = }') # ['Python', 'Java', 'C++', 'SQL']\n",
    "\n",
    "languages.clear()\n",
    "print(f'{languages = }') # []"
   ],
   "id": "19beab768bbff95b",
   "outputs": [
    {
     "name": "stdout",
     "output_type": "stream",
     "text": [
      "['Python', 'SQL', 'Java', 'C++', 'JavaScript']\n",
      "languages = ['Python', 'SQL', 'Java', 'C++']\n",
      "languages = ['Python', 'Java', 'C++']\n",
      "temp = 'SQL'\n",
      "languages = ['Python', 'Java', 'C++', 'SQL']\n",
      "languages = []\n"
     ]
    }
   ],
   "execution_count": 9
  },
  {
   "metadata": {},
   "cell_type": "markdown",
   "source": [
    "> 说明：`pop`方法删除元素时，会得到被删除的元素。在上述代码中，将`pop`方法删除的元素赋值给了名为`temp`的变量。当然，也可把这个元素再次加入到列表中，即如代码`langauage.append(temp)`中所做的那样.\n",
    "\n",
    "这里还有一个小问题，例如`languages`中如果有多个`'Python'`，那么用`languages.remove('Python')`将是删除所有的`'Python'`，还是删除第一个`‘Python’`?\n",
    "答： 只删除第一个`'Python'`\n"
   ],
   "id": "df939a47f56482ce"
  },
  {
   "metadata": {
    "ExecuteTime": {
     "end_time": "2025-10-13T02:55:17.397188Z",
     "start_time": "2025-10-13T02:55:17.394238Z"
    }
   },
   "cell_type": "code",
   "source": [
    "exmple_languages = ['Python', 'Java', 'Python', 'C++']\n",
    "print(f'{exmple_languages = }') # ['Python', 'Java', 'Python', 'C++']\n",
    "\n",
    "exmple_languages.remove('Python')\n",
    "print(f'{exmple_languages}') # ['Java', 'Python', 'C++']"
   ],
   "id": "237fe3f826b4adcf",
   "outputs": [
    {
     "name": "stdout",
     "output_type": "stream",
     "text": [
      "exmple_languages = ['Python', 'Java', 'Python', 'C++']\n",
      "['Java', 'Python', 'C++']\n"
     ]
    }
   ],
   "execution_count": 10
  },
  {
   "metadata": {},
   "cell_type": "markdown",
   "source": "从列表中删除元素其实还有一种方式，就是使用Python中的中的`del`关键字后面跟要删除的元素，这种做法跟使用`pop`方法指定索引删除元素没有实质性的区别，但后者会返回删除的元素，`del`在性能上略优，因为`del`对应的底层字节码指令是`DELETE_SUBSCR`, 而`pop`对应的底层字节码指令是`CALL_METHOD`和`POP_TOP`。",
   "id": "19a1c441fb333423"
  },
  {
   "metadata": {
    "ExecuteTime": {
     "end_time": "2025-10-13T03:01:44.598691Z",
     "start_time": "2025-10-13T03:01:44.595020Z"
    }
   },
   "cell_type": "code",
   "source": [
    "items = ['Python', 'Java', 'C++']\n",
    "print(f'{items = }')\n",
    "del items[1]\n",
    "print(f'{items = }') # ['Python', 'C++']"
   ],
   "id": "d5679266b9eb6fff",
   "outputs": [
    {
     "name": "stdout",
     "output_type": "stream",
     "text": [
      "items = ['Python', 'Java', 'C++']\n",
      "items = ['Python', 'C++']\n"
     ]
    }
   ],
   "execution_count": 11
  },
  {
   "metadata": {},
   "cell_type": "markdown",
   "source": [
    "### 元素位置和频次\n",
    "列表的`index`方法可以查找某个元素在列表中的**索引位置**，如果找不到指定的元素，`index`方法会引发`ValueError`的错误；列表的`count`方法可以统计一个元素在列表中出现的次数。"
   ],
   "id": "3ea91a2d2b2e135"
  },
  {
   "metadata": {
    "ExecuteTime": {
     "end_time": "2025-10-13T03:51:08.442905Z",
     "start_time": "2025-10-13T03:51:08.428238Z"
    }
   },
   "cell_type": "code",
   "source": [
    "items = ['Python', 'Java', 'Java', 'C++', 'Kotlin', 'Python']\n",
    "if 'Python' in items:\n",
    "    print(items.index('Python')) # 0\n",
    "\n",
    "# 从索引位置1开始查找'Python'\n",
    "if 'Python' in items:\n",
    "    print(items.index('Python', 1)) # 5\n",
    "\n",
    "# count 函数不需要元素在列表中存在\n",
    "print(items.count('Python')) # 2\n",
    "print(items.count('Kotlin')) # 1\n",
    "print(items.count('Swift')) # 0\n",
    "\n",
    "# 从索位置3开始查找Java\n",
    "if 'Java' in items:\n",
    "    print(items.index('Java', 3)) # ValueError: 'Java' is not in list\n"
   ],
   "id": "9872bd70cea09473",
   "outputs": [
    {
     "name": "stdout",
     "output_type": "stream",
     "text": [
      "0\n",
      "5\n",
      "2\n",
      "1\n",
      "0\n"
     ]
    },
    {
     "ename": "ValueError",
     "evalue": "'Java' is not in list",
     "output_type": "error",
     "traceback": [
      "\u001B[0;31m---------------------------------------------------------------------------\u001B[0m",
      "\u001B[0;31mValueError\u001B[0m                                Traceback (most recent call last)",
      "Cell \u001B[0;32mIn[19], line 16\u001B[0m\n\u001B[1;32m     14\u001B[0m \u001B[38;5;66;03m# 从索位置3开始查找Java\u001B[39;00m\n\u001B[1;32m     15\u001B[0m \u001B[38;5;28;01mif\u001B[39;00m \u001B[38;5;124m'\u001B[39m\u001B[38;5;124mJava\u001B[39m\u001B[38;5;124m'\u001B[39m \u001B[38;5;129;01min\u001B[39;00m items:\n\u001B[0;32m---> 16\u001B[0m     \u001B[38;5;28mprint\u001B[39m(\u001B[43mitems\u001B[49m\u001B[38;5;241;43m.\u001B[39;49m\u001B[43mindex\u001B[49m\u001B[43m(\u001B[49m\u001B[38;5;124;43m'\u001B[39;49m\u001B[38;5;124;43mJava\u001B[39;49m\u001B[38;5;124;43m'\u001B[39;49m\u001B[43m,\u001B[49m\u001B[43m \u001B[49m\u001B[38;5;241;43m3\u001B[39;49m\u001B[43m)\u001B[49m)\n",
      "\u001B[0;31mValueError\u001B[0m: 'Java' is not in list"
     ]
    }
   ],
   "execution_count": 19
  },
  {
   "metadata": {},
   "cell_type": "markdown",
   "source": [
    "### 元素排序和反转\n",
    "列表的`sort`操作可以实现列表元素的排序，而`reverse`操作可实现元素的反转."
   ],
   "id": "2e9c1f599fc8b99b"
  },
  {
   "metadata": {
    "ExecuteTime": {
     "end_time": "2025-10-13T03:58:06.810978Z",
     "start_time": "2025-10-13T03:58:06.807354Z"
    }
   },
   "cell_type": "code",
   "source": [
    "items = ['Python', 'Java', 'C++', 'Kotlin', 'Swift']\n",
    "print(f'{items = }')\n",
    "\n",
    "items.sort()\n",
    "print(f'items.sort()  = {items}') # ['C++', 'Java', 'Kotlin', 'Python', 'Swift']\n",
    "\n",
    "items.reverse()\n",
    "print(f'items.reverse() = {items}') # ['Swift', 'Python', 'Kotlin', 'Java', 'C++']\n",
    "\n"
   ],
   "id": "f66997cc586799f",
   "outputs": [
    {
     "name": "stdout",
     "output_type": "stream",
     "text": [
      "items = ['Python', 'Java', 'C++', 'Kotlin', 'Swift']\n",
      "items.sort()  = ['C++', 'Java', 'Kotlin', 'Python', 'Swift']\n",
      "items.reverse() = ['Swift', 'Python', 'Kotlin', 'Java', 'C++']\n"
     ]
    }
   ],
   "execution_count": 21
  },
  {
   "metadata": {},
   "cell_type": "markdown",
   "source": [
    "### 列表的生成式\n",
    "在Python中，列表还可以通过一种特殊的字面量语法来创建，这种语法叫做**生成式**。以下是一些例子，用于说明使用“列表生成式”创建列表的优点。\n",
    "\n",
    "场景一：创新一个范围在`1`到`99`且能被`3`或者`5`整除的数字构成的列表"
   ],
   "id": "5e294d2975c681f7"
  },
  {
   "metadata": {
    "ExecuteTime": {
     "end_time": "2025-10-13T04:02:34.694703Z",
     "start_time": "2025-10-13T04:02:34.692186Z"
    }
   },
   "cell_type": "code",
   "source": [
    "nums = []\n",
    "for i in range(1, 100): # 必须要加上1，不然0也会被加入，不满足场景要求。\n",
    "    if i % 3 ==0 or i % 5 == 0:\n",
    "        nums.append(i)\n",
    "print(f'{nums = }')"
   ],
   "id": "a10de4f3e4137c1d",
   "outputs": [
    {
     "name": "stdout",
     "output_type": "stream",
     "text": [
      "nums = [0, 3, 5, 6, 9, 10, 12, 15, 18, 20, 21, 24, 25, 27, 30, 33, 35, 36, 39, 40, 42, 45, 48, 50, 51, 54, 55, 57, 60, 63, 65, 66, 69, 70, 72, 75, 78, 80, 81, 84, 85, 87, 90, 93, 95, 96, 99]\n"
     ]
    }
   ],
   "execution_count": 24
  },
  {
   "metadata": {
    "ExecuteTime": {
     "end_time": "2025-10-13T04:04:55.271711Z",
     "start_time": "2025-10-13T04:04:55.268614Z"
    }
   },
   "cell_type": "code",
   "source": [
    "# 使用生成式列表实现上述场景：\n",
    "\n",
    "items = [i for i in range(1, 100) if i % 3 == 0 or i % 5 == 0]\n",
    "print(f'{items = }')"
   ],
   "id": "929bfa9f2e4f87de",
   "outputs": [
    {
     "name": "stdout",
     "output_type": "stream",
     "text": [
      "items = [3, 5, 6, 9, 10, 12, 15, 18, 20, 21, 24, 25, 27, 30, 33, 35, 36, 39, 40, 42, 45, 48, 50, 51, 54, 55, 57, 60, 63, 65, 66, 69, 70, 72, 75, 78, 80, 81, 84, 85, 87, 90, 93, 95, 96, 99]\n"
     ]
    }
   ],
   "execution_count": 25
  },
  {
   "metadata": {},
   "cell_type": "markdown",
   "source": "场景二： 有一个整数列表`nums1`，创建一个新的列表`nums2`，`nums2`中的元素是`nums1`中对应元素的平方。",
   "id": "7d1e6f0840d43ee4"
  },
  {
   "metadata": {
    "ExecuteTime": {
     "end_time": "2025-10-13T04:11:32.706182Z",
     "start_time": "2025-10-13T04:11:32.702242Z"
    }
   },
   "cell_type": "code",
   "source": [
    "import random\n",
    "nums1 = [i for i in range(random.randrange(1, 10 + 1)) if i % 1 == 0]\n",
    "print(f'{nums1 = }')\n",
    "\n",
    "nums2 = []\n",
    "for j in range(len(nums1)):\n",
    "    nums2.append(nums1[j] ** 2)\n",
    "print(f'{nums2 = }')"
   ],
   "id": "95659e3c3e00002a",
   "outputs": [
    {
     "name": "stdout",
     "output_type": "stream",
     "text": [
      "nums1 = [0, 1, 2, 3, 4, 5, 6, 7]\n",
      "nums2 = [0, 1, 4, 9, 16, 25, 36, 49]\n"
     ]
    }
   ],
   "execution_count": 41
  },
  {
   "metadata": {
    "ExecuteTime": {
     "end_time": "2025-10-13T04:21:46.486867Z",
     "start_time": "2025-10-13T04:21:46.483874Z"
    }
   },
   "cell_type": "code",
   "source": [
    "# 参考答案 - 1\n",
    "# 首先，创造一个包含随机个若干整数的数组\n",
    "k = random.randrange(1, 11)\n",
    "nums1 = []\n",
    "for _ in range(k):\n",
    "    i = random.randrange(100)\n",
    "    nums1.append(i)\n",
    "nums1.sort()\n",
    "print(f'{nums1 = }')\n",
    "\n",
    "# 将上述内容整理一个\n",
    "nums2 = []\n",
    "for nums in nums1:\n",
    "    nums2.append(nums ** 2)\n",
    "print(f'{nums2 = }')"
   ],
   "id": "b4555db822c3a11a",
   "outputs": [
    {
     "name": "stdout",
     "output_type": "stream",
     "text": [
      "nums1 = [4, 51, 80, 96]\n",
      "nums2 = [16, 2601, 6400, 9216]\n"
     ]
    }
   ],
   "execution_count": 155
  },
  {
   "metadata": {
    "ExecuteTime": {
     "end_time": "2025-10-13T04:23:07.883682Z",
     "start_time": "2025-10-13T04:23:07.879913Z"
    }
   },
   "cell_type": "code",
   "source": [
    "# 参考答案 -2 （生成式结构）\n",
    "# 首先，创造一个包含随机个整数的数组\n",
    "k = random.randrange(1, 11)\n",
    "nums1 = []\n",
    "for _ in range(k):\n",
    "    i = random.randrange(100)\n",
    "    nums1.append(i)\n",
    "nums1.sort()\n",
    "print(f'{nums1 = }')\n",
    "\n",
    "# 一句话生成nums2\n",
    "nums2 = [num ** 2 for num in nums1]\n",
    "print(f'{nums2 = }')"
   ],
   "id": "7630b14d894c657c",
   "outputs": [
    {
     "name": "stdout",
     "output_type": "stream",
     "text": [
      "nums1 = [27, 27, 33, 57, 58, 72, 72, 74, 77, 94]\n",
      "nums2 = [729, 729, 1089, 3249, 3364, 5184, 5184, 5476, 5929, 8836]\n"
     ]
    }
   ],
   "execution_count": 156
  },
  {
   "metadata": {},
   "cell_type": "markdown",
   "source": "场景三：有一个整数列表nums1，创建一个新的列表nums2，将nums1中大于50的元素放大nums2中",
   "id": "70def93e53c908b7"
  },
  {
   "metadata": {
    "ExecuteTime": {
     "end_time": "2025-10-13T04:29:28.069652Z",
     "start_time": "2025-10-13T04:29:28.064811Z"
    }
   },
   "cell_type": "code",
   "source": [
    "# 首先，创建一个所有元素在【0， 100】以内的，元素数量随机的列表\n",
    "import random\n",
    "k = random.randrange(1, 11)\n",
    "nums1 = []\n",
    "for _ in range(k):\n",
    "    i = random.randrange(0, 100)\n",
    "    nums1.append(i)\n",
    "nums1.sort()\n",
    "print(f'{nums1 = }', end = ' ')\n",
    "\n",
    "# 然后用一句生成式实现场景3\n",
    "nums2 = [num for num in nums1 if num > 50]\n",
    "print(f'{nums2 = }')"
   ],
   "id": "346f047a9d1bca7b",
   "outputs": [
    {
     "name": "stdout",
     "output_type": "stream",
     "text": [
      "nums1 = [1, 2, 32, 33, 34, 35, 56, 63, 89, 97] nums2 = [56, 63, 89, 97]\n"
     ]
    }
   ],
   "execution_count": 163
  },
  {
   "metadata": {},
   "cell_type": "markdown",
   "source": [
    "> 说明：使用列表生成式创建列表不仅代码简单优雅，而且性能上也优于使用`for-in`循环和`append`方法向空列表中追加元素的方式。因为 Python 解释器的字节码指令中有专门针对生成式的指令（`LIST_APPEND`指令）；而`for`循环是通过方法调用（`LOAD_METHOD`和`CALL_METHOD`指令）的方式为列表添加元素，方法调用本身就是一个相对比较耗时的操作。**“强烈建议用生成式语法来创建列表”**。\n",
    "\n",
    "###嵌套列表\n",
    "Python语言中没有限定列表中的元素必须是相同的数据类型，也就是说一个列表中的元素可以是任意的数据类型，当然也包括列表本身。如果列表中的元素也是列表，即嵌套的列表。嵌套的列表可以用来表示表格或数据学上的矩阵。\n",
    "\n",
    "例如：保存5个学生和3门课程的成绩，可以用如下所示的列表"
   ],
   "id": "29b1f68bfe0675d2"
  },
  {
   "metadata": {
    "ExecuteTime": {
     "end_time": "2025-10-13T07:07:14.975472Z",
     "start_time": "2025-10-13T07:07:14.972673Z"
    }
   },
   "cell_type": "code",
   "source": [
    "scores = [[95, 83, 92], [80, 75, 82], [92, 97, 90], [80, 78, 69], [65, 66, 89]]\n",
    "print(f'{scores[0] = }') # [95, 83, 92]\n",
    "print(f'{scores[0][1] = }') # 83"
   ],
   "id": "1e04051b16609136",
   "outputs": [
    {
     "name": "stdout",
     "output_type": "stream",
     "text": [
      "scores[0] = [95, 83, 92]\n",
      "scores[0][1] = 83\n"
     ]
    }
   ],
   "execution_count": 3
  },
  {
   "metadata": {},
   "cell_type": "markdown",
   "source": [
    "对于上面的的嵌套表表，每个元素相当于就是一个学生3门课程的成绩，例如`[95, 83, 92]`，而这个列表中的83代表了这个学生某一门课的成绩，如果想访问这个值，可以使用**两次**索引运算scores[0][1]，其中，scores[0]可以得到[92, 83, 92]这个列表，再次使用索引运算[1]就可以获得该列表中的第二个元素。\n",
    "\n",
    "如果想通过键盘输入的方式来录入5个学生3门课的成绩并保存在列表中，可以使用如下的代码："
   ],
   "id": "736b1832ef24d754"
  },
  {
   "metadata": {
    "ExecuteTime": {
     "end_time": "2025-10-13T07:28:19.838818Z",
     "start_time": "2025-10-13T07:28:05.350968Z"
    }
   },
   "cell_type": "code",
   "source": [
    "# 使用键盘输入5名学的成绩，假设分别为A, B, C, D, E 5人，每人的成绩依次为语文、数学、英文，成绩都在0～100，且都为整数。\n",
    "\n",
    "scores = []\n",
    "for i in range(1,6):\n",
    "    temp = []\n",
    "    for j in range(1,4):\n",
    "        score = int(input(f'请输入学生{i}的第{j}门课的成绩：'))\n",
    "        temp.append(score)\n",
    "    scores.append(temp)\n",
    "    print(f'第{i}人的三门课成绩为{scores[i - 1]}') # 为了符合阅读习惯，所以i是从1开始的，但scores[]的索引是从0开始\n",
    "print(scores)"
   ],
   "id": "fa7b47a662cd454f",
   "outputs": [
    {
     "name": "stdout",
     "output_type": "stream",
     "text": [
      "第1人的三门课成绩为[1, 1, 1]\n",
      "第2人的三门课成绩为[1, 1, 1]\n",
      "第3人的三门课成绩为[1, 1, 1]\n",
      "第4人的三门课成绩为[1, 1, 1]\n",
      "第5人的三门课成绩为[1, 1, 1]\n",
      "[[1, 1, 1], [1, 1, 1], [1, 1, 1], [1, 1, 1], [1, 1, 1]]\n"
     ]
    }
   ],
   "execution_count": 7
  },
  {
   "metadata": {},
   "cell_type": "markdown",
   "source": "如果通过产生随机数的方式来生成n名学生的m门课程成绩，可以使用**列表**生成式，如下:",
   "id": "e7130fa6b2a01078"
  },
  {
   "metadata": {
    "ExecuteTime": {
     "end_time": "2025-10-13T07:31:36.176342Z",
     "start_time": "2025-10-13T07:31:36.173587Z"
    }
   },
   "cell_type": "code",
   "source": [
    "import random\n",
    "scores = [[random.randrange(60, 101) for _ in range(3)] for _ in range(5)]\n",
    "print(scores)"
   ],
   "id": "e6539059443aa925",
   "outputs": [
    {
     "name": "stdout",
     "output_type": "stream",
     "text": [
      "[[83, 78, 97], [93, 61, 85], [67, 76, 81], [82, 92, 62], [77, 95, 92]]\n"
     ]
    }
   ],
   "execution_count": 15
  },
  {
   "metadata": {},
   "cell_type": "markdown",
   "source": [
    "> 说明：上面的代码`[random.randrange(60, 101) for _ in range(3)]`可以产生由3个随机整数构成的列表，然后又将这段代码放在了另一个列表生成式中作为列表的元素，这样的元素一共5个，最终可以得到一个嵌套列表。\n",
    "\n",
    "### 列表的应用\n",
    "通过双色球随机选号的例子为大家讲解列表的应用。双色球是由中国福利彩票发行管理中心发售的乐透型彩票，每注投注号码由6个红色球和1个蓝色球组成。红色球号码从1到33中选择，蓝色球号码从1到16中选择。每注需要选择6个红色球号码和1个蓝色球号码。\n",
    "> 提示：知乎上有一段对国内各种形式的彩票本质的论述相当精彩，“虚构一个不劳而获的人，去忽悠一群想不劳而获的人，最终养活一批真正不劳而获的人”。很多对概率没有概念的人，甚至认为彩票中与不中的概率都是 50%；还有很多人认为如果中奖的概率是 1%，那么买 100 次就一定可以中奖，这些都是非常荒唐的想法。所以，珍爱生命，远离赌博，尤其是在对概率一无所知的情况下！\n"
   ],
   "id": "9072fcc716231268"
  },
  {
   "metadata": {
    "ExecuteTime": {
     "end_time": "2025-10-13T07:38:22.227602Z",
     "start_time": "2025-10-13T07:38:22.222104Z"
    }
   },
   "cell_type": "code",
   "source": [
    "# 下面的代码能够生成一级随机双色球式号码\n",
    "# 放回抽样\n",
    "import random\n",
    "bouns = [random.randrange(1, 34) for _ in range(1,7)]\n",
    "bouns.append(random.randrange(1, 17))\n",
    "print(f'{bouns}')"
   ],
   "id": "2b1e883b69999e03",
   "outputs": [
    {
     "name": "stdout",
     "output_type": "stream",
     "text": [
      "[16, 4, 24, 22, 11, 7, 16]\n"
     ]
    }
   ],
   "execution_count": 16
  },
  {
   "metadata": {
    "ExecuteTime": {
     "end_time": "2025-10-13T07:55:56.360362Z",
     "start_time": "2025-10-13T07:55:56.356852Z"
    }
   },
   "cell_type": "code",
   "source": [
    "# 无放回抽样，并且红色球要实现从小到大排序\n",
    "ball_list_red = [nums for nums in range(1, 34)]\n",
    "ball_list_blue = [nums for nums in range(1, 17)]\n",
    "# print(f'{ball_list_red}')\n",
    "# print(f'{ball_list_blue}')\n",
    "\n",
    "# 无放回抽取红球\n",
    "red = []\n",
    "for i in range(1, 7):\n",
    "    red_ball = random.choice(ball_list_red)\n",
    "    print(f'第{i}个红球的号码为{red_ball}')\n",
    "    if red_ball in ball_list_red:\n",
    "        ball_list_red.remove(red_ball)\n",
    "    red.append(red_ball)\n",
    "red.sort()\n",
    "print(f'红色球组合为{red}')\n",
    "\n",
    "# 抽取蓝色球\n",
    "blue = random.choice(ball_list_blue)\n",
    "print(f'蓝色球为{blue}')\n",
    "\n",
    "bouns = [_ for _ in red]\n",
    "bouns.append(blue)\n",
    "\n",
    "print(f'最终的中将号码为：{bouns}')\n",
    "\n"
   ],
   "id": "dee3d3b89f6b836f",
   "outputs": [
    {
     "name": "stdout",
     "output_type": "stream",
     "text": [
      "第1个红球的号码为13\n",
      "第2个红球的号码为25\n",
      "第3个红球的号码为17\n",
      "第4个红球的号码为1\n",
      "第5个红球的号码为6\n",
      "第6个红球的号码为18\n",
      "红色球组合为[1, 6, 13, 17, 18, 25]\n",
      "蓝色球为14\n",
      "最终的中将号码为：[1, 6, 13, 17, 18, 25, 14]\n"
     ]
    }
   ],
   "execution_count": 25
  },
  {
   "metadata": {
    "ExecuteTime": {
     "end_time": "2025-10-13T08:09:24.318513Z",
     "start_time": "2025-10-13T08:09:24.314563Z"
    }
   },
   "cell_type": "code",
   "source": [
    "# 以下为参考答案\n",
    "\"\"\"\n",
    "双色球随机选号程序————无放回选择\n",
    "\"\"\"\n",
    "import random\n",
    "red_balls = list(range(1, 34))\n",
    "select_balls = []\n",
    "\n",
    "# 添加6个红色球到选中列表\n",
    "for _ in range(6):\n",
    "    # 生成随机整数代表选中的红色球的索引位置\n",
    "    index = random.randrange(len(red_balls))\n",
    "    # 将选中的球从列表中移除，并添加到选中列表\n",
    "    select_balls.append(red_balls.pop(index))\n",
    "\n",
    "# 对选中的红色球进行排序\n",
    "select_balls.sort()\n",
    "\n",
    "# 输出选中的红色球\n",
    "for ball in select_balls:\n",
    "    print(f'\\033[031m{ball:0>2d}\\033[0m', end = ' ')\n",
    "\n",
    "# 随机选一个蓝色球\n",
    "blue_ball = random.randrange(1,17)\n",
    "# 输出选中的蓝色球\n",
    "print(f'\\033[034m{blue_ball:0>2d}\\033[0m')\n"
   ],
   "id": "689acae912b3c11a",
   "outputs": [
    {
     "name": "stdout",
     "output_type": "stream",
     "text": [
      "\u001B[031m02\u001B[0m \u001B[031m07\u001B[0m \u001B[031m16\u001B[0m \u001B[031m18\u001B[0m \u001B[031m19\u001B[0m \u001B[031m31\u001B[0m \u001B[034m10\u001B[0m\n"
     ]
    }
   ],
   "execution_count": 31
  },
  {
   "metadata": {},
   "cell_type": "markdown",
   "source": "> 说明：上面代码中`print(f'\\033[0m...\\033[0m')`是为了控制输出内容的颜色，红色球输出成红色，蓝色球输出成蓝色。其中省略号代表我们要输出的内容，`\\033[0m`是一个控制码，表示关闭所有属性，也就是说之前的控制码将会失效，也可以将其简单的理解为一个定界符，`m`前面的`0`表示控制台的显示方式为默认值，`0`可以省略，`1`表示高亮，`5`表示闪烁，`7`表示反显等。在`0`和`m`的中间，我们可以写上代表颜色的数字，比如`30`代表黑色，`31`代表红色，`32`代表绿色，`33`代表黄色，`34`代表蓝色等。",
   "id": "bad169fabaa7a91e"
  },
  {
   "metadata": {},
   "cell_type": "markdown",
   "source": "还可以利用`random`模块提供的`sample`和`choice`函数来简化上面的代码，前者可以实现无放回随机抽样，后者可以实现随机抽取一个元素，修改后的代码如下所示：",
   "id": "a3d56f57f9d74023"
  },
  {
   "metadata": {
    "ExecuteTime": {
     "end_time": "2025-10-13T08:22:44.153184Z",
     "start_time": "2025-10-13T08:22:44.149598Z"
    }
   },
   "cell_type": "code",
   "source": [
    "import random\n",
    "red_ball = [_ for _ in range(1, 34)]\n",
    "blue_ball = list(range(1,17)) # 与上面的代码是一样的实现效果\n",
    "# print(f'{red_ball = }')\n",
    "# print(f'{blue_ball = }')\n",
    "\n",
    "# 从红色球堆中抽取6个球，无放回抽样\n",
    "select_red_balls = random.sample(red_ball, 6)\n",
    "select_red_balls.sort()\n",
    "\n",
    "# 输出选中的红色球\n",
    "for ball in select_red_balls:\n",
    "    print(f'\\033[031m{ball:0>2d}\\033[0m', end = ' ')\n",
    "\n",
    "# 选择并输出蓝色球\n",
    "blue_ball_selected = random.choice(blue_ball)\n",
    "print(f'\\033[034m{blue_ball_selected:0>2d}\\033[0m', end = '')"
   ],
   "id": "e4c393ac9e98e0ae",
   "outputs": [
    {
     "name": "stdout",
     "output_type": "stream",
     "text": [
      "\u001B[031m05\u001B[0m \u001B[031m09\u001B[0m \u001B[031m14\u001B[0m \u001B[031m20\u001B[0m \u001B[031m24\u001B[0m \u001B[031m30\u001B[0m \u001B[034m09\u001B[0m"
     ]
    }
   ],
   "execution_count": 52
  },
  {
   "metadata": {},
   "cell_type": "markdown",
   "source": "如果要实现随机生成`N`注号码，只需要将上面的代码放在一个`N`次的循环中，如下所示：",
   "id": "78884435987800e9"
  },
  {
   "metadata": {
    "ExecuteTime": {
     "end_time": "2025-10-13T08:43:43.712289Z",
     "start_time": "2025-10-13T08:43:41.694335Z"
    }
   },
   "cell_type": "code",
   "source": [
    "import random\n",
    "N = int(input('请输入想要生成的双色球号码注数'))\n",
    "for _ in range(N):\n",
    "    red_ball = [_ for _ in range(1, 34)]\n",
    "    blue_ball = list(range(1,17)) # 与上面的代码是一样的实现效果\n",
    "    # print(f'{red_ball = }')\n",
    "    # print(f'{blue_ball = }')\n",
    "\n",
    "    # 从红色球堆中抽取6个球，无放回抽样\n",
    "    select_red_balls = random.sample(red_ball, 6)\n",
    "    select_red_balls.sort()\n",
    "\n",
    "    # 输出选中的红色球\n",
    "    for ball in select_red_balls:\n",
    "        print(f'\\033[031m{ball:0>2d}\\033[0m', end = ' ')\n",
    "\n",
    "    # 选择并输出蓝色球\n",
    "    blue_ball_selected = random.choice(blue_ball)\n",
    "    print(f'\\033[034m{blue_ball_selected:0>2d}\\033[0m')"
   ],
   "id": "3b8ac68d95cf0017",
   "outputs": [
    {
     "name": "stdout",
     "output_type": "stream",
     "text": [
      "\u001B[031m07\u001B[0m \u001B[031m17\u001B[0m \u001B[031m26\u001B[0m \u001B[031m29\u001B[0m \u001B[031m30\u001B[0m \u001B[031m31\u001B[0m \u001B[034m02\u001B[0m\n",
      "\u001B[031m04\u001B[0m \u001B[031m09\u001B[0m \u001B[031m11\u001B[0m \u001B[031m18\u001B[0m \u001B[031m27\u001B[0m \u001B[031m30\u001B[0m \u001B[034m06\u001B[0m\n",
      "\u001B[031m03\u001B[0m \u001B[031m21\u001B[0m \u001B[031m24\u001B[0m \u001B[031m26\u001B[0m \u001B[031m31\u001B[0m \u001B[031m33\u001B[0m \u001B[034m03\u001B[0m\n",
      "\u001B[031m01\u001B[0m \u001B[031m02\u001B[0m \u001B[031m06\u001B[0m \u001B[031m08\u001B[0m \u001B[031m10\u001B[0m \u001B[031m21\u001B[0m \u001B[034m07\u001B[0m\n"
     ]
    }
   ],
   "execution_count": 57
  },
  {
   "metadata": {},
   "cell_type": "markdown",
   "source": " 使用的 Python 三方库rich，用最简单的方式产生最漂亮的输出。",
   "id": "5a5afd198eaba517"
  },
  {
   "metadata": {
    "ExecuteTime": {
     "end_time": "2025-10-15T02:03:35.864742Z",
     "start_time": "2025-10-15T02:03:32.257433Z"
    }
   },
   "cell_type": "code",
   "source": [
    "import random\n",
    "from rich.console import Console\n",
    "from rich.table import Table\n",
    "\n",
    "# 创建控制台\n",
    "console = Console()\n",
    "\n",
    "n = int(input('请输入要生成的 n 注双色球式号码：'))\n",
    "red_balls = list(range(1,34))\n",
    "blue_balls = [nums for nums in range(1, 17)]\n",
    "\n",
    "# 创建并添加表头\n",
    "table = Table(show_header = True)\n",
    "for col_name in ('序号', '红球', '蓝球'):\n",
    "    table.add_column(col_name, justify = 'center')\n",
    "\n",
    "for i in range(n):\n",
    "    selected_balls = random.sample(red_balls, 6)\n",
    "    selected_balls.sort()\n",
    "    blue_ball = random.choice(blue_balls)\n",
    "\n",
    "    # 向表格中添加行（序号，红色球，蓝色球）\n",
    "    table.add_row(\n",
    "        str(i + 1),\n",
    "        f'[red]{\" \".join([f\"{ball:0>2d}\" for ball in selected_balls])}[/red]', # 这个逗号不能缺\n",
    "        f'[blue]{blue_ball:0>2d}[/blue]'\n",
    "    )\n",
    "\n",
    "# 通过控制台来输出表格\n",
    "console.print(table)"
   ],
   "id": "6fae1acf6048c9d6",
   "outputs": [
    {
     "data": {
      "text/plain": [
       "┏━━━━━━┳━━━━━━━━━━━━━━━━━━━┳━━━━━━┓\n",
       "┃\u001B[1m \u001B[0m\u001B[1m序号\u001B[0m\u001B[1m \u001B[0m┃\u001B[1m \u001B[0m\u001B[1m      红球       \u001B[0m\u001B[1m \u001B[0m┃\u001B[1m \u001B[0m\u001B[1m蓝球\u001B[0m\u001B[1m \u001B[0m┃\n",
       "┡━━━━━━╇━━━━━━━━━━━━━━━━━━━╇━━━━━━┩\n",
       "│  1   │ \u001B[31m01 03 05 14 24 25\u001B[0m │  \u001B[34m16\u001B[0m  │\n",
       "│  2   │ \u001B[31m01 02 04 13 19 29\u001B[0m │  \u001B[34m09\u001B[0m  │\n",
       "│  3   │ \u001B[31m12 13 14 16 28 31\u001B[0m │  \u001B[34m02\u001B[0m  │\n",
       "│  4   │ \u001B[31m09 11 18 24 29 31\u001B[0m │  \u001B[34m02\u001B[0m  │\n",
       "└──────┴───────────────────┴──────┘\n"
      ],
      "text/html": [
       "<pre style=\"white-space:pre;overflow-x:auto;line-height:normal;font-family:Menlo,'DejaVu Sans Mono',consolas,'Courier New',monospace\">┏━━━━━━┳━━━━━━━━━━━━━━━━━━━┳━━━━━━┓\n",
       "┃<span style=\"font-weight: bold\"> 序号 </span>┃<span style=\"font-weight: bold\">       红球        </span>┃<span style=\"font-weight: bold\"> 蓝球 </span>┃\n",
       "┡━━━━━━╇━━━━━━━━━━━━━━━━━━━╇━━━━━━┩\n",
       "│  1   │ <span style=\"color: #800000; text-decoration-color: #800000\">01 03 05 14 24 25</span> │  <span style=\"color: #000080; text-decoration-color: #000080\">16</span>  │\n",
       "│  2   │ <span style=\"color: #800000; text-decoration-color: #800000\">01 02 04 13 19 29</span> │  <span style=\"color: #000080; text-decoration-color: #000080\">09</span>  │\n",
       "│  3   │ <span style=\"color: #800000; text-decoration-color: #800000\">12 13 14 16 28 31</span> │  <span style=\"color: #000080; text-decoration-color: #000080\">02</span>  │\n",
       "│  4   │ <span style=\"color: #800000; text-decoration-color: #800000\">09 11 18 24 29 31</span> │  <span style=\"color: #000080; text-decoration-color: #000080\">02</span>  │\n",
       "└──────┴───────────────────┴──────┘\n",
       "</pre>\n"
      ]
     },
     "metadata": {},
     "output_type": "display_data"
    }
   ],
   "execution_count": 3
  },
  {
   "metadata": {
    "ExecuteTime": {
     "end_time": "2025-10-13T09:01:15.156892Z",
     "start_time": "2025-10-13T09:01:13.488670Z"
    }
   },
   "cell_type": "code",
   "source": [
    "#\n",
    "\"\"\"\n",
    "双色球随机选号程序\n",
    "\n",
    "Author: 骆昊\n",
    "Version: 1.3\n",
    "\"\"\"\n",
    "import random\n",
    "\n",
    "from rich.console import Console\n",
    "from rich.table import Table\n",
    "\n",
    "# 创建控制台\n",
    "console = Console()\n",
    "\n",
    "n = int(input('生成几注号码: '))\n",
    "red_balls = [i for i in range(1, 34)]\n",
    "blue_balls = [i for i in range(1, 17)]\n",
    "\n",
    "# 创建表格并添加表头\n",
    "table = Table(show_header=True)\n",
    "for col_name in ('序号', '红球', '蓝球'):\n",
    "    table.add_column(col_name, justify='center')\n",
    "\n",
    "for i in range(n):\n",
    "    selected_balls = random.sample(red_balls, 6)\n",
    "    selected_balls.sort()\n",
    "    blue_ball = random.choice(blue_balls)\n",
    "    # 向表格中添加行（序号，红色球，蓝色球）\n",
    "    table.add_row(\n",
    "        str(i + 1),\n",
    "        f'[red]{\" \".join([f\"{ball:0>2d}\" for ball in selected_balls])}[/red]',\n",
    "        f'[blue]{blue_ball:0>2d}[/blue]'\n",
    "    )\n",
    "\n",
    "# 通过控制台输出表格\n",
    "console.print(table)"
   ],
   "id": "6ac1ea30a3e21d32",
   "outputs": [
    {
     "data": {
      "text/plain": [
       "┏━━━━━━┳━━━━━━━━━━━━━━━━━━━┳━━━━━━┓\n",
       "┃\u001B[1m \u001B[0m\u001B[1m序号\u001B[0m\u001B[1m \u001B[0m┃\u001B[1m \u001B[0m\u001B[1m      红球       \u001B[0m\u001B[1m \u001B[0m┃\u001B[1m \u001B[0m\u001B[1m蓝球\u001B[0m\u001B[1m \u001B[0m┃\n",
       "┡━━━━━━╇━━━━━━━━━━━━━━━━━━━╇━━━━━━┩\n",
       "│  1   │ \u001B[31m08 15 21 26 27 30\u001B[0m │  \u001B[34m03\u001B[0m  │\n",
       "│  2   │ \u001B[31m04 08 09 14 24 26\u001B[0m │  \u001B[34m11\u001B[0m  │\n",
       "│  3   │ \u001B[31m04 06 09 13 16 17\u001B[0m │  \u001B[34m06\u001B[0m  │\n",
       "│  4   │ \u001B[31m06 08 12 16 20 25\u001B[0m │  \u001B[34m09\u001B[0m  │\n",
       "│  5   │ \u001B[31m02 14 18 22 23 27\u001B[0m │  \u001B[34m11\u001B[0m  │\n",
       "└──────┴───────────────────┴──────┘\n"
      ],
      "text/html": [
       "<pre style=\"white-space:pre;overflow-x:auto;line-height:normal;font-family:Menlo,'DejaVu Sans Mono',consolas,'Courier New',monospace\">┏━━━━━━┳━━━━━━━━━━━━━━━━━━━┳━━━━━━┓\n",
       "┃<span style=\"font-weight: bold\"> 序号 </span>┃<span style=\"font-weight: bold\">       红球        </span>┃<span style=\"font-weight: bold\"> 蓝球 </span>┃\n",
       "┡━━━━━━╇━━━━━━━━━━━━━━━━━━━╇━━━━━━┩\n",
       "│  1   │ <span style=\"color: #800000; text-decoration-color: #800000\">08 15 21 26 27 30</span> │  <span style=\"color: #000080; text-decoration-color: #000080\">03</span>  │\n",
       "│  2   │ <span style=\"color: #800000; text-decoration-color: #800000\">04 08 09 14 24 26</span> │  <span style=\"color: #000080; text-decoration-color: #000080\">11</span>  │\n",
       "│  3   │ <span style=\"color: #800000; text-decoration-color: #800000\">04 06 09 13 16 17</span> │  <span style=\"color: #000080; text-decoration-color: #000080\">06</span>  │\n",
       "│  4   │ <span style=\"color: #800000; text-decoration-color: #800000\">06 08 12 16 20 25</span> │  <span style=\"color: #000080; text-decoration-color: #000080\">09</span>  │\n",
       "│  5   │ <span style=\"color: #800000; text-decoration-color: #800000\">02 14 18 22 23 27</span> │  <span style=\"color: #000080; text-decoration-color: #000080\">11</span>  │\n",
       "└──────┴───────────────────┴──────┘\n",
       "</pre>\n"
      ]
     },
     "metadata": {},
     "output_type": "display_data"
    }
   ],
   "execution_count": 63
  },
  {
   "metadata": {},
   "cell_type": "markdown",
   "source": [
    "### 总结\n",
    "Python中的列表底层是一个可能动态扩容的数组，列表元素在计算机的内存中是连续存储的，可以实现随机访问（通过一个有效的索引获取对应的元素且操作时间与列表元素个数无关）。"
   ],
   "id": "58b38eac48a49f56"
  }
 ],
 "metadata": {
  "kernelspec": {
   "display_name": "Python 3",
   "language": "python",
   "name": "python3"
  },
  "language_info": {
   "codemirror_mode": {
    "name": "ipython",
    "version": 2
   },
   "file_extension": ".py",
   "mimetype": "text/x-python",
   "name": "python",
   "nbconvert_exporter": "python",
   "pygments_lexer": "ipython2",
   "version": "2.7.6"
  }
 },
 "nbformat": 4,
 "nbformat_minor": 5
}
